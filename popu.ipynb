{
 "cells": [
  {
   "cell_type": "code",
   "execution_count": 1,
   "metadata": {},
   "outputs": [
    {
     "data": {
      "text/plain": [
       "Country (or dependency)      int64\n",
       "Population (2020)            int64\n",
       "Density (P/Km²)              int64\n",
       "Land Area (Km²)              int64\n",
       "Migrants (net)             float64\n",
       "Med. Age                   float64\n",
       "Urban Pop %                float64\n",
       "TotalCases                 float64\n",
       "TotalDeaths                float64\n",
       "TotalRecovered             float64\n",
       "TotalTests                 float64\n",
       "free healthcare            float64\n",
       "dtype: object"
      ]
     },
     "execution_count": 1,
     "metadata": {},
     "output_type": "execute_result"
    }
   ],
   "source": [
    "import csv\n",
    "import requests\n",
    "from bs4 import BeautifulSoup\n",
    "import pandas as pd\n",
    "import numpy as np\n",
    "import matplotlib.pyplot as plt\n",
    "from sklearn.linear_model import LinearRegression\n",
    "from sklearn.model_selection import train_test_split\n",
    "from sklearn.metrics import r2_score, mean_squared_error\n",
    "import seaborn as sns\n",
    "import sup_func as sf\n",
    "\n",
    "#I get the df from website worldometers.info\n",
    "\n",
    "url_popu = 'https://www.worldometers.info/world-population/population-by-country/'\n",
    "url_covid = 'https://www.worldometers.info/coronavirus/#countries'\n",
    "r_popu = requests.get(url_popu)\n",
    "r_covid = requests.get(url_covid)\n",
    "soup_popu = BeautifulSoup(r_popu.content)\n",
    "soup_covid = BeautifulSoup(r_covid.content)\n",
    "countries_popu = soup_popu.find_all('table')[0]\n",
    "countries_covid = soup_covid.find_all('table')[0]\n",
    "df_popu = pd.read_html(str(countries_popu))[0]\n",
    "df_covid = pd.read_html(str(countries_covid))[0]\n",
    "\n",
    "#I get the columns that I want to use from df_popu\n",
    "\n",
    "df_raw = pd.DataFrame({'A' : []})\n",
    "df_raw['Country (or dependency)'] = df_popu['Country (or dependency)']\n",
    "df_raw['Population (2020)'] = df_popu['Population (2020)']\n",
    "df_raw['Density (P/Km²)'] = df_popu['Density (P/Km²)']\n",
    "df_raw['Land Area (Km²)'] = df_popu['Land Area (Km²)']\n",
    "df_raw['Migrants (net)'] = df_popu['Migrants (net)']\n",
    "df_raw['Med. Age'] = df_popu['Med. Age']\n",
    "df_raw['Urban Pop %'] = df_popu['Urban Pop %']\n",
    "df_raw = df_raw.dropna(how='all',axis=1)\n",
    "\n",
    "#After checking both countries columns, I try match both columns with below dictionary\n",
    "country_dic = {'USA':'United States', 'UK':'United Kingdom', 'S. Korea':'South Korea', 'UAE':'United Arab Emirates',\n",
    "               'Czechia':'Czech Republic (Czechia)', 'Ivory Coast':\"Côte d'Ivoire\", 'DRC':'DR Congo',\n",
    "               'Palestine':'State of Palestine', 'CAR':'Central African Republic', 'Saint Kitts and Nevis':'Saint Kitts & Nevis',\n",
    "               'St. Vincent Grenadines':'St. Vincent & Grenadines', 'Vatican City':'Holy See', 'St. Barth':'Saint Barthelemy',\n",
    "               'Sao Tome and Principe':'Sao Tome & Principe', 'Saint Pierre Miquelon':'Saint Pierre & Miquelon'}\n",
    "df_covid['Country (or dependency)'] = df_covid['Country,Other']\n",
    "df_covid.replace({'Country (or dependency)': country_dic},  inplace = True)\n",
    "#I remove the columns from df_covid that I am not interested in \n",
    "df_subs = df_covid.drop([df_covid.columns[8],'Country,Other','NewCases','NewDeaths','ActiveCases','Serious,Critical','Tests/ 1M pop','Deaths/1M pop'],axis=1)\n",
    "\n",
    "#I join both tables using as index the country\n",
    "df_raw = df_raw.join(df_subs.set_index('Country (or dependency)'), on='Country (or dependency)')\n",
    "\n",
    "#I have called dtypes to check where I have non-numeric columns to change its type.\n",
    "\n",
    "#lets start for Urban POP, I change % values to floats, 100% is 1 0% is 0\n",
    "indexes = df_raw.index.values.tolist()\n",
    "for index in indexes:\n",
    "    per = df_raw.loc[index,'Urban Pop %']\n",
    "    if per == 'N.A.':\n",
    "        df_raw.loc[index,'Urban Pop %'] = np.nan\n",
    "    else:\n",
    "        if type(per) is str:\n",
    "            if per == '0 %':\n",
    "                df_raw.loc[index,'Urban Pop %'] = 0\n",
    "            else:\n",
    "                df_raw.loc[index,'Urban Pop %'] = int(per[0:2])/100\n",
    "\n",
    "df_raw = df_raw.astype({'Urban Pop %': 'float64'})\n",
    "#Now I change the countries name to a number and replace the name with the number in the df\n",
    "countries_list = df_raw['Country (or dependency)'].unique()\n",
    "countries_list.sort()\n",
    "countries_dic = dict()\n",
    "k=0\n",
    "for country in countries_list:\n",
    "    countries_dic[country] = k\n",
    "    k +=1\n",
    "dic_reverse = {}\n",
    "for key,values in countries_dic.items():\n",
    "    dic_reverse[values] = key\n",
    "\n",
    "df_raw.replace({'Country (or dependency)': countries_dic},  inplace = True)\n",
    "#the last one is the Med Age. I change to a numeric, using coerce (imput NAN to errors)\n",
    "df_raw['Med. Age'] = pd.to_numeric(df_raw['Med. Age'],errors='coerce')\n",
    "#I am going to add a column of countries with free healthcare, migth be usefull\n",
    "df_healthcare = pd.read_csv('countries with free healthcare.csv')\n",
    "hc_edit = {'Czech Republic':'Czech Republic (Czechia)',\n",
    "           'Macau':'Macao',\n",
    "           'Saint Vincent and the Grenadines':'St. Vincent & Grenadines'}\n",
    "df_healthcare.replace({'name': hc_edit},  inplace = True)\n",
    "df_healthcare['free healthcare'] = 1\n",
    "df_healthcare.drop(['pop2020'], axis=1, inplace=True)\n",
    "df_healthcare.replace({'name': countries_dic},  inplace = True)\n",
    "df_raw = df_raw.join(df_healthcare.set_index('name'), on='Country (or dependency)')\n",
    "df_raw['free healthcare'].fillna(0, inplace=True)\n",
    "\n",
    "#df_raw.dtypes\n",
    "#now I am ready with my df, everything is a number\n",
    "\n",
    "\n",
    "df_raw.dtypes"
   ]
  },
  {
   "cell_type": "code",
   "execution_count": 2,
   "metadata": {},
   "outputs": [],
   "source": [
    "popu= df_raw['Population (2020)'].unique()\n",
    "\n",
    "dict_popu = {1: 'higher 1B', 2: 'between 100M and 1B', 3: 'between 30M and 100M', 4: 'between 10M and 30M', 5: 'between 1M and 10M', 6: 'less than 1M'}\n",
    "\n",
    "dic_replace_popu = sf.get_cat_popu(popu)\n",
    "\n"
   ]
  },
  {
   "cell_type": "code",
   "execution_count": 3,
   "metadata": {},
   "outputs": [],
   "source": [
    "df_raw['cat_population'] = df_raw['Population (2020)'] \n",
    "df_raw.replace({'cat_population':dic_replace_popu}, inplace=True)\n",
    "\n"
   ]
  },
  {
   "cell_type": "code",
   "execution_count": 5,
   "metadata": {},
   "outputs": [
    {
     "data": {
      "text/plain": [
       "Country (or dependency)      int64\n",
       "Population (2020)            int64\n",
       "Density (P/Km²)              int64\n",
       "Land Area (Km²)              int64\n",
       "Migrants (net)             float64\n",
       "Med. Age                   float64\n",
       "Urban Pop %                float64\n",
       "TotalCases                 float64\n",
       "TotalDeaths                float64\n",
       "TotalRecovered             float64\n",
       "TotalTests                 float64\n",
       "free healthcare            float64\n",
       "cat_population               int64\n",
       "dtype: object"
      ]
     },
     "execution_count": 5,
     "metadata": {},
     "output_type": "execute_result"
    }
   ],
   "source": [
    "df_raw.dtypes"
   ]
  },
  {
   "cell_type": "code",
   "execution_count": 6,
   "metadata": {},
   "outputs": [],
   "source": [
    "df_raw.replace({'cat_population':dict_popu}, inplace=True)"
   ]
  },
  {
   "cell_type": "code",
   "execution_count": 8,
   "metadata": {},
   "outputs": [
    {
     "data": {
      "text/plain": [
       "Country (or dependency)      int64\n",
       "Population (2020)            int64\n",
       "Density (P/Km²)              int64\n",
       "Land Area (Km²)              int64\n",
       "Migrants (net)             float64\n",
       "Med. Age                   float64\n",
       "Urban Pop %                float64\n",
       "TotalCases                 float64\n",
       "TotalDeaths                float64\n",
       "TotalRecovered             float64\n",
       "TotalTests                 float64\n",
       "free healthcare            float64\n",
       "cat_population              object\n",
       "dtype: object"
      ]
     },
     "execution_count": 8,
     "metadata": {},
     "output_type": "execute_result"
    }
   ],
   "source": [
    "df_raw.dtypes"
   ]
  },
  {
   "cell_type": "code",
   "execution_count": null,
   "metadata": {},
   "outputs": [],
   "source": [
    "df_raw['cat2_population'] = df_raw['Population (2020)'].rank(pct=True)\n"
   ]
  },
  {
   "cell_type": "code",
   "execution_count": null,
   "metadata": {},
   "outputs": [],
   "source": [
    "df_raw"
   ]
  },
  {
   "cell_type": "code",
   "execution_count": null,
   "metadata": {},
   "outputs": [],
   "source": [
    "dens = df_raw['Density (P/Km²)'].unique()\n",
    "dens.sort()\n",
    "for den in dens:\n",
    "    print(den)\n",
    "#dict_popu = {1: 'higher 1B', 2: 'between 100M and 1B', 3: 'between 30M and 100M', 4: 'between 10M and 30M', 5: 'between 1M and 10M', 6: 'less than 1M'}\n",
    "\n",
    "#dic_replace_popu = sf.get_cat_popu(popu)"
   ]
  },
  {
   "cell_type": "code",
   "execution_count": null,
   "metadata": {},
   "outputs": [],
   "source": [
    "#3 evaluations, cases, deaths and recovered\n",
    "\n",
    "df_cases = df_raw.drop(['TotalDeaths','TotalRecovered'],axis=1)\n",
    "df_deaths = df_raw.drop(['TotalCases','TotalRecovered'],axis=1)\n",
    "df_recovered = df_raw.drop(['TotalCases','TotalDeaths'],axis=1)\n",
    "\n",
    "#lets remove the NAN.\n",
    "df_cases = df_cases[df_cases['TotalCases'].isnull() == False]\n",
    "df_deaths = df_deaths[df_deaths['TotalDeaths'].isnull() == False]\n",
    "df_recovered = df_recovered[df_recovered['TotalRecovered'].isnull() == False]"
   ]
  },
  {
   "cell_type": "code",
   "execution_count": null,
   "metadata": {},
   "outputs": [],
   "source": [
    "\n",
    "\n",
    "#All below NAN values should be 0, nevertheless, I will consider them as 0\n",
    "df['Migrants (net)'].fillna(0, inplace=True)\n",
    "df['TotalDeaths'].fillna(0, inplace=True)\n",
    "df['TotalRecovered'].fillna(0, inplace=True)\n",
    "df['Deaths/1M pop'].fillna(0, inplace=True)\n",
    "df['TotalTests'].fillna(0, inplace=True)\n",
    "df['Tests/ 1M pop'].fillna(0, inplace=True)\n",
    "\n",
    "\n",
    "df.head()"
   ]
  },
  {
   "cell_type": "code",
   "execution_count": null,
   "metadata": {},
   "outputs": [],
   "source": [
    "\n"
   ]
  },
  {
   "cell_type": "code",
   "execution_count": null,
   "metadata": {},
   "outputs": [],
   "source": []
  },
  {
   "cell_type": "code",
   "execution_count": null,
   "metadata": {},
   "outputs": [],
   "source": [
    "#I am going to add a column of countries with free healthcare, migth be usefull\n",
    "\n",
    "\n",
    "\n",
    "y = df['TotalCases']\n",
    "\n",
    "df['Med. Age'].fillna((df['Med. Age'].mean()), inplace=True)\n",
    "df['Urban Pop %'].fillna((df['Urban Pop %'].mean()), inplace=True)\n",
    "df1 = df.drop(['TotalCases'], axis=1)\n",
    "X = df1\n",
    "\n",
    "X_train, X_test, y_train, y_test = train_test_split(X, y, test_size = .30, random_state=42) \n",
    "\n",
    "lm_model = LinearRegression(normalize=True) # Instantiate\n",
    "lm_model.fit(X_train, y_train) #Fit\n",
    "\n",
    "y_test_preds = lm_model.predict(X_test) \n",
    "y_train_preds = lm_model.predict(X_train)\n",
    "#Rsquared and y_test\n",
    "rsquared_score = r2_score(y_test, y_test_preds)\n",
    "length_y_test = len(y_test)\n",
    "test_score = r2_score(y_test, y_test_preds)\n",
    "train_score = r2_score(y_train, y_train_preds)\n"
   ]
  },
  {
   "cell_type": "code",
   "execution_count": null,
   "metadata": {},
   "outputs": [],
   "source": [
    "df.head()"
   ]
  },
  {
   "cell_type": "code",
   "execution_count": null,
   "metadata": {},
   "outputs": [],
   "source": [
    "\n",
    "df_temp = df_raw[df_raw['TotalCases'].isnull() == True]\n",
    "num_pop_nan = sum(df_temp['Population (2020)'])\n",
    "'NAN values for this column represents the {} % of the total population of the world'.format(num_pop_nan*100/np.sum(df_raw['Population (2020)']))\n",
    "\n"
   ]
  },
  {
   "cell_type": "code",
   "execution_count": null,
   "metadata": {},
   "outputs": [],
   "source": [
    "\"The r-squared score for your model was {} on {} values.\".format(rsquared_score, length_y_test)\n"
   ]
  },
  {
   "cell_type": "code",
   "execution_count": null,
   "metadata": {},
   "outputs": [],
   "source": [
    "print(\"The rsquared on the training data was {}.  The rsquared on the test data was {}.\".format(train_score, test_score))"
   ]
  },
  {
   "cell_type": "code",
   "execution_count": null,
   "metadata": {},
   "outputs": [],
   "source": [
    "df.hist();"
   ]
  },
  {
   "cell_type": "code",
   "execution_count": null,
   "metadata": {},
   "outputs": [],
   "source": [
    "sns.heatmap(df.corr(), annot= True, fmt='.2f');"
   ]
  },
  {
   "cell_type": "code",
   "execution_count": null,
   "metadata": {},
   "outputs": [],
   "source": [
    "df.dtypes\n"
   ]
  },
  {
   "cell_type": "code",
   "execution_count": null,
   "metadata": {},
   "outputs": [],
   "source": [
    "cutoffs = [300,200,100, 50, 30, 25,10,5]\n",
    "\n",
    "r2_scores_test, r2_scores_train, lm_model, X_train, X_test, y_train, y_test = find_optimal_lm_mod(X, y, cutoffs)"
   ]
  },
  {
   "cell_type": "code",
   "execution_count": null,
   "metadata": {},
   "outputs": [],
   "source": [
    "\n",
    "def find_optimal_lm_mod(X, y, cutoffs, test_size = .30, random_state=42, plot=True):\n",
    "    '''\n",
    "    INPUT\n",
    "    X - pandas dataframe, X matrix\n",
    "    y - pandas dataframe, response variable\n",
    "    cutoffs - list of ints, cutoff for number of non-zero values in dummy categorical vars\n",
    "    test_size - float between 0 and 1, default 0.3, determines the proportion of data as test data\n",
    "    random_state - int, default 42, controls random state for train_test_split\n",
    "    plot - boolean, default 0.3, True to plot result\n",
    "\n",
    "    OUTPUT\n",
    "    r2_scores_test - list of floats of r2 scores on the test data\n",
    "    r2_scores_train - list of floats of r2 scores on the train data\n",
    "    lm_model - model object from sklearn\n",
    "    X_train, X_test, y_train, y_test - output from sklearn train test split used for optimal model\n",
    "    '''\n",
    "    r2_scores_test, r2_scores_train, num_feats, results = [], [], [], dict()\n",
    "    for cutoff in cutoffs:\n",
    "\n",
    "        #reduce X matrix\n",
    "        reduce_X = X.iloc[:, np.where((X.sum() > cutoff) == True)[0]]\n",
    "        num_feats.append(reduce_X.shape[1])\n",
    "\n",
    "        #split the data into train and test\n",
    "        X_train, X_test, y_train, y_test = train_test_split(reduce_X, y, test_size = test_size, random_state=random_state)\n",
    "\n",
    "        #fit the model and obtain pred response\n",
    "        lm_model = LinearRegression(normalize=True)\n",
    "        lm_model.fit(X_train, y_train)\n",
    "        y_test_preds = lm_model.predict(X_test)\n",
    "        y_train_preds = lm_model.predict(X_train)\n",
    "\n",
    "        #append the r2 value from the test set\n",
    "        r2_scores_test.append(r2_score(y_test, y_test_preds))\n",
    "        r2_scores_train.append(r2_score(y_train, y_train_preds))\n",
    "        results[str(cutoff)] = r2_score(y_test, y_test_preds)\n",
    "\n",
    "    if plot:\n",
    "        plt.plot(num_feats, r2_scores_test, label=\"Test\", alpha=.5)\n",
    "        plt.plot(num_feats, r2_scores_train, label=\"Train\", alpha=.5)\n",
    "        plt.xlabel('Number of Features')\n",
    "        plt.ylabel('Rsquared')\n",
    "        plt.title('Rsquared by Number of Features')\n",
    "        plt.legend(loc=1)\n",
    "        plt.show()\n",
    "\n",
    "    best_cutoff = max(results, key=results.get)\n",
    "\n",
    "    #reduce X matrix\n",
    "    reduce_X = X.iloc[:, np.where((X.sum() > int(best_cutoff)) == True)[0]]\n",
    "    num_feats.append(reduce_X.shape[1])\n",
    "\n",
    "    #split the data into train and test\n",
    "    X_train, X_test, y_train, y_test = train_test_split(reduce_X, y, test_size = test_size, random_state=random_state)\n",
    "\n",
    "    #fit the model\n",
    "    lm_model = LinearRegression(normalize=True)\n",
    "    lm_model.fit(X_train, y_train)\n",
    "\n",
    "    return r2_scores_test, r2_scores_train, lm_model, X_train, X_test, y_train, y_test"
   ]
  },
  {
   "cell_type": "code",
   "execution_count": null,
   "metadata": {},
   "outputs": [],
   "source": []
  }
 ],
 "metadata": {
  "kernelspec": {
   "display_name": "Python 3",
   "language": "python",
   "name": "python3"
  },
  "language_info": {
   "codemirror_mode": {
    "name": "ipython",
    "version": 3
   },
   "file_extension": ".py",
   "mimetype": "text/x-python",
   "name": "python",
   "nbconvert_exporter": "python",
   "pygments_lexer": "ipython3",
   "version": "3.7.6"
  }
 },
 "nbformat": 4,
 "nbformat_minor": 4
}
