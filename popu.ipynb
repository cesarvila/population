{
 "cells": [
  {
   "cell_type": "code",
   "execution_count": 1,
   "metadata": {},
   "outputs": [
    {
     "data": {
      "text/plain": [
       "Country (or dependency)      int64\n",
       "Population (2020)            int64\n",
       "Density (P/Km²)              int64\n",
       "Land Area (Km²)              int64\n",
       "Migrants (net)             float64\n",
       "Med. Age                   float64\n",
       "Urban Pop %                float64\n",
       "TotalCases                 float64\n",
       "TotalDeaths                float64\n",
       "TotalRecovered             float64\n",
       "TotalTests                 float64\n",
       "free healthcare            float64\n",
       "dtype: object"
      ]
     },
     "execution_count": 1,
     "metadata": {},
     "output_type": "execute_result"
    }
   ],
   "source": [
    "import csv\n",
    "import requests\n",
    "from bs4 import BeautifulSoup\n",
    "import pandas as pd\n",
    "import numpy as np\n",
    "import matplotlib.pyplot as plt\n",
    "from sklearn.linear_model import LinearRegression\n",
    "from sklearn.model_selection import train_test_split\n",
    "from sklearn.metrics import r2_score, mean_squared_error\n",
    "import seaborn as sns\n",
    "import sup_func as sf\n",
    "\n",
    "#I get the df from website worldometers.info\n",
    "\n",
    "url_popu = 'https://www.worldometers.info/world-population/population-by-country/'\n",
    "url_covid = 'https://www.worldometers.info/coronavirus/#countries'\n",
    "r_popu = requests.get(url_popu)\n",
    "r_covid = requests.get(url_covid)\n",
    "soup_popu = BeautifulSoup(r_popu.content)\n",
    "soup_covid = BeautifulSoup(r_covid.content)\n",
    "countries_popu = soup_popu.find_all('table')[0]\n",
    "countries_covid = soup_covid.find_all('table')[0]\n",
    "df_popu = pd.read_html(str(countries_popu))[0]\n",
    "df_covid = pd.read_html(str(countries_covid))[0]\n",
    "\n",
    "#I get the columns that I want to use from df_popu\n",
    "\n",
    "df_raw = pd.DataFrame({'A' : []})\n",
    "df_raw['Country (or dependency)'] = df_popu['Country (or dependency)']\n",
    "df_raw['Population (2020)'] = df_popu['Population (2020)']\n",
    "df_raw['Density (P/Km²)'] = df_popu['Density (P/Km²)']\n",
    "df_raw['Land Area (Km²)'] = df_popu['Land Area (Km²)']\n",
    "df_raw['Migrants (net)'] = df_popu['Migrants (net)']\n",
    "df_raw['Med. Age'] = df_popu['Med. Age']\n",
    "df_raw['Urban Pop %'] = df_popu['Urban Pop %']\n",
    "df_raw = df_raw.dropna(how='all',axis=1)\n",
    "\n",
    "#After checking both countries columns, I try match both columns with below dictionary\n",
    "country_dic = {'USA':'United States', 'UK':'United Kingdom', 'S. Korea':'South Korea', 'UAE':'United Arab Emirates',\n",
    "               'Czechia':'Czech Republic (Czechia)', 'Ivory Coast':\"Côte d'Ivoire\", 'DRC':'DR Congo',\n",
    "               'Palestine':'State of Palestine', 'CAR':'Central African Republic', 'Saint Kitts and Nevis':'Saint Kitts & Nevis',\n",
    "               'St. Vincent Grenadines':'St. Vincent & Grenadines', 'Vatican City':'Holy See', 'St. Barth':'Saint Barthelemy',\n",
    "               'Sao Tome and Principe':'Sao Tome & Principe', 'Saint Pierre Miquelon':'Saint Pierre & Miquelon'}\n",
    "df_covid['Country (or dependency)'] = df_covid['Country,Other']\n",
    "df_covid.replace({'Country (or dependency)': country_dic},  inplace = True)\n",
    "#I remove the columns from df_covid that I am not interested in \n",
    "df_subs = df_covid.drop([df_covid.columns[8],'Country,Other','NewCases','NewDeaths','ActiveCases','Serious,Critical','Tests/ 1M pop','Deaths/1M pop'],axis=1)\n",
    "\n",
    "#I join both tables using as index the country\n",
    "df_raw = df_raw.join(df_subs.set_index('Country (or dependency)'), on='Country (or dependency)')\n",
    "\n",
    "#I have called dtypes to check where I have non-numeric columns to change its type.\n",
    "\n",
    "#lets start for Urban POP, I change % values to floats, 100% is 1 0% is 0\n",
    "indexes = df_raw.index.values.tolist()\n",
    "for index in indexes:\n",
    "    per = df_raw.loc[index,'Urban Pop %']\n",
    "    if per == 'N.A.':\n",
    "        df_raw.loc[index,'Urban Pop %'] = np.nan\n",
    "    else:\n",
    "        if type(per) is str:\n",
    "            if per == '0 %':\n",
    "                df_raw.loc[index,'Urban Pop %'] = 0\n",
    "            else:\n",
    "                df_raw.loc[index,'Urban Pop %'] = int(per[0:2])/100\n",
    "\n",
    "df_raw = df_raw.astype({'Urban Pop %': 'float64'})\n",
    "#Now I change the countries name to a number and replace the name with the number in the df\n",
    "countries_list = df_raw['Country (or dependency)'].unique()\n",
    "countries_list.sort()\n",
    "countries_dic = dict()\n",
    "k=0\n",
    "for country in countries_list:\n",
    "    countries_dic[country] = k\n",
    "    k +=1\n",
    "dic_reverse = {}\n",
    "for key,values in countries_dic.items():\n",
    "    dic_reverse[values] = key\n",
    "\n",
    "df_raw.replace({'Country (or dependency)': countries_dic},  inplace = True)\n",
    "#the last one is the Med Age. I change to a numeric, using coerce (imput NAN to errors)\n",
    "df_raw['Med. Age'] = pd.to_numeric(df_raw['Med. Age'],errors='coerce')\n",
    "#I am going to add a column of countries with free healthcare, migth be usefull\n",
    "df_healthcare = pd.read_csv('countries with free healthcare.csv')\n",
    "hc_edit = {'Czech Republic':'Czech Republic (Czechia)',\n",
    "           'Macau':'Macao',\n",
    "           'Saint Vincent and the Grenadines':'St. Vincent & Grenadines'}\n",
    "df_healthcare.replace({'name': hc_edit},  inplace = True)\n",
    "df_healthcare['free healthcare'] = 1\n",
    "df_healthcare.drop(['pop2020'], axis=1, inplace=True)\n",
    "df_healthcare.replace({'name': countries_dic},  inplace = True)\n",
    "df_raw = df_raw.join(df_healthcare.set_index('name'), on='Country (or dependency)')\n",
    "df_raw['free healthcare'].fillna(0, inplace=True)\n",
    "\n",
    "#df_raw.dtypes\n",
    "#now I am ready with my df, everything is a number\n",
    "\n",
    "\n",
    "df_raw.dtypes"
   ]
  },
  {
   "cell_type": "code",
   "execution_count": 2,
   "metadata": {},
   "outputs": [
    {
     "name": "stdout",
     "output_type": "stream",
     "text": [
      "{1439323776: 1, 1380004385: 1, 331002651: 2, 273523615: 2, 220892340: 2, 212559417: 2, 206139589: 2, 164689383: 2, 145934462: 2, 128932753: 2, 126476461: 2, 114963588: 2, 109581078: 2, 102334404: 2, 97338579: 3, 89561403: 3, 84339067: 3, 83992949: 3, 83783942: 3, 69799978: 3, 67886011: 3, 65273511: 3, 60461826: 3, 59734218: 3, 59308690: 3, 54409800: 3, 53771296: 3, 51269185: 3, 50882891: 3, 46754778: 3, 45741007: 3, 45195774: 3, 43851044: 3, 43849260: 3, 43733762: 3, 40222493: 3, 38928346: 3, 37846611: 3, 37742154: 3, 36910560: 3, 34813871: 3, 33469203: 3, 32971854: 3, 32866272: 3, 32365999: 3, 31255435: 3, 31072940: 3, 29825964: 4, 29136808: 4, 28435940: 4, 27691018: 4, 26545863: 4, 26378274: 4, 25778816: 4, 25499884: 4, 24206644: 4, 23816775: 4, 21413249: 4, 20903273: 4, 20250833: 4, 19237691: 4, 19129952: 4, 19116201: 4, 18776707: 4, 18383955: 4, 17915568: 4, 17643054: 4, 17500658: 4, 17134872: 4, 16743927: 4, 16718965: 4, 16425864: 4, 15893222: 4, 14862924: 4, 13132795: 4, 12952218: 4, 12123200: 4, 11890784: 4, 11818619: 4, 11673021: 4, 11589623: 4, 11402528: 4, 11326616: 4, 11193725: 4, 10847910: 4, 10708981: 4, 10423054: 4, 10203134: 4, 10196709: 4, 10139177: 4, 10099265: 4, 9904607: 5, 9890402: 5, 9660351: 5, 9537645: 5, 9449323: 5, 9006398: 5, 8947024: 5, 8737371: 5, 8655535: 5, 8654622: 5, 8278724: 5, 7976983: 5, 7496981: 5, 7275560: 5, 7132538: 5, 6948445: 5, 6871292: 5, 6825445: 5, 6624554: 5, 6524195: 5, 6486205: 5, 6031200: 5, 5850342: 5, 5792202: 5, 5540720: 5, 5518087: 5, 5459642: 5, 5421241: 5, 5106626: 5, 5101414: 5, 5094118: 5, 5057681: 5, 4937786: 5, 4829767: 5, 4822233: 5, 4649658: 5, 4314767: 5, 4270571: 5, 4105267: 5, 4033963: 5, 3989167: 5, 3546421: 5, 3473730: 5, 3280819: 5, 3278290: 5, 2963243: 5, 2961167: 5, 2881053: 5, 2877797: 5, 2860853: 5, 2722289: 5, 2540905: 5, 2416668: 5, 2351627: 5, 2225734: 5, 2142249: 5, 2083374: 5, 2078938: 5, 1968001: 5, 1886198: 5, 1701575: 5, 1402985: 5, 1399488: 5, 1326535: 5, 1318445: 5, 1271768: 5, 1207359: 5, 1160164: 5, 988000: 6, 896445: 6, 895312: 6, 869601: 6, 786552: 6, 771608: 6, 686884: 6, 649335: 6, 628066: 6, 625978: 6, 597339: 6, 586632: 6, 555987: 6, 540544: 6, 441543: 6, 437479: 6, 400124: 6, 397628: 6, 393244: 6, 375265: 6, 341243: 6, 307145: 6, 298682: 6, 287375: 6, 285498: 6, 280908: 6, 272815: 6, 219159: 6, 198414: 6, 183627: 6, 173863: 6, 168775: 6, 164093: 6, 119449: 6, 115023: 6, 112523: 6, 110940: 6, 106766: 6, 105695: 6, 104425: 6, 98347: 6, 97929: 6, 85033: 6, 77265: 6, 71986: 6, 65722: 6, 62278: 6, 59190: 6, 57559: 6, 56770: 6, 55191: 6, 53199: 6, 48863: 6, 42876: 6, 39242: 6, 38717: 6, 38666: 6, 38128: 6, 33931: 6, 33691: 6, 30231: 6, 26223: 6, 18094: 6, 17564: 6, 15003: 6, 11792: 6, 11239: 6, 10824: 6, 9877: 6, 6077: 6, 5794: 6, 4992: 6, 3480: 6, 1626: 6, 1357: 6, 801: 6}\n"
     ]
    }
   ],
   "source": [
    "popu= df_raw['Population (2020)'].unique()\n",
    "\n",
    "dict_popu = {1: 'higher 1B', 2: 'between 100M and 1B', 3: 'between 30M and 100M', 4: 'between 10M and 30M', 5: 'between 1M and 10M', 6: 'less than 1M'}\n",
    "\n",
    "dic_replace_popu = sf.get_cat_popu(popu)\n",
    "print(dic_replace_popu)\n"
   ]
  },
  {
   "cell_type": "code",
   "execution_count": null,
   "metadata": {},
   "outputs": [],
   "source": []
  },
  {
   "cell_type": "code",
   "execution_count": null,
   "metadata": {},
   "outputs": [],
   "source": [
    "#3 evaluations, cases, deaths and recovered\n",
    "\n",
    "df_cases = df_raw.drop(['TotalDeaths','TotalRecovered'],axis=1)\n",
    "df_deaths = df_raw.drop(['TotalCases','TotalRecovered'],axis=1)\n",
    "df_recovered = df_raw.drop(['TotalCases','TotalDeaths'],axis=1)\n",
    "\n",
    "#lets remove the NAN.\n",
    "df_cases = df_cases[df_cases['TotalCases'].isnull() == False]\n",
    "df_deaths = df_deaths[df_deaths['TotalDeaths'].isnull() == False]\n",
    "df_recovered = df_recovered[df_recovered['TotalRecovered'].isnull() == False]"
   ]
  },
  {
   "cell_type": "code",
   "execution_count": null,
   "metadata": {},
   "outputs": [],
   "source": [
    "\n",
    "\n",
    "#All below NAN values should be 0, nevertheless, I will consider them as 0\n",
    "df['Migrants (net)'].fillna(0, inplace=True)\n",
    "df['TotalDeaths'].fillna(0, inplace=True)\n",
    "df['TotalRecovered'].fillna(0, inplace=True)\n",
    "df['Deaths/1M pop'].fillna(0, inplace=True)\n",
    "df['TotalTests'].fillna(0, inplace=True)\n",
    "df['Tests/ 1M pop'].fillna(0, inplace=True)\n",
    "\n",
    "\n",
    "df.head()"
   ]
  },
  {
   "cell_type": "code",
   "execution_count": null,
   "metadata": {},
   "outputs": [],
   "source": [
    "\n"
   ]
  },
  {
   "cell_type": "code",
   "execution_count": null,
   "metadata": {},
   "outputs": [],
   "source": []
  },
  {
   "cell_type": "code",
   "execution_count": null,
   "metadata": {},
   "outputs": [],
   "source": [
    "#I am going to add a column of countries with free healthcare, migth be usefull\n",
    "\n",
    "\n",
    "\n",
    "y = df['TotalCases']\n",
    "\n",
    "df['Med. Age'].fillna((df['Med. Age'].mean()), inplace=True)\n",
    "df['Urban Pop %'].fillna((df['Urban Pop %'].mean()), inplace=True)\n",
    "df1 = df.drop(['TotalCases'], axis=1)\n",
    "X = df1\n",
    "\n",
    "X_train, X_test, y_train, y_test = train_test_split(X, y, test_size = .30, random_state=42) \n",
    "\n",
    "lm_model = LinearRegression(normalize=True) # Instantiate\n",
    "lm_model.fit(X_train, y_train) #Fit\n",
    "\n",
    "y_test_preds = lm_model.predict(X_test) \n",
    "y_train_preds = lm_model.predict(X_train)\n",
    "#Rsquared and y_test\n",
    "rsquared_score = r2_score(y_test, y_test_preds)\n",
    "length_y_test = len(y_test)\n",
    "test_score = r2_score(y_test, y_test_preds)\n",
    "train_score = r2_score(y_train, y_train_preds)\n"
   ]
  },
  {
   "cell_type": "code",
   "execution_count": null,
   "metadata": {},
   "outputs": [],
   "source": [
    "df.head()"
   ]
  },
  {
   "cell_type": "code",
   "execution_count": null,
   "metadata": {},
   "outputs": [],
   "source": [
    "\n",
    "df_temp = df_raw[df_raw['TotalCases'].isnull() == True]\n",
    "num_pop_nan = sum(df_temp['Population (2020)'])\n",
    "'NAN values for this column represents the {} % of the total population of the world'.format(num_pop_nan*100/np.sum(df_raw['Population (2020)']))\n",
    "\n"
   ]
  },
  {
   "cell_type": "code",
   "execution_count": null,
   "metadata": {},
   "outputs": [],
   "source": [
    "\"The r-squared score for your model was {} on {} values.\".format(rsquared_score, length_y_test)\n"
   ]
  },
  {
   "cell_type": "code",
   "execution_count": null,
   "metadata": {},
   "outputs": [],
   "source": [
    "print(\"The rsquared on the training data was {}.  The rsquared on the test data was {}.\".format(train_score, test_score))"
   ]
  },
  {
   "cell_type": "code",
   "execution_count": null,
   "metadata": {},
   "outputs": [],
   "source": [
    "df.hist();"
   ]
  },
  {
   "cell_type": "code",
   "execution_count": null,
   "metadata": {},
   "outputs": [],
   "source": [
    "sns.heatmap(df.corr(), annot= True, fmt='.2f');"
   ]
  },
  {
   "cell_type": "code",
   "execution_count": null,
   "metadata": {},
   "outputs": [],
   "source": [
    "df.dtypes\n"
   ]
  },
  {
   "cell_type": "code",
   "execution_count": null,
   "metadata": {},
   "outputs": [],
   "source": [
    "cutoffs = [300,200,100, 50, 30, 25,10,5]\n",
    "\n",
    "r2_scores_test, r2_scores_train, lm_model, X_train, X_test, y_train, y_test = find_optimal_lm_mod(X, y, cutoffs)"
   ]
  },
  {
   "cell_type": "code",
   "execution_count": null,
   "metadata": {},
   "outputs": [],
   "source": [
    "\n",
    "def find_optimal_lm_mod(X, y, cutoffs, test_size = .30, random_state=42, plot=True):\n",
    "    '''\n",
    "    INPUT\n",
    "    X - pandas dataframe, X matrix\n",
    "    y - pandas dataframe, response variable\n",
    "    cutoffs - list of ints, cutoff for number of non-zero values in dummy categorical vars\n",
    "    test_size - float between 0 and 1, default 0.3, determines the proportion of data as test data\n",
    "    random_state - int, default 42, controls random state for train_test_split\n",
    "    plot - boolean, default 0.3, True to plot result\n",
    "\n",
    "    OUTPUT\n",
    "    r2_scores_test - list of floats of r2 scores on the test data\n",
    "    r2_scores_train - list of floats of r2 scores on the train data\n",
    "    lm_model - model object from sklearn\n",
    "    X_train, X_test, y_train, y_test - output from sklearn train test split used for optimal model\n",
    "    '''\n",
    "    r2_scores_test, r2_scores_train, num_feats, results = [], [], [], dict()\n",
    "    for cutoff in cutoffs:\n",
    "\n",
    "        #reduce X matrix\n",
    "        reduce_X = X.iloc[:, np.where((X.sum() > cutoff) == True)[0]]\n",
    "        num_feats.append(reduce_X.shape[1])\n",
    "\n",
    "        #split the data into train and test\n",
    "        X_train, X_test, y_train, y_test = train_test_split(reduce_X, y, test_size = test_size, random_state=random_state)\n",
    "\n",
    "        #fit the model and obtain pred response\n",
    "        lm_model = LinearRegression(normalize=True)\n",
    "        lm_model.fit(X_train, y_train)\n",
    "        y_test_preds = lm_model.predict(X_test)\n",
    "        y_train_preds = lm_model.predict(X_train)\n",
    "\n",
    "        #append the r2 value from the test set\n",
    "        r2_scores_test.append(r2_score(y_test, y_test_preds))\n",
    "        r2_scores_train.append(r2_score(y_train, y_train_preds))\n",
    "        results[str(cutoff)] = r2_score(y_test, y_test_preds)\n",
    "\n",
    "    if plot:\n",
    "        plt.plot(num_feats, r2_scores_test, label=\"Test\", alpha=.5)\n",
    "        plt.plot(num_feats, r2_scores_train, label=\"Train\", alpha=.5)\n",
    "        plt.xlabel('Number of Features')\n",
    "        plt.ylabel('Rsquared')\n",
    "        plt.title('Rsquared by Number of Features')\n",
    "        plt.legend(loc=1)\n",
    "        plt.show()\n",
    "\n",
    "    best_cutoff = max(results, key=results.get)\n",
    "\n",
    "    #reduce X matrix\n",
    "    reduce_X = X.iloc[:, np.where((X.sum() > int(best_cutoff)) == True)[0]]\n",
    "    num_feats.append(reduce_X.shape[1])\n",
    "\n",
    "    #split the data into train and test\n",
    "    X_train, X_test, y_train, y_test = train_test_split(reduce_X, y, test_size = test_size, random_state=random_state)\n",
    "\n",
    "    #fit the model\n",
    "    lm_model = LinearRegression(normalize=True)\n",
    "    lm_model.fit(X_train, y_train)\n",
    "\n",
    "    return r2_scores_test, r2_scores_train, lm_model, X_train, X_test, y_train, y_test"
   ]
  },
  {
   "cell_type": "code",
   "execution_count": null,
   "metadata": {},
   "outputs": [],
   "source": []
  }
 ],
 "metadata": {
  "kernelspec": {
   "display_name": "Python 3",
   "language": "python",
   "name": "python3"
  },
  "language_info": {
   "codemirror_mode": {
    "name": "ipython",
    "version": 3
   },
   "file_extension": ".py",
   "mimetype": "text/x-python",
   "name": "python",
   "nbconvert_exporter": "python",
   "pygments_lexer": "ipython3",
   "version": "3.7.6"
  }
 },
 "nbformat": 4,
 "nbformat_minor": 4
}
