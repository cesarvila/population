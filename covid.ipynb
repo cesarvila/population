{
 "cells": [
  {
   "cell_type": "markdown",
   "metadata": {
    "slideshow": {
     "slide_type": "notes"
    }
   },
   "source": [
    "# COVID-19 and Population project\n",
    "\n",
    "In this project I am evaluating the Coronavitus data in order to answer some questions like:\n",
    "\n",
    "**1. Which is the most related variable to COVID-19 Cases?**\n",
    "\n",
    "**2. Is COVID-19 related to the age?**\n",
    "\n",
    "**3. Are the countries with some kind of free Healthcare policies more affected than the rest?**\n",
    "\n",
    "## 1. Gather the data\n",
    "The first step is call the libraries and get the dataset:\n"
   ]
  },
  {
   "cell_type": "code",
   "execution_count": 1,
   "metadata": {},
   "outputs": [],
   "source": [
    "import requests\n",
    "from bs4 import BeautifulSoup\n",
    "import pandas as pd\n",
    "import numpy as np\n",
    "import matplotlib.pyplot as plt\n",
    "import shapefile as shp\n",
    "from sklearn.linear_model import LinearRegression\n",
    "from sklearn.model_selection import train_test_split\n",
    "from sklearn.metrics import r2_score, mean_squared_error\n",
    "import seaborn as sns\n",
    "import geopandas as gpd\n",
    "%matplotlib inline\n",
    "\n",
    "#I get the df from website worldometers.info\n",
    "\n",
    "url_popu = 'https://www.worldometers.info/world-population/population-by-country/'\n",
    "url_covid = 'https://www.worldometers.info/coronavirus/#countries'\n",
    "#url that I used for downloading the data\n",
    "r_popu = requests.get(url_popu)\n",
    "r_covid = requests.get(url_covid)\n",
    "soup_popu = BeautifulSoup(r_popu.content)\n",
    "soup_covid = BeautifulSoup(r_covid.content)\n",
    "countries_popu = soup_popu.find_all('table')[0]\n",
    "countries_covid = soup_covid.find_all('table')[0]\n",
    "df_popu = pd.read_html(str(countries_popu))[0]\n",
    "df_covid = pd.read_html(str(countries_covid))[0]\n",
    "\n",
    "#Also I get a healthcare from a csv file, a list of countries with free Healtcare policies\n",
    "df_healthcare = pd.read_csv('countries with free healthcare.csv')"
   ]
  },
  {
   "cell_type": "markdown",
   "metadata": {},
   "source": [
    "### 1.1. First visualization\n",
    "\n",
    "You can see below the heads of the created **DataFrames**"
   ]
  },
  {
   "cell_type": "code",
   "execution_count": 2,
   "metadata": {},
   "outputs": [
    {
     "data": {
      "text/html": [
       "<div>\n",
       "<style scoped>\n",
       "    .dataframe tbody tr th:only-of-type {\n",
       "        vertical-align: middle;\n",
       "    }\n",
       "\n",
       "    .dataframe tbody tr th {\n",
       "        vertical-align: top;\n",
       "    }\n",
       "\n",
       "    .dataframe thead th {\n",
       "        text-align: right;\n",
       "    }\n",
       "</style>\n",
       "<table border=\"1\" class=\"dataframe\">\n",
       "  <thead>\n",
       "    <tr style=\"text-align: right;\">\n",
       "      <th></th>\n",
       "      <th>#</th>\n",
       "      <th>Country (or dependency)</th>\n",
       "      <th>Population (2020)</th>\n",
       "      <th>Yearly Change</th>\n",
       "      <th>Net Change</th>\n",
       "      <th>Density (P/Km²)</th>\n",
       "      <th>Land Area (Km²)</th>\n",
       "      <th>Migrants (net)</th>\n",
       "      <th>Fert. Rate</th>\n",
       "      <th>Med. Age</th>\n",
       "      <th>Urban Pop %</th>\n",
       "      <th>World Share</th>\n",
       "    </tr>\n",
       "  </thead>\n",
       "  <tbody>\n",
       "    <tr>\n",
       "      <th>0</th>\n",
       "      <td>1</td>\n",
       "      <td>China</td>\n",
       "      <td>1439323776</td>\n",
       "      <td>0.39 %</td>\n",
       "      <td>5540090</td>\n",
       "      <td>153</td>\n",
       "      <td>9388211</td>\n",
       "      <td>-348399.0</td>\n",
       "      <td>1.7</td>\n",
       "      <td>38</td>\n",
       "      <td>61 %</td>\n",
       "      <td>18.47 %</td>\n",
       "    </tr>\n",
       "    <tr>\n",
       "      <th>1</th>\n",
       "      <td>2</td>\n",
       "      <td>India</td>\n",
       "      <td>1380004385</td>\n",
       "      <td>0.99 %</td>\n",
       "      <td>13586631</td>\n",
       "      <td>464</td>\n",
       "      <td>2973190</td>\n",
       "      <td>-532687.0</td>\n",
       "      <td>2.2</td>\n",
       "      <td>28</td>\n",
       "      <td>35 %</td>\n",
       "      <td>17.70 %</td>\n",
       "    </tr>\n",
       "    <tr>\n",
       "      <th>2</th>\n",
       "      <td>3</td>\n",
       "      <td>United States</td>\n",
       "      <td>331002651</td>\n",
       "      <td>0.59 %</td>\n",
       "      <td>1937734</td>\n",
       "      <td>36</td>\n",
       "      <td>9147420</td>\n",
       "      <td>954806.0</td>\n",
       "      <td>1.8</td>\n",
       "      <td>38</td>\n",
       "      <td>83 %</td>\n",
       "      <td>4.25 %</td>\n",
       "    </tr>\n",
       "    <tr>\n",
       "      <th>3</th>\n",
       "      <td>4</td>\n",
       "      <td>Indonesia</td>\n",
       "      <td>273523615</td>\n",
       "      <td>1.07 %</td>\n",
       "      <td>2898047</td>\n",
       "      <td>151</td>\n",
       "      <td>1811570</td>\n",
       "      <td>-98955.0</td>\n",
       "      <td>2.3</td>\n",
       "      <td>30</td>\n",
       "      <td>56 %</td>\n",
       "      <td>3.51 %</td>\n",
       "    </tr>\n",
       "    <tr>\n",
       "      <th>4</th>\n",
       "      <td>5</td>\n",
       "      <td>Pakistan</td>\n",
       "      <td>220892340</td>\n",
       "      <td>2.00 %</td>\n",
       "      <td>4327022</td>\n",
       "      <td>287</td>\n",
       "      <td>770880</td>\n",
       "      <td>-233379.0</td>\n",
       "      <td>3.6</td>\n",
       "      <td>23</td>\n",
       "      <td>35 %</td>\n",
       "      <td>2.83 %</td>\n",
       "    </tr>\n",
       "  </tbody>\n",
       "</table>\n",
       "</div>"
      ],
      "text/plain": [
       "   # Country (or dependency)  Population (2020) Yearly Change  Net Change  \\\n",
       "0  1                   China         1439323776        0.39 %     5540090   \n",
       "1  2                   India         1380004385        0.99 %    13586631   \n",
       "2  3           United States          331002651        0.59 %     1937734   \n",
       "3  4               Indonesia          273523615        1.07 %     2898047   \n",
       "4  5                Pakistan          220892340        2.00 %     4327022   \n",
       "\n",
       "   Density (P/Km²)  Land Area (Km²)  Migrants (net) Fert. Rate Med. Age  \\\n",
       "0              153          9388211       -348399.0        1.7       38   \n",
       "1              464          2973190       -532687.0        2.2       28   \n",
       "2               36          9147420        954806.0        1.8       38   \n",
       "3              151          1811570        -98955.0        2.3       30   \n",
       "4              287           770880       -233379.0        3.6       23   \n",
       "\n",
       "  Urban Pop % World Share  \n",
       "0        61 %     18.47 %  \n",
       "1        35 %     17.70 %  \n",
       "2        83 %      4.25 %  \n",
       "3        56 %      3.51 %  \n",
       "4        35 %      2.83 %  "
      ]
     },
     "execution_count": 2,
     "metadata": {},
     "output_type": "execute_result"
    }
   ],
   "source": [
    "df_popu.head()"
   ]
  },
  {
   "cell_type": "code",
   "execution_count": 3,
   "metadata": {},
   "outputs": [
    {
     "data": {
      "text/html": [
       "<div>\n",
       "<style scoped>\n",
       "    .dataframe tbody tr th:only-of-type {\n",
       "        vertical-align: middle;\n",
       "    }\n",
       "\n",
       "    .dataframe tbody tr th {\n",
       "        vertical-align: top;\n",
       "    }\n",
       "\n",
       "    .dataframe thead th {\n",
       "        text-align: right;\n",
       "    }\n",
       "</style>\n",
       "<table border=\"1\" class=\"dataframe\">\n",
       "  <thead>\n",
       "    <tr style=\"text-align: right;\">\n",
       "      <th></th>\n",
       "      <th>Country,Other</th>\n",
       "      <th>TotalCases</th>\n",
       "      <th>NewCases</th>\n",
       "      <th>TotalDeaths</th>\n",
       "      <th>NewDeaths</th>\n",
       "      <th>TotalRecovered</th>\n",
       "      <th>ActiveCases</th>\n",
       "      <th>Serious,Critical</th>\n",
       "      <th>Tot Cases/1M pop</th>\n",
       "      <th>Deaths/1M pop</th>\n",
       "      <th>TotalTests</th>\n",
       "      <th>Tests/ 1M pop</th>\n",
       "    </tr>\n",
       "  </thead>\n",
       "  <tbody>\n",
       "    <tr>\n",
       "      <th>0</th>\n",
       "      <td>World</td>\n",
       "      <td>4277720</td>\n",
       "      <td>+25,430</td>\n",
       "      <td>287702.0</td>\n",
       "      <td>565.0</td>\n",
       "      <td>1537700.0</td>\n",
       "      <td>2452318</td>\n",
       "      <td>46933.0</td>\n",
       "      <td>549.0</td>\n",
       "      <td>36.9</td>\n",
       "      <td>NaN</td>\n",
       "      <td>NaN</td>\n",
       "    </tr>\n",
       "    <tr>\n",
       "      <th>1</th>\n",
       "      <td>USA</td>\n",
       "      <td>1385893</td>\n",
       "      <td>+59</td>\n",
       "      <td>81796.0</td>\n",
       "      <td>1.0</td>\n",
       "      <td>262225.0</td>\n",
       "      <td>1041872</td>\n",
       "      <td>16484.0</td>\n",
       "      <td>4187.0</td>\n",
       "      <td>247.0</td>\n",
       "      <td>9619855.0</td>\n",
       "      <td>29063.0</td>\n",
       "    </tr>\n",
       "    <tr>\n",
       "      <th>2</th>\n",
       "      <td>Spain</td>\n",
       "      <td>268143</td>\n",
       "      <td>NaN</td>\n",
       "      <td>26744.0</td>\n",
       "      <td>NaN</td>\n",
       "      <td>177846.0</td>\n",
       "      <td>63553</td>\n",
       "      <td>1650.0</td>\n",
       "      <td>5735.0</td>\n",
       "      <td>572.0</td>\n",
       "      <td>2467761.0</td>\n",
       "      <td>52781.0</td>\n",
       "    </tr>\n",
       "    <tr>\n",
       "      <th>3</th>\n",
       "      <td>Russia</td>\n",
       "      <td>232243</td>\n",
       "      <td>+10,899</td>\n",
       "      <td>2116.0</td>\n",
       "      <td>107.0</td>\n",
       "      <td>43512.0</td>\n",
       "      <td>186615</td>\n",
       "      <td>2300.0</td>\n",
       "      <td>1591.0</td>\n",
       "      <td>14.0</td>\n",
       "      <td>5805404.0</td>\n",
       "      <td>39781.0</td>\n",
       "    </tr>\n",
       "    <tr>\n",
       "      <th>4</th>\n",
       "      <td>UK</td>\n",
       "      <td>223060</td>\n",
       "      <td>NaN</td>\n",
       "      <td>32065.0</td>\n",
       "      <td>NaN</td>\n",
       "      <td>NaN</td>\n",
       "      <td>190651</td>\n",
       "      <td>1559.0</td>\n",
       "      <td>3286.0</td>\n",
       "      <td>472.0</td>\n",
       "      <td>1921770.0</td>\n",
       "      <td>28309.0</td>\n",
       "    </tr>\n",
       "  </tbody>\n",
       "</table>\n",
       "</div>"
      ],
      "text/plain": [
       "  Country,Other  TotalCases NewCases  TotalDeaths  NewDeaths  TotalRecovered  \\\n",
       "0         World     4277720  +25,430     287702.0      565.0       1537700.0   \n",
       "1           USA     1385893      +59      81796.0        1.0        262225.0   \n",
       "2         Spain      268143      NaN      26744.0        NaN        177846.0   \n",
       "3        Russia      232243  +10,899       2116.0      107.0         43512.0   \n",
       "4            UK      223060      NaN      32065.0        NaN             NaN   \n",
       "\n",
       "   ActiveCases  Serious,Critical  Tot Cases/1M pop  Deaths/1M pop  TotalTests  \\\n",
       "0      2452318           46933.0             549.0           36.9         NaN   \n",
       "1      1041872           16484.0            4187.0          247.0   9619855.0   \n",
       "2        63553            1650.0            5735.0          572.0   2467761.0   \n",
       "3       186615            2300.0            1591.0           14.0   5805404.0   \n",
       "4       190651            1559.0            3286.0          472.0   1921770.0   \n",
       "\n",
       "   Tests/ 1M pop  \n",
       "0            NaN  \n",
       "1        29063.0  \n",
       "2        52781.0  \n",
       "3        39781.0  \n",
       "4        28309.0  "
      ]
     },
     "execution_count": 3,
     "metadata": {},
     "output_type": "execute_result"
    }
   ],
   "source": [
    "df_covid.head()\n"
   ]
  },
  {
   "cell_type": "markdown",
   "metadata": {},
   "source": [
    "I want to change some columns names:"
   ]
  },
  {
   "cell_type": "code",
   "execution_count": 4,
   "metadata": {},
   "outputs": [],
   "source": [
    "df_covid.rename(columns={\"TotalCases\": \"Total_Cases\",\n",
    "                   \"TotalDeaths\": \"Total_Deaths\", \n",
    "                  'TotalRecovered': 'Total_Recovered',\n",
    "                  'TotalTests': 'Total_Tests'}, inplace=True)"
   ]
  },
  {
   "cell_type": "code",
   "execution_count": 5,
   "metadata": {},
   "outputs": [
    {
     "data": {
      "text/html": [
       "<div>\n",
       "<style scoped>\n",
       "    .dataframe tbody tr th:only-of-type {\n",
       "        vertical-align: middle;\n",
       "    }\n",
       "\n",
       "    .dataframe tbody tr th {\n",
       "        vertical-align: top;\n",
       "    }\n",
       "\n",
       "    .dataframe thead th {\n",
       "        text-align: right;\n",
       "    }\n",
       "</style>\n",
       "<table border=\"1\" class=\"dataframe\">\n",
       "  <thead>\n",
       "    <tr style=\"text-align: right;\">\n",
       "      <th></th>\n",
       "      <th>name</th>\n",
       "      <th>pop2020</th>\n",
       "    </tr>\n",
       "  </thead>\n",
       "  <tbody>\n",
       "    <tr>\n",
       "      <th>0</th>\n",
       "      <td>Albania</td>\n",
       "      <td>2877.797</td>\n",
       "    </tr>\n",
       "    <tr>\n",
       "      <th>1</th>\n",
       "      <td>Algeria</td>\n",
       "      <td>43851.044</td>\n",
       "    </tr>\n",
       "    <tr>\n",
       "      <th>2</th>\n",
       "      <td>Andorra</td>\n",
       "      <td>77.265</td>\n",
       "    </tr>\n",
       "    <tr>\n",
       "      <th>3</th>\n",
       "      <td>Antigua and Barbuda</td>\n",
       "      <td>97.929</td>\n",
       "    </tr>\n",
       "    <tr>\n",
       "      <th>4</th>\n",
       "      <td>Argentina</td>\n",
       "      <td>45195.774</td>\n",
       "    </tr>\n",
       "  </tbody>\n",
       "</table>\n",
       "</div>"
      ],
      "text/plain": [
       "                  name    pop2020\n",
       "0              Albania   2877.797\n",
       "1              Algeria  43851.044\n",
       "2              Andorra     77.265\n",
       "3  Antigua and Barbuda     97.929\n",
       "4            Argentina  45195.774"
      ]
     },
     "execution_count": 5,
     "metadata": {},
     "output_type": "execute_result"
    }
   ],
   "source": [
    "df_healthcare.head()"
   ]
  },
  {
   "cell_type": "markdown",
   "metadata": {},
   "source": [
    "### 1.2. Creating a new dataframe\n",
    "\n",
    "I will use a new DataFrame based in the Population one. I will call it **df_raw**"
   ]
  },
  {
   "cell_type": "code",
   "execution_count": 6,
   "metadata": {},
   "outputs": [
    {
     "data": {
      "text/html": [
       "<div>\n",
       "<style scoped>\n",
       "    .dataframe tbody tr th:only-of-type {\n",
       "        vertical-align: middle;\n",
       "    }\n",
       "\n",
       "    .dataframe tbody tr th {\n",
       "        vertical-align: top;\n",
       "    }\n",
       "\n",
       "    .dataframe thead th {\n",
       "        text-align: right;\n",
       "    }\n",
       "</style>\n",
       "<table border=\"1\" class=\"dataframe\">\n",
       "  <thead>\n",
       "    <tr style=\"text-align: right;\">\n",
       "      <th></th>\n",
       "      <th>Country</th>\n",
       "      <th>Population</th>\n",
       "      <th>People_per_sqKm</th>\n",
       "      <th>Migrants</th>\n",
       "      <th>Avg_Age</th>\n",
       "      <th>Urban_Pop_perc</th>\n",
       "    </tr>\n",
       "  </thead>\n",
       "  <tbody>\n",
       "    <tr>\n",
       "      <th>0</th>\n",
       "      <td>China</td>\n",
       "      <td>1439323776</td>\n",
       "      <td>153</td>\n",
       "      <td>-348399.0</td>\n",
       "      <td>38</td>\n",
       "      <td>61 %</td>\n",
       "    </tr>\n",
       "    <tr>\n",
       "      <th>1</th>\n",
       "      <td>India</td>\n",
       "      <td>1380004385</td>\n",
       "      <td>464</td>\n",
       "      <td>-532687.0</td>\n",
       "      <td>28</td>\n",
       "      <td>35 %</td>\n",
       "    </tr>\n",
       "    <tr>\n",
       "      <th>2</th>\n",
       "      <td>United States</td>\n",
       "      <td>331002651</td>\n",
       "      <td>36</td>\n",
       "      <td>954806.0</td>\n",
       "      <td>38</td>\n",
       "      <td>83 %</td>\n",
       "    </tr>\n",
       "    <tr>\n",
       "      <th>3</th>\n",
       "      <td>Indonesia</td>\n",
       "      <td>273523615</td>\n",
       "      <td>151</td>\n",
       "      <td>-98955.0</td>\n",
       "      <td>30</td>\n",
       "      <td>56 %</td>\n",
       "    </tr>\n",
       "    <tr>\n",
       "      <th>4</th>\n",
       "      <td>Pakistan</td>\n",
       "      <td>220892340</td>\n",
       "      <td>287</td>\n",
       "      <td>-233379.0</td>\n",
       "      <td>23</td>\n",
       "      <td>35 %</td>\n",
       "    </tr>\n",
       "  </tbody>\n",
       "</table>\n",
       "</div>"
      ],
      "text/plain": [
       "         Country  Population  People_per_sqKm  Migrants Avg_Age Urban_Pop_perc\n",
       "0          China  1439323776              153 -348399.0      38           61 %\n",
       "1          India  1380004385              464 -532687.0      28           35 %\n",
       "2  United States   331002651               36  954806.0      38           83 %\n",
       "3      Indonesia   273523615              151  -98955.0      30           56 %\n",
       "4       Pakistan   220892340              287 -233379.0      23           35 %"
      ]
     },
     "execution_count": 6,
     "metadata": {},
     "output_type": "execute_result"
    }
   ],
   "source": [
    "#I get the columns that I want to use from df_popu\n",
    "\n",
    "df_raw = pd.DataFrame()\n",
    "df_raw['Country'] = df_popu['Country (or dependency)']\n",
    "df_raw['Population'] = df_popu['Population (2020)']\n",
    "df_raw['People_per_sqKm'] = df_popu['Density (P/Km²)']\n",
    "df_raw['Migrants'] = df_popu['Migrants (net)']\n",
    "df_raw['Avg_Age'] = df_popu['Med. Age']\n",
    "df_raw['Urban_Pop_perc'] = df_popu['Urban Pop %']\n",
    "\n",
    "df_raw.head()"
   ]
  },
  {
   "cell_type": "markdown",
   "metadata": {},
   "source": [
    "### 1.3. Joining Dataframes\n",
    "\n",
    "I am going to **join** df_raw with the Covid-19 data and Healthcare data.\n",
    "All have the countries in common, although the spelling is not the same. I have created two **dictionaries** to make a match for all the countries."
   ]
  },
  {
   "cell_type": "code",
   "execution_count": 7,
   "metadata": {},
   "outputs": [],
   "source": [
    "\n",
    "covid_dic = {'USA':'United States', 'UK':'United Kingdom', 'S. Korea':'South Korea', 'UAE':'United Arab Emirates',\n",
    "               'Czechia':'Czech Republic (Czechia)', 'Ivory Coast':\"Côte d'Ivoire\", 'DRC':'DR Congo',\n",
    "               'Palestine':'State of Palestine', 'CAR':'Central African Republic', 'Saint Kitts and Nevis':'Saint Kitts & Nevis',\n",
    "               'St. Vincent Grenadines':'St. Vincent & Grenadines', 'Vatican City':'Holy See', 'St. Barth':'Saint Barthelemy',\n",
    "               'Sao Tome and Principe':'Sao Tome & Principe', 'Saint Pierre Miquelon':'Saint Pierre & Miquelon'}\n",
    "\n",
    "df_covid.replace({'Country,Other': covid_dic},  inplace = True)\n",
    "\n",
    "\n",
    "healthcare_dic = {'Czech Republic':'Czech Republic (Czechia)',\n",
    "           'Macau':'Macao',\n",
    "           'Saint Vincent and the Grenadines':'St. Vincent & Grenadines'}\n",
    "\n",
    "df_healthcare.replace({'name': healthcare_dic},  inplace = True)\n"
   ]
  },
  {
   "cell_type": "code",
   "execution_count": 8,
   "metadata": {},
   "outputs": [
    {
     "data": {
      "text/html": [
       "<div>\n",
       "<style scoped>\n",
       "    .dataframe tbody tr th:only-of-type {\n",
       "        vertical-align: middle;\n",
       "    }\n",
       "\n",
       "    .dataframe tbody tr th {\n",
       "        vertical-align: top;\n",
       "    }\n",
       "\n",
       "    .dataframe thead th {\n",
       "        text-align: right;\n",
       "    }\n",
       "</style>\n",
       "<table border=\"1\" class=\"dataframe\">\n",
       "  <thead>\n",
       "    <tr style=\"text-align: right;\">\n",
       "      <th></th>\n",
       "      <th>Country,Other</th>\n",
       "      <th>Total_Cases</th>\n",
       "      <th>NewCases</th>\n",
       "      <th>Total_Deaths</th>\n",
       "      <th>NewDeaths</th>\n",
       "      <th>Total_Recovered</th>\n",
       "      <th>ActiveCases</th>\n",
       "      <th>Serious,Critical</th>\n",
       "      <th>Tot Cases/1M pop</th>\n",
       "      <th>Deaths/1M pop</th>\n",
       "      <th>Total_Tests</th>\n",
       "      <th>Tests/ 1M pop</th>\n",
       "    </tr>\n",
       "  </thead>\n",
       "  <tbody>\n",
       "    <tr>\n",
       "      <th>0</th>\n",
       "      <td>World</td>\n",
       "      <td>4277720</td>\n",
       "      <td>+25,430</td>\n",
       "      <td>287702.0</td>\n",
       "      <td>565.0</td>\n",
       "      <td>1537700.0</td>\n",
       "      <td>2452318</td>\n",
       "      <td>46933.0</td>\n",
       "      <td>549.0</td>\n",
       "      <td>36.9</td>\n",
       "      <td>NaN</td>\n",
       "      <td>NaN</td>\n",
       "    </tr>\n",
       "    <tr>\n",
       "      <th>1</th>\n",
       "      <td>United States</td>\n",
       "      <td>1385893</td>\n",
       "      <td>+59</td>\n",
       "      <td>81796.0</td>\n",
       "      <td>1.0</td>\n",
       "      <td>262225.0</td>\n",
       "      <td>1041872</td>\n",
       "      <td>16484.0</td>\n",
       "      <td>4187.0</td>\n",
       "      <td>247.0</td>\n",
       "      <td>9619855.0</td>\n",
       "      <td>29063.0</td>\n",
       "    </tr>\n",
       "    <tr>\n",
       "      <th>2</th>\n",
       "      <td>Spain</td>\n",
       "      <td>268143</td>\n",
       "      <td>NaN</td>\n",
       "      <td>26744.0</td>\n",
       "      <td>NaN</td>\n",
       "      <td>177846.0</td>\n",
       "      <td>63553</td>\n",
       "      <td>1650.0</td>\n",
       "      <td>5735.0</td>\n",
       "      <td>572.0</td>\n",
       "      <td>2467761.0</td>\n",
       "      <td>52781.0</td>\n",
       "    </tr>\n",
       "    <tr>\n",
       "      <th>3</th>\n",
       "      <td>Russia</td>\n",
       "      <td>232243</td>\n",
       "      <td>+10,899</td>\n",
       "      <td>2116.0</td>\n",
       "      <td>107.0</td>\n",
       "      <td>43512.0</td>\n",
       "      <td>186615</td>\n",
       "      <td>2300.0</td>\n",
       "      <td>1591.0</td>\n",
       "      <td>14.0</td>\n",
       "      <td>5805404.0</td>\n",
       "      <td>39781.0</td>\n",
       "    </tr>\n",
       "    <tr>\n",
       "      <th>4</th>\n",
       "      <td>United Kingdom</td>\n",
       "      <td>223060</td>\n",
       "      <td>NaN</td>\n",
       "      <td>32065.0</td>\n",
       "      <td>NaN</td>\n",
       "      <td>NaN</td>\n",
       "      <td>190651</td>\n",
       "      <td>1559.0</td>\n",
       "      <td>3286.0</td>\n",
       "      <td>472.0</td>\n",
       "      <td>1921770.0</td>\n",
       "      <td>28309.0</td>\n",
       "    </tr>\n",
       "  </tbody>\n",
       "</table>\n",
       "</div>"
      ],
      "text/plain": [
       "    Country,Other  Total_Cases NewCases  Total_Deaths  NewDeaths  \\\n",
       "0           World      4277720  +25,430      287702.0      565.0   \n",
       "1   United States      1385893      +59       81796.0        1.0   \n",
       "2           Spain       268143      NaN       26744.0        NaN   \n",
       "3          Russia       232243  +10,899        2116.0      107.0   \n",
       "4  United Kingdom       223060      NaN       32065.0        NaN   \n",
       "\n",
       "   Total_Recovered  ActiveCases  Serious,Critical  Tot Cases/1M pop  \\\n",
       "0        1537700.0      2452318           46933.0             549.0   \n",
       "1         262225.0      1041872           16484.0            4187.0   \n",
       "2         177846.0        63553            1650.0            5735.0   \n",
       "3          43512.0       186615            2300.0            1591.0   \n",
       "4              NaN       190651            1559.0            3286.0   \n",
       "\n",
       "   Deaths/1M pop  Total_Tests  Tests/ 1M pop  \n",
       "0           36.9          NaN            NaN  \n",
       "1          247.0    9619855.0        29063.0  \n",
       "2          572.0    2467761.0        52781.0  \n",
       "3           14.0    5805404.0        39781.0  \n",
       "4          472.0    1921770.0        28309.0  "
      ]
     },
     "execution_count": 8,
     "metadata": {},
     "output_type": "execute_result"
    }
   ],
   "source": [
    "df_covid.head()\n"
   ]
  },
  {
   "cell_type": "code",
   "execution_count": 9,
   "metadata": {},
   "outputs": [
    {
     "data": {
      "text/html": [
       "<div>\n",
       "<style scoped>\n",
       "    .dataframe tbody tr th:only-of-type {\n",
       "        vertical-align: middle;\n",
       "    }\n",
       "\n",
       "    .dataframe tbody tr th {\n",
       "        vertical-align: top;\n",
       "    }\n",
       "\n",
       "    .dataframe thead th {\n",
       "        text-align: right;\n",
       "    }\n",
       "</style>\n",
       "<table border=\"1\" class=\"dataframe\">\n",
       "  <thead>\n",
       "    <tr style=\"text-align: right;\">\n",
       "      <th></th>\n",
       "      <th>name</th>\n",
       "      <th>pop2020</th>\n",
       "    </tr>\n",
       "  </thead>\n",
       "  <tbody>\n",
       "    <tr>\n",
       "      <th>0</th>\n",
       "      <td>Albania</td>\n",
       "      <td>2877.797</td>\n",
       "    </tr>\n",
       "    <tr>\n",
       "      <th>1</th>\n",
       "      <td>Algeria</td>\n",
       "      <td>43851.044</td>\n",
       "    </tr>\n",
       "    <tr>\n",
       "      <th>2</th>\n",
       "      <td>Andorra</td>\n",
       "      <td>77.265</td>\n",
       "    </tr>\n",
       "    <tr>\n",
       "      <th>3</th>\n",
       "      <td>Antigua and Barbuda</td>\n",
       "      <td>97.929</td>\n",
       "    </tr>\n",
       "    <tr>\n",
       "      <th>4</th>\n",
       "      <td>Argentina</td>\n",
       "      <td>45195.774</td>\n",
       "    </tr>\n",
       "  </tbody>\n",
       "</table>\n",
       "</div>"
      ],
      "text/plain": [
       "                  name    pop2020\n",
       "0              Albania   2877.797\n",
       "1              Algeria  43851.044\n",
       "2              Andorra     77.265\n",
       "3  Antigua and Barbuda     97.929\n",
       "4            Argentina  45195.774"
      ]
     },
     "execution_count": 9,
     "metadata": {},
     "output_type": "execute_result"
    }
   ],
   "source": [
    "df_healthcare.head()"
   ]
  },
  {
   "cell_type": "markdown",
   "metadata": {},
   "source": [
    "Now **columns**:  \"Country\", \"Country,Other\" and \"name\" from df_raw, df_covid and df_healtcare has the countries with the same spelling.\n",
    "\n",
    "Prior to the **join** lets remove some columns that I do not want to evaluate. Also I will create a column in df_healthcare with 1 as the value.\n",
    "\n",
    "That will make easier the join, you will see the Free_healthcare column with values **\"1\"** upon countries with Free healthcare policies and **NaN** values on the rest, I will change NaN to 0 later on\n"
   ]
  },
  {
   "cell_type": "code",
   "execution_count": 10,
   "metadata": {},
   "outputs": [],
   "source": [
    "#I remove the columns from df_covid that I am not interested in \n",
    "df_covid = df_covid.drop(['NewCases','NewDeaths','ActiveCases','Serious,Critical',df_covid.columns[8],'Tests/ 1M pop','Deaths/1M pop'],axis=1)\n",
    "df_healthcare['Free_healthcare'] = 1 #I create a column in healthcar with 1 as the value\n",
    "df_healthcare.drop(['pop2020'], axis=1, inplace=True)"
   ]
  },
  {
   "cell_type": "code",
   "execution_count": 11,
   "metadata": {},
   "outputs": [
    {
     "data": {
      "text/html": [
       "<div>\n",
       "<style scoped>\n",
       "    .dataframe tbody tr th:only-of-type {\n",
       "        vertical-align: middle;\n",
       "    }\n",
       "\n",
       "    .dataframe tbody tr th {\n",
       "        vertical-align: top;\n",
       "    }\n",
       "\n",
       "    .dataframe thead th {\n",
       "        text-align: right;\n",
       "    }\n",
       "</style>\n",
       "<table border=\"1\" class=\"dataframe\">\n",
       "  <thead>\n",
       "    <tr style=\"text-align: right;\">\n",
       "      <th></th>\n",
       "      <th>Country,Other</th>\n",
       "      <th>Total_Cases</th>\n",
       "      <th>Total_Deaths</th>\n",
       "      <th>Total_Recovered</th>\n",
       "      <th>Total_Tests</th>\n",
       "    </tr>\n",
       "  </thead>\n",
       "  <tbody>\n",
       "    <tr>\n",
       "      <th>0</th>\n",
       "      <td>World</td>\n",
       "      <td>4277720</td>\n",
       "      <td>287702.0</td>\n",
       "      <td>1537700.0</td>\n",
       "      <td>NaN</td>\n",
       "    </tr>\n",
       "    <tr>\n",
       "      <th>1</th>\n",
       "      <td>United States</td>\n",
       "      <td>1385893</td>\n",
       "      <td>81796.0</td>\n",
       "      <td>262225.0</td>\n",
       "      <td>9619855.0</td>\n",
       "    </tr>\n",
       "    <tr>\n",
       "      <th>2</th>\n",
       "      <td>Spain</td>\n",
       "      <td>268143</td>\n",
       "      <td>26744.0</td>\n",
       "      <td>177846.0</td>\n",
       "      <td>2467761.0</td>\n",
       "    </tr>\n",
       "    <tr>\n",
       "      <th>3</th>\n",
       "      <td>Russia</td>\n",
       "      <td>232243</td>\n",
       "      <td>2116.0</td>\n",
       "      <td>43512.0</td>\n",
       "      <td>5805404.0</td>\n",
       "    </tr>\n",
       "    <tr>\n",
       "      <th>4</th>\n",
       "      <td>United Kingdom</td>\n",
       "      <td>223060</td>\n",
       "      <td>32065.0</td>\n",
       "      <td>NaN</td>\n",
       "      <td>1921770.0</td>\n",
       "    </tr>\n",
       "  </tbody>\n",
       "</table>\n",
       "</div>"
      ],
      "text/plain": [
       "    Country,Other  Total_Cases  Total_Deaths  Total_Recovered  Total_Tests\n",
       "0           World      4277720      287702.0        1537700.0          NaN\n",
       "1   United States      1385893       81796.0         262225.0    9619855.0\n",
       "2           Spain       268143       26744.0         177846.0    2467761.0\n",
       "3          Russia       232243        2116.0          43512.0    5805404.0\n",
       "4  United Kingdom       223060       32065.0              NaN    1921770.0"
      ]
     },
     "execution_count": 11,
     "metadata": {},
     "output_type": "execute_result"
    }
   ],
   "source": [
    "df_covid.head()"
   ]
  },
  {
   "cell_type": "code",
   "execution_count": 12,
   "metadata": {},
   "outputs": [
    {
     "data": {
      "text/html": [
       "<div>\n",
       "<style scoped>\n",
       "    .dataframe tbody tr th:only-of-type {\n",
       "        vertical-align: middle;\n",
       "    }\n",
       "\n",
       "    .dataframe tbody tr th {\n",
       "        vertical-align: top;\n",
       "    }\n",
       "\n",
       "    .dataframe thead th {\n",
       "        text-align: right;\n",
       "    }\n",
       "</style>\n",
       "<table border=\"1\" class=\"dataframe\">\n",
       "  <thead>\n",
       "    <tr style=\"text-align: right;\">\n",
       "      <th></th>\n",
       "      <th>name</th>\n",
       "      <th>Free_healthcare</th>\n",
       "    </tr>\n",
       "  </thead>\n",
       "  <tbody>\n",
       "    <tr>\n",
       "      <th>0</th>\n",
       "      <td>Albania</td>\n",
       "      <td>1</td>\n",
       "    </tr>\n",
       "    <tr>\n",
       "      <th>1</th>\n",
       "      <td>Algeria</td>\n",
       "      <td>1</td>\n",
       "    </tr>\n",
       "    <tr>\n",
       "      <th>2</th>\n",
       "      <td>Andorra</td>\n",
       "      <td>1</td>\n",
       "    </tr>\n",
       "    <tr>\n",
       "      <th>3</th>\n",
       "      <td>Antigua and Barbuda</td>\n",
       "      <td>1</td>\n",
       "    </tr>\n",
       "    <tr>\n",
       "      <th>4</th>\n",
       "      <td>Argentina</td>\n",
       "      <td>1</td>\n",
       "    </tr>\n",
       "  </tbody>\n",
       "</table>\n",
       "</div>"
      ],
      "text/plain": [
       "                  name  Free_healthcare\n",
       "0              Albania                1\n",
       "1              Algeria                1\n",
       "2              Andorra                1\n",
       "3  Antigua and Barbuda                1\n",
       "4            Argentina                1"
      ]
     },
     "execution_count": 12,
     "metadata": {},
     "output_type": "execute_result"
    }
   ],
   "source": [
    "df_healthcare.head()"
   ]
  },
  {
   "cell_type": "markdown",
   "metadata": {},
   "source": [
    "#### Finally the Join"
   ]
  },
  {
   "cell_type": "code",
   "execution_count": 13,
   "metadata": {},
   "outputs": [
    {
     "data": {
      "text/html": [
       "<div>\n",
       "<style scoped>\n",
       "    .dataframe tbody tr th:only-of-type {\n",
       "        vertical-align: middle;\n",
       "    }\n",
       "\n",
       "    .dataframe tbody tr th {\n",
       "        vertical-align: top;\n",
       "    }\n",
       "\n",
       "    .dataframe thead th {\n",
       "        text-align: right;\n",
       "    }\n",
       "</style>\n",
       "<table border=\"1\" class=\"dataframe\">\n",
       "  <thead>\n",
       "    <tr style=\"text-align: right;\">\n",
       "      <th></th>\n",
       "      <th>Country</th>\n",
       "      <th>Population</th>\n",
       "      <th>People_per_sqKm</th>\n",
       "      <th>Migrants</th>\n",
       "      <th>Avg_Age</th>\n",
       "      <th>Urban_Pop_perc</th>\n",
       "      <th>Free_healthcare</th>\n",
       "      <th>Total_Cases</th>\n",
       "      <th>Total_Deaths</th>\n",
       "      <th>Total_Recovered</th>\n",
       "      <th>Total_Tests</th>\n",
       "    </tr>\n",
       "  </thead>\n",
       "  <tbody>\n",
       "    <tr>\n",
       "      <th>0</th>\n",
       "      <td>China</td>\n",
       "      <td>1439323776</td>\n",
       "      <td>153</td>\n",
       "      <td>-348399.0</td>\n",
       "      <td>38</td>\n",
       "      <td>61 %</td>\n",
       "      <td>1.0</td>\n",
       "      <td>82919.0</td>\n",
       "      <td>4633.0</td>\n",
       "      <td>78171.0</td>\n",
       "      <td>NaN</td>\n",
       "    </tr>\n",
       "    <tr>\n",
       "      <th>1</th>\n",
       "      <td>India</td>\n",
       "      <td>1380004385</td>\n",
       "      <td>464</td>\n",
       "      <td>-532687.0</td>\n",
       "      <td>28</td>\n",
       "      <td>35 %</td>\n",
       "      <td>NaN</td>\n",
       "      <td>71369.0</td>\n",
       "      <td>2310.0</td>\n",
       "      <td>23033.0</td>\n",
       "      <td>1759579.0</td>\n",
       "    </tr>\n",
       "    <tr>\n",
       "      <th>2</th>\n",
       "      <td>United States</td>\n",
       "      <td>331002651</td>\n",
       "      <td>36</td>\n",
       "      <td>954806.0</td>\n",
       "      <td>38</td>\n",
       "      <td>83 %</td>\n",
       "      <td>NaN</td>\n",
       "      <td>1385893.0</td>\n",
       "      <td>81796.0</td>\n",
       "      <td>262225.0</td>\n",
       "      <td>9619855.0</td>\n",
       "    </tr>\n",
       "    <tr>\n",
       "      <th>3</th>\n",
       "      <td>Indonesia</td>\n",
       "      <td>273523615</td>\n",
       "      <td>151</td>\n",
       "      <td>-98955.0</td>\n",
       "      <td>30</td>\n",
       "      <td>56 %</td>\n",
       "      <td>NaN</td>\n",
       "      <td>14749.0</td>\n",
       "      <td>1007.0</td>\n",
       "      <td>3063.0</td>\n",
       "      <td>165128.0</td>\n",
       "    </tr>\n",
       "    <tr>\n",
       "      <th>4</th>\n",
       "      <td>Pakistan</td>\n",
       "      <td>220892340</td>\n",
       "      <td>287</td>\n",
       "      <td>-233379.0</td>\n",
       "      <td>23</td>\n",
       "      <td>35 %</td>\n",
       "      <td>1.0</td>\n",
       "      <td>32674.0</td>\n",
       "      <td>724.0</td>\n",
       "      <td>8555.0</td>\n",
       "      <td>305851.0</td>\n",
       "    </tr>\n",
       "  </tbody>\n",
       "</table>\n",
       "</div>"
      ],
      "text/plain": [
       "         Country  Population  People_per_sqKm  Migrants Avg_Age  \\\n",
       "0          China  1439323776              153 -348399.0      38   \n",
       "1          India  1380004385              464 -532687.0      28   \n",
       "2  United States   331002651               36  954806.0      38   \n",
       "3      Indonesia   273523615              151  -98955.0      30   \n",
       "4       Pakistan   220892340              287 -233379.0      23   \n",
       "\n",
       "  Urban_Pop_perc  Free_healthcare  Total_Cases  Total_Deaths  Total_Recovered  \\\n",
       "0           61 %              1.0      82919.0        4633.0          78171.0   \n",
       "1           35 %              NaN      71369.0        2310.0          23033.0   \n",
       "2           83 %              NaN    1385893.0       81796.0         262225.0   \n",
       "3           56 %              NaN      14749.0        1007.0           3063.0   \n",
       "4           35 %              1.0      32674.0         724.0           8555.0   \n",
       "\n",
       "   Total_Tests  \n",
       "0          NaN  \n",
       "1    1759579.0  \n",
       "2    9619855.0  \n",
       "3     165128.0  \n",
       "4     305851.0  "
      ]
     },
     "execution_count": 13,
     "metadata": {},
     "output_type": "execute_result"
    }
   ],
   "source": [
    "#I join both tables using as index the country\n",
    "df_raw = df_raw.join(df_healthcare.set_index('name'), on='Country')\n",
    "df_raw = df_raw.join(df_covid.set_index('Country,Other'), on='Country')\n",
    "\n",
    "df_raw.head()"
   ]
  },
  {
   "cell_type": "markdown",
   "metadata": {},
   "source": [
    "### 2. Assess\n",
    "\n",
    "Well before clean and analyze the figures, lets understand which kind of data we have:"
   ]
  },
  {
   "cell_type": "code",
   "execution_count": 14,
   "metadata": {},
   "outputs": [
    {
     "data": {
      "text/plain": [
       "Country             object\n",
       "Population           int64\n",
       "People_per_sqKm      int64\n",
       "Migrants           float64\n",
       "Avg_Age             object\n",
       "Urban_Pop_perc      object\n",
       "Free_healthcare    float64\n",
       "Total_Cases        float64\n",
       "Total_Deaths       float64\n",
       "Total_Recovered    float64\n",
       "Total_Tests        float64\n",
       "dtype: object"
      ]
     },
     "execution_count": 14,
     "metadata": {},
     "output_type": "execute_result"
    }
   ],
   "source": [
    "df_raw.dtypes"
   ]
  },
  {
   "cell_type": "markdown",
   "metadata": {},
   "source": [
    "It seems that most of our variables are numbers! that is good to evaluate the dataframe, however we shall understand the Free Healthcare as a Categorical value:\n",
    "\n",
    "   **1** means \"yes\", with Free Healthcare policies\n",
    "   \n",
    "   **NaN** means the contrary (we will change it later to \"0\")\n",
    "    \n",
    "In any case we have 2 objects types: Avg_Age and Urban_Pop and Country.\n",
    "Country will be maintain here, but will be removed later for the evaluation of the model, I do not care about the countries, just about the figures, and we have a single figure for each country.\n",
    "\n",
    "For the rest of the **objects**, those are **not categorical vales**, should be **numerical**. Lets find out why and change it to numbers.\n",
    "\n",
    "### 2.1. Checking the objects"
   ]
  },
  {
   "cell_type": "code",
   "execution_count": 15,
   "metadata": {},
   "outputs": [
    {
     "data": {
      "text/plain": [
       "array(['38', '28', '30', '23', '33', '18', '40', '29', '48', '19', '26',\n",
       "       '25', '32', '17', '46', '42', '47', '20', '44', '31', '45', '41',\n",
       "       '21', '22', '35', '15', '34', '16', '43', '24', '27', '37', '36',\n",
       "       '39', 'N.A.'], dtype=object)"
      ]
     },
     "execution_count": 15,
     "metadata": {},
     "output_type": "execute_result"
    }
   ],
   "source": [
    "df_raw['Avg_Age'].unique()#looking for the value that make the column an object"
   ]
  },
  {
   "cell_type": "code",
   "execution_count": 16,
   "metadata": {},
   "outputs": [
    {
     "data": {
      "text/plain": [
       "array(['61 %', '35 %', '83 %', '56 %', '88 %', '52 %', '39 %', '74 %',\n",
       "       '84 %', '92 %', '21 %', '47 %', '43 %', '38 %', '46 %', '76 %',\n",
       "       '51 %', '82 %', '69 %', '37 %', '67 %', '31 %', '28 %', '80 %',\n",
       "       '26 %', '93 %', '73 %', '25 %', '60 %', '81 %', '64 %', '50 %',\n",
       "       '79 %', '78 %', '57 %', 'N.A.', '63 %', '86 %', '17 %', '18 %',\n",
       "       '44 %', '55 %', '85 %', '58 %', '45 %', '49 %', '24 %', '23 %',\n",
       "       '48 %', '14 %', '70 %', '98 %', '91 %', '66 %', '72 %', '27 %',\n",
       "       '13 %', '36 %', '62 %', '53 %', '54 %', '87 %', '68 %', '96 %',\n",
       "       '71 %', '59 %', '89 %', '33 %', '41 %', '30 %', '100 %', '29 %',\n",
       "       '65 %', '94 %', '19 %', '95 %', '97 %', '0 %', '15 %', '75 %',\n",
       "       '10 %'], dtype=object)"
      ]
     },
     "execution_count": 16,
     "metadata": {},
     "output_type": "execute_result"
    }
   ],
   "source": [
    "df_raw['Urban_Pop_perc'].unique()#looking for the value that make the column an object"
   ]
  },
  {
   "cell_type": "markdown",
   "metadata": {},
   "source": [
    "It seems that the problem is **N.A.** and **%**.\n",
    "\n",
    "Firstly, I will replace chr **'%'** and then, I will use pandas **tonumeric** to change the type"
   ]
  },
  {
   "cell_type": "code",
   "execution_count": 17,
   "metadata": {},
   "outputs": [],
   "source": [
    "df_raw['Urban_Pop_perc'] = [perc.replace(' %','') for perc in df_raw['Urban_Pop_perc']]"
   ]
  },
  {
   "cell_type": "code",
   "execution_count": 18,
   "metadata": {},
   "outputs": [],
   "source": [
    "df_raw['Avg_Age'] = pd.to_numeric(df_raw['Avg_Age'],errors='coerce')\n",
    "df_raw['Urban_Pop_perc'] = pd.to_numeric(df_raw['Urban_Pop_perc'],errors='coerce')/100"
   ]
  },
  {
   "cell_type": "code",
   "execution_count": 19,
   "metadata": {},
   "outputs": [
    {
     "data": {
      "text/html": [
       "<div>\n",
       "<style scoped>\n",
       "    .dataframe tbody tr th:only-of-type {\n",
       "        vertical-align: middle;\n",
       "    }\n",
       "\n",
       "    .dataframe tbody tr th {\n",
       "        vertical-align: top;\n",
       "    }\n",
       "\n",
       "    .dataframe thead th {\n",
       "        text-align: right;\n",
       "    }\n",
       "</style>\n",
       "<table border=\"1\" class=\"dataframe\">\n",
       "  <thead>\n",
       "    <tr style=\"text-align: right;\">\n",
       "      <th></th>\n",
       "      <th>Country</th>\n",
       "      <th>Population</th>\n",
       "      <th>People_per_sqKm</th>\n",
       "      <th>Migrants</th>\n",
       "      <th>Avg_Age</th>\n",
       "      <th>Urban_Pop_perc</th>\n",
       "      <th>Free_healthcare</th>\n",
       "      <th>Total_Cases</th>\n",
       "      <th>Total_Deaths</th>\n",
       "      <th>Total_Recovered</th>\n",
       "      <th>Total_Tests</th>\n",
       "    </tr>\n",
       "  </thead>\n",
       "  <tbody>\n",
       "    <tr>\n",
       "      <th>0</th>\n",
       "      <td>China</td>\n",
       "      <td>1439323776</td>\n",
       "      <td>153</td>\n",
       "      <td>-348399.0</td>\n",
       "      <td>38.0</td>\n",
       "      <td>0.61</td>\n",
       "      <td>1.0</td>\n",
       "      <td>82919.0</td>\n",
       "      <td>4633.0</td>\n",
       "      <td>78171.0</td>\n",
       "      <td>NaN</td>\n",
       "    </tr>\n",
       "    <tr>\n",
       "      <th>1</th>\n",
       "      <td>India</td>\n",
       "      <td>1380004385</td>\n",
       "      <td>464</td>\n",
       "      <td>-532687.0</td>\n",
       "      <td>28.0</td>\n",
       "      <td>0.35</td>\n",
       "      <td>NaN</td>\n",
       "      <td>71369.0</td>\n",
       "      <td>2310.0</td>\n",
       "      <td>23033.0</td>\n",
       "      <td>1759579.0</td>\n",
       "    </tr>\n",
       "    <tr>\n",
       "      <th>2</th>\n",
       "      <td>United States</td>\n",
       "      <td>331002651</td>\n",
       "      <td>36</td>\n",
       "      <td>954806.0</td>\n",
       "      <td>38.0</td>\n",
       "      <td>0.83</td>\n",
       "      <td>NaN</td>\n",
       "      <td>1385893.0</td>\n",
       "      <td>81796.0</td>\n",
       "      <td>262225.0</td>\n",
       "      <td>9619855.0</td>\n",
       "    </tr>\n",
       "    <tr>\n",
       "      <th>3</th>\n",
       "      <td>Indonesia</td>\n",
       "      <td>273523615</td>\n",
       "      <td>151</td>\n",
       "      <td>-98955.0</td>\n",
       "      <td>30.0</td>\n",
       "      <td>0.56</td>\n",
       "      <td>NaN</td>\n",
       "      <td>14749.0</td>\n",
       "      <td>1007.0</td>\n",
       "      <td>3063.0</td>\n",
       "      <td>165128.0</td>\n",
       "    </tr>\n",
       "    <tr>\n",
       "      <th>4</th>\n",
       "      <td>Pakistan</td>\n",
       "      <td>220892340</td>\n",
       "      <td>287</td>\n",
       "      <td>-233379.0</td>\n",
       "      <td>23.0</td>\n",
       "      <td>0.35</td>\n",
       "      <td>1.0</td>\n",
       "      <td>32674.0</td>\n",
       "      <td>724.0</td>\n",
       "      <td>8555.0</td>\n",
       "      <td>305851.0</td>\n",
       "    </tr>\n",
       "  </tbody>\n",
       "</table>\n",
       "</div>"
      ],
      "text/plain": [
       "         Country  Population  People_per_sqKm  Migrants  Avg_Age  \\\n",
       "0          China  1439323776              153 -348399.0     38.0   \n",
       "1          India  1380004385              464 -532687.0     28.0   \n",
       "2  United States   331002651               36  954806.0     38.0   \n",
       "3      Indonesia   273523615              151  -98955.0     30.0   \n",
       "4       Pakistan   220892340              287 -233379.0     23.0   \n",
       "\n",
       "   Urban_Pop_perc  Free_healthcare  Total_Cases  Total_Deaths  \\\n",
       "0            0.61              1.0      82919.0        4633.0   \n",
       "1            0.35              NaN      71369.0        2310.0   \n",
       "2            0.83              NaN    1385893.0       81796.0   \n",
       "3            0.56              NaN      14749.0        1007.0   \n",
       "4            0.35              1.0      32674.0         724.0   \n",
       "\n",
       "   Total_Recovered  Total_Tests  \n",
       "0          78171.0          NaN  \n",
       "1          23033.0    1759579.0  \n",
       "2         262225.0    9619855.0  \n",
       "3           3063.0     165128.0  \n",
       "4           8555.0     305851.0  "
      ]
     },
     "execution_count": 19,
     "metadata": {},
     "output_type": "execute_result"
    }
   ],
   "source": [
    "df_raw.head()"
   ]
  },
  {
   "cell_type": "code",
   "execution_count": 20,
   "metadata": {},
   "outputs": [
    {
     "data": {
      "text/plain": [
       "Country             object\n",
       "Population           int64\n",
       "People_per_sqKm      int64\n",
       "Migrants           float64\n",
       "Avg_Age            float64\n",
       "Urban_Pop_perc     float64\n",
       "Free_healthcare    float64\n",
       "Total_Cases        float64\n",
       "Total_Deaths       float64\n",
       "Total_Recovered    float64\n",
       "Total_Tests        float64\n",
       "dtype: object"
      ]
     },
     "execution_count": 20,
     "metadata": {},
     "output_type": "execute_result"
    }
   ],
   "source": [
    "df_raw.dtypes"
   ]
  },
  {
   "cell_type": "markdown",
   "metadata": {},
   "source": [
    "## 3. Clean and analyze the model\n",
    "\n",
    "Now  I create a function that cleans the DF, create the model and gives back:\n",
    "\n",
    "**1.** The r squared value to know if the model is ok to predict cases\n",
    "\n",
    "**2.** The effect grade\n",
    "\n",
    "**3.** The coefficients of the model\n",
    "\n",
    "In my case the X will be always the population and Healthcare columns. Regarding the 'y', I will check all the columns from COVID: total cases, total deaths, total recovered and total tests.\n"
   ]
  },
  {
   "cell_type": "markdown",
   "metadata": {},
   "source": [
    "#### Function\n",
    "\n",
    "To understand the cleaning, let's see the proportion of **NaN** values in each column:"
   ]
  },
  {
   "cell_type": "code",
   "execution_count": 21,
   "metadata": {},
   "outputs": [
    {
     "data": {
      "text/plain": [
       "Country            0.000000\n",
       "Population         0.000000\n",
       "People_per_sqKm    0.000000\n",
       "Migrants           0.144681\n",
       "Avg_Age            0.144681\n",
       "Urban_Pop_perc     0.055319\n",
       "Free_healthcare    0.523404\n",
       "Total_Cases        0.097872\n",
       "Total_Deaths       0.255319\n",
       "Total_Recovered    0.119149\n",
       "Total_Tests        0.221277\n",
       "dtype: float64"
      ]
     },
     "execution_count": 21,
     "metadata": {},
     "output_type": "execute_result"
    }
   ],
   "source": [
    "df_raw.isnull().mean()"
   ]
  },
  {
   "cell_type": "code",
   "execution_count": 22,
   "metadata": {},
   "outputs": [],
   "source": [
    "df_raw['Free_healthcare'].fillna(0, inplace=True)\n",
    "#As I mentioned in 1.3, NaN values of this column are changed to 0 (representing NO) "
   ]
  },
  {
   "cell_type": "code",
   "execution_count": 23,
   "metadata": {},
   "outputs": [],
   "source": [
    "def get_model_inf(df, resp):\n",
    "    '''\n",
    "    INPUT\n",
    "    df - pandas dataframe \n",
    "    resp - column name for the y\n",
    "    \n",
    "    OUTPUT\n",
    "    rsquared value\n",
    "    effect of the rsquared \n",
    "    dataframe of the model coefficients\n",
    "    '''\n",
    "    #first we remove the 'Country' column, which does not add value to our model\n",
    "    df = df.drop(['Country'],axis=1)\n",
    "    \n",
    "    #then I drop the columns that I do not want to use depending on which is the response vector\n",
    "    if resp == 'Total_Cases':\n",
    "        df = df.drop(['Total_Deaths','Total_Recovered', 'Total_Tests'],axis=1)\n",
    "    elif resp == 'Total_Deaths':\n",
    "        df = df.drop(['Total_Cases','Total_Recovered','Total_Tests'],axis=1)\n",
    "    elif resp == 'Total_Recovered':\n",
    "        df = df.drop(['Total_Cases','Total_Deaths','Total_Tests'],axis=1)\n",
    "    elif resp == 'Total_Tests':\n",
    "        df = df.drop(['Total_Cases','Total_Deaths','Total_Recovered'],axis=1)\n",
    "        df['Total_Tests'].fillna(0, inplace=True)#I assume that, if there are no figures for test, country is not doing test\n",
    "    else:\n",
    "        print('error, no right input')\n",
    "    \n",
    "    #I remove any NaN\n",
    "    df = df.dropna(subset=[resp], axis=0)\n",
    "    #Below I remove the NaN with the average of each column\n",
    "    df['Avg_Age'].fillna((df['Avg_Age'].mean()), inplace=True)\n",
    "    df['Urban_Pop_perc'].fillna((df['Urban_Pop_perc'].mean()), inplace=True)\n",
    "    df['Migrants'].fillna((df['Migrants'].mean()), inplace=True)\n",
    "    #I create the X matrix and the y response vector\n",
    "    y = df[resp]\n",
    "    df = df.drop([resp], axis=1)\n",
    "    X = df\n",
    "    #Rsquared and y_test\n",
    "    lm_model = LinearRegression(normalize=True) # Instantiate\n",
    "    lm_model.fit(X, y) #Fit\n",
    "    y_preds = lm_model.predict(X)\n",
    "    rsquared_score = r2_score(y, y_preds)\n",
    "    \n",
    "    if rsquared_score<0.3:\n",
    "        effect = 'very weak'\n",
    "    elif rsquared_score<0.5:\n",
    "        effect = 'weak'\n",
    "    elif rsquared_score<0.7:\n",
    "        effect = 'moderate'\n",
    "    else:\n",
    "        effect = 'strong'\n",
    "    #here I get the coefficients\n",
    "    coefs_df = pd.DataFrame()\n",
    "    coefs_df['est_int'] = X.columns\n",
    "    coefs_df['coefs'] = lm_model.coef_\n",
    "    coefs_df['abs_coefs'] = np.abs(lm_model.coef_)\n",
    "    coefs_df = coefs_df.sort_values('abs_coefs', ascending=False)\n",
    "    return rsquared_score, effect, coefs_df"
   ]
  },
  {
   "cell_type": "markdown",
   "metadata": {},
   "source": [
    "#### Analyzing the model"
   ]
  },
  {
   "cell_type": "code",
   "execution_count": 24,
   "metadata": {},
   "outputs": [
    {
     "name": "stdout",
     "output_type": "stream",
     "text": [
      "With Total Cases as vector response: The rsquared is 0.5363015878354991.\n",
      "Such rsquared value means that the effect is moderate.\n",
      "\n",
      "Its coefficients dataframe is:\n",
      "\t\n",
      "           est_int         coefs     abs_coefs\n",
      "5  Free_healthcare -12197.463387  12197.463387\n",
      "4   Urban_Pop_perc  -1198.643950   1198.643950\n",
      "3          Avg_Age    672.917732    672.917732\n",
      "2         Migrants      0.610457      0.610457\n",
      "1  People_per_sqKm     -0.585351      0.585351\n",
      "0       Population      0.000307      0.000307\n",
      "With Total Deaths as vector response: The rsquared is 0.4483137862578398.\n",
      "Such rsquared value means that the effect is weak.\n",
      "\n",
      "Its coefficients dataframe is:\n",
      "\t\n",
      "           est_int        coefs    abs_coefs\n",
      "5  Free_healthcare -1117.625084  1117.625084\n",
      "3          Avg_Age    92.103184    92.103184\n",
      "4   Urban_Pop_perc    14.517189    14.517189\n",
      "1  People_per_sqKm    -0.068764     0.068764\n",
      "2         Migrants     0.037750     0.037750\n",
      "0       Population     0.000018     0.000018\n",
      "With Total Recovered as vector response: The rsquared is 0.519340255036522.\n",
      "Such rsquared value means that the effect is moderate.\n",
      "\n",
      "Its coefficients dataframe is:\n",
      "\t\n",
      "           est_int        coefs    abs_coefs\n",
      "5  Free_healthcare  1653.725972  1653.725972\n",
      "4   Urban_Pop_perc  1630.309553  1630.309553\n",
      "3          Avg_Age   339.021555   339.021555\n",
      "1  People_per_sqKm    -0.438774     0.438774\n",
      "2         Migrants     0.147401     0.147401\n",
      "0       Population     0.000094     0.000094\n",
      "With Total Tests as vector response: The rsquared is 0.5154234877557214.\n",
      "Such rsquared value means that the effect is moderate.\n",
      "\n",
      "Its coefficients dataframe is:\n",
      "\t\n",
      "           est_int         coefs     abs_coefs\n",
      "4   Urban_Pop_perc -34337.906271  34337.906271\n",
      "3          Avg_Age  10844.551497  10844.551497\n",
      "5  Free_healthcare -10530.192913  10530.192913\n",
      "1  People_per_sqKm    -10.773804     10.773804\n",
      "2         Migrants      4.790021      4.790021\n",
      "0       Population      0.002551      0.002551\n"
     ]
    }
   ],
   "source": [
    "#4 possible evaluations, TotalCases, TotalDeaths and TotalRecovered\n",
    "resp_cases = ['Total_Cases','Total_Deaths','Total_Recovered','Total_Tests']\n",
    "for case in resp_cases:\n",
    "    rsquared_score, effect, coefs_df = get_model_inf(df_raw,case)\n",
    "    print(\"With {} as vector response: The rsquared is {}.\".format(case.replace('_',' '),rsquared_score))\n",
    "    print('Such rsquared value means that the effect is {}.\\n'.format(effect))\n",
    "    print('Its coefficients dataframe is:\\n\\t')\n",
    "    print(coefs_df)"
   ]
  },
  {
   "cell_type": "markdown",
   "metadata": {},
   "source": [
    "#### Moderate\n",
    "\n",
    "is the relation between COVID-19 cases and the matrix evaluated.\n",
    "Let see which is  the actual relationship between all of them in some **insights**.\n",
    "\n",
    "But, firstly, since **TOTAL CASES** is the best represented column, I am going to clean df_raw and clean the NaN"
   ]
  },
  {
   "cell_type": "code",
   "execution_count": 25,
   "metadata": {},
   "outputs": [
    {
     "data": {
      "text/plain": [
       "Country            0.000000\n",
       "Population         0.000000\n",
       "People_per_sqKm    0.000000\n",
       "Migrants           0.000000\n",
       "Avg_Age            0.000000\n",
       "Urban_Pop_perc     0.000000\n",
       "Free_healthcare    0.000000\n",
       "Total_Cases        0.000000\n",
       "Total_Deaths       0.000000\n",
       "Total_Recovered    0.000000\n",
       "Total_Tests        0.136792\n",
       "dtype: float64"
      ]
     },
     "execution_count": 25,
     "metadata": {},
     "output_type": "execute_result"
    }
   ],
   "source": [
    "df_plot = df_raw.copy()\n",
    "df_plot = df_plot.dropna(subset=['Total_Cases'], axis=0)\n",
    "#Below I remove the NaN with a \"0\"\n",
    "df_plot['Total_Deaths'].fillna(0, inplace=True)\n",
    "df_plot['Total_Recovered'].fillna(0, inplace=True)\n",
    "#df_plot['Total_Tests'].fillna(0, inplace=True)\n",
    "#Below I remove the NaN with the average of each column\n",
    "df_plot['Avg_Age'].fillna((df_plot['Avg_Age'].mean()), inplace=True)\n",
    "df_plot['Urban_Pop_perc'].fillna((df_plot['Urban_Pop_perc'].mean()), inplace=True)\n",
    "df_plot['Migrants'].fillna((df_plot['Migrants'].mean()), inplace=True)\n",
    "df_plot.isnull().mean()"
   ]
  },
  {
   "cell_type": "code",
   "execution_count": 26,
   "metadata": {},
   "outputs": [
    {
     "data": {
      "text/html": [
       "<div>\n",
       "<style scoped>\n",
       "    .dataframe tbody tr th:only-of-type {\n",
       "        vertical-align: middle;\n",
       "    }\n",
       "\n",
       "    .dataframe tbody tr th {\n",
       "        vertical-align: top;\n",
       "    }\n",
       "\n",
       "    .dataframe thead th {\n",
       "        text-align: right;\n",
       "    }\n",
       "</style>\n",
       "<table border=\"1\" class=\"dataframe\">\n",
       "  <thead>\n",
       "    <tr style=\"text-align: right;\">\n",
       "      <th></th>\n",
       "      <th>Country</th>\n",
       "      <th>Population</th>\n",
       "      <th>People_per_sqKm</th>\n",
       "      <th>Migrants</th>\n",
       "      <th>Avg_Age</th>\n",
       "      <th>Urban_Pop_perc</th>\n",
       "      <th>Free_healthcare</th>\n",
       "      <th>Total_Cases</th>\n",
       "      <th>Total_Deaths</th>\n",
       "      <th>Total_Recovered</th>\n",
       "      <th>Total_Tests</th>\n",
       "    </tr>\n",
       "  </thead>\n",
       "  <tbody>\n",
       "    <tr>\n",
       "      <th>0</th>\n",
       "      <td>China</td>\n",
       "      <td>1439323776</td>\n",
       "      <td>153</td>\n",
       "      <td>-348399.0</td>\n",
       "      <td>38.0</td>\n",
       "      <td>0.61</td>\n",
       "      <td>1.0</td>\n",
       "      <td>82919.0</td>\n",
       "      <td>4633.0</td>\n",
       "      <td>78171.0</td>\n",
       "      <td>NaN</td>\n",
       "    </tr>\n",
       "    <tr>\n",
       "      <th>1</th>\n",
       "      <td>India</td>\n",
       "      <td>1380004385</td>\n",
       "      <td>464</td>\n",
       "      <td>-532687.0</td>\n",
       "      <td>28.0</td>\n",
       "      <td>0.35</td>\n",
       "      <td>0.0</td>\n",
       "      <td>71369.0</td>\n",
       "      <td>2310.0</td>\n",
       "      <td>23033.0</td>\n",
       "      <td>1759579.0</td>\n",
       "    </tr>\n",
       "    <tr>\n",
       "      <th>2</th>\n",
       "      <td>United States</td>\n",
       "      <td>331002651</td>\n",
       "      <td>36</td>\n",
       "      <td>954806.0</td>\n",
       "      <td>38.0</td>\n",
       "      <td>0.83</td>\n",
       "      <td>0.0</td>\n",
       "      <td>1385893.0</td>\n",
       "      <td>81796.0</td>\n",
       "      <td>262225.0</td>\n",
       "      <td>9619855.0</td>\n",
       "    </tr>\n",
       "    <tr>\n",
       "      <th>3</th>\n",
       "      <td>Indonesia</td>\n",
       "      <td>273523615</td>\n",
       "      <td>151</td>\n",
       "      <td>-98955.0</td>\n",
       "      <td>30.0</td>\n",
       "      <td>0.56</td>\n",
       "      <td>0.0</td>\n",
       "      <td>14749.0</td>\n",
       "      <td>1007.0</td>\n",
       "      <td>3063.0</td>\n",
       "      <td>165128.0</td>\n",
       "    </tr>\n",
       "    <tr>\n",
       "      <th>4</th>\n",
       "      <td>Pakistan</td>\n",
       "      <td>220892340</td>\n",
       "      <td>287</td>\n",
       "      <td>-233379.0</td>\n",
       "      <td>23.0</td>\n",
       "      <td>0.35</td>\n",
       "      <td>1.0</td>\n",
       "      <td>32674.0</td>\n",
       "      <td>724.0</td>\n",
       "      <td>8555.0</td>\n",
       "      <td>305851.0</td>\n",
       "    </tr>\n",
       "  </tbody>\n",
       "</table>\n",
       "</div>"
      ],
      "text/plain": [
       "         Country  Population  People_per_sqKm  Migrants  Avg_Age  \\\n",
       "0          China  1439323776              153 -348399.0     38.0   \n",
       "1          India  1380004385              464 -532687.0     28.0   \n",
       "2  United States   331002651               36  954806.0     38.0   \n",
       "3      Indonesia   273523615              151  -98955.0     30.0   \n",
       "4       Pakistan   220892340              287 -233379.0     23.0   \n",
       "\n",
       "   Urban_Pop_perc  Free_healthcare  Total_Cases  Total_Deaths  \\\n",
       "0            0.61              1.0      82919.0        4633.0   \n",
       "1            0.35              0.0      71369.0        2310.0   \n",
       "2            0.83              0.0    1385893.0       81796.0   \n",
       "3            0.56              0.0      14749.0        1007.0   \n",
       "4            0.35              1.0      32674.0         724.0   \n",
       "\n",
       "   Total_Recovered  Total_Tests  \n",
       "0          78171.0          NaN  \n",
       "1          23033.0    1759579.0  \n",
       "2         262225.0    9619855.0  \n",
       "3           3063.0     165128.0  \n",
       "4           8555.0     305851.0  "
      ]
     },
     "execution_count": 26,
     "metadata": {},
     "output_type": "execute_result"
    }
   ],
   "source": [
    "df_plot.head()"
   ]
  },
  {
   "cell_type": "markdown",
   "metadata": {},
   "source": [
    "## 4.Visualization and evaluation of the insights\n",
    "\n",
    "  I am going to prove to see what says an histogram for the new df_plot"
   ]
  },
  {
   "cell_type": "code",
   "execution_count": 27,
   "metadata": {},
   "outputs": [
    {
     "data": {
      "image/png": "[encoded data removed]",
      "text/plain": [
       "<Figure size 432x288 with 12 Axes>"
      ]
     },
     "metadata": {
      "needs_background": "light"
     },
     "output_type": "display_data"
    }
   ],
   "source": [
    "df_plot.hist();"
   ]
  },
  {
   "cell_type": "markdown",
   "metadata": {},
   "source": [
    "Above histogrand does not tell me much to me, let see a heatmap:"
   ]
  },
  {
   "cell_type": "code",
   "execution_count": 28,
   "metadata": {},
   "outputs": [
    {
     "data": {
      "image/png": "[encoded data removed]",
      "text/plain": [
       "<Figure size 432x288 with 2 Axes>"
      ]
     },
     "metadata": {
      "needs_background": "light"
     },
     "output_type": "display_data"
    }
   ],
   "source": [
    "sns.heatmap(df_plot.corr(), annot= True, fmt='.2f');"
   ]
  },
  {
   "cell_type": "markdown",
   "metadata": {},
   "source": [
    "It seems quite better, I can see a high correlation with Migrants, let see it with a higher detail."
   ]
  },
  {
   "cell_type": "code",
   "execution_count": 29,
   "metadata": {},
   "outputs": [
    {
     "data": {
      "text/html": [
       "<div>\n",
       "<style scoped>\n",
       "    .dataframe tbody tr th:only-of-type {\n",
       "        vertical-align: middle;\n",
       "    }\n",
       "\n",
       "    .dataframe tbody tr th {\n",
       "        vertical-align: top;\n",
       "    }\n",
       "\n",
       "    .dataframe thead th {\n",
       "        text-align: right;\n",
       "    }\n",
       "</style>\n",
       "<table border=\"1\" class=\"dataframe\">\n",
       "  <thead>\n",
       "    <tr style=\"text-align: right;\">\n",
       "      <th></th>\n",
       "      <th>People_per_sqKm</th>\n",
       "      <th>Migrants</th>\n",
       "      <th>Avg_Age</th>\n",
       "      <th>Urban_Pop_perc</th>\n",
       "      <th>Free_healthcare</th>\n",
       "    </tr>\n",
       "  </thead>\n",
       "  <tbody>\n",
       "    <tr>\n",
       "      <th>Total_Cases</th>\n",
       "      <td>-0.027641</td>\n",
       "      <td>0.603207</td>\n",
       "      <td>0.171921</td>\n",
       "      <td>0.150077</td>\n",
       "      <td>0.049180</td>\n",
       "    </tr>\n",
       "    <tr>\n",
       "      <th>Total_Deaths</th>\n",
       "      <td>-0.029966</td>\n",
       "      <td>0.554738</td>\n",
       "      <td>0.206416</td>\n",
       "      <td>0.164361</td>\n",
       "      <td>0.074164</td>\n",
       "    </tr>\n",
       "    <tr>\n",
       "      <th>Total_Recovered</th>\n",
       "      <td>-0.038947</td>\n",
       "      <td>0.518847</td>\n",
       "      <td>0.246875</td>\n",
       "      <td>0.181859</td>\n",
       "      <td>0.147935</td>\n",
       "    </tr>\n",
       "    <tr>\n",
       "      <th>Total_Tests</th>\n",
       "      <td>-0.035353</td>\n",
       "      <td>0.600530</td>\n",
       "      <td>0.239032</td>\n",
       "      <td>0.171332</td>\n",
       "      <td>0.098997</td>\n",
       "    </tr>\n",
       "  </tbody>\n",
       "</table>\n",
       "</div>"
      ],
      "text/plain": [
       "                 People_per_sqKm  Migrants   Avg_Age  Urban_Pop_perc  \\\n",
       "Total_Cases            -0.027641  0.603207  0.171921        0.150077   \n",
       "Total_Deaths           -0.029966  0.554738  0.206416        0.164361   \n",
       "Total_Recovered        -0.038947  0.518847  0.246875        0.181859   \n",
       "Total_Tests            -0.035353  0.600530  0.239032        0.171332   \n",
       "\n",
       "                 Free_healthcare  \n",
       "Total_Cases             0.049180  \n",
       "Total_Deaths            0.074164  \n",
       "Total_Recovered         0.147935  \n",
       "Total_Tests             0.098997  "
      ]
     },
     "execution_count": 29,
     "metadata": {},
     "output_type": "execute_result"
    }
   ],
   "source": [
    "df_corr = df_plot.corr()\n",
    "df_corr = df_corr[['People_per_sqKm','Migrants','Avg_Age','Urban_Pop_perc','Free_healthcare']]\n",
    "df_corr = df_corr.drop(['Population','People_per_sqKm','Migrants','Avg_Age','Urban_Pop_perc','Free_healthcare'],axis=0)\n",
    "df_corr"
   ]
  },
  {
   "cell_type": "code",
   "execution_count": 30,
   "metadata": {},
   "outputs": [
    {
     "data": {
      "image/png": "[encoded data removed]",
      "text/plain": [
       "<Figure size 432x288 with 2 Axes>"
      ]
     },
     "metadata": {
      "needs_background": "light"
     },
     "output_type": "display_data"
    }
   ],
   "source": [
    "sns.heatmap(df_corr, annot= True, fmt='.2f');\n",
    "plt.savefig('pics created\\\\heatmap_01.png')#I like the pic and I save it"
   ]
  },
  {
   "cell_type": "markdown",
   "metadata": {},
   "source": [
    "### First question answered\n",
    "\n",
    "**Migrants** is the column with a higher correlation with the COVID-19 cases, I was expecting People per square Kilometer, but it is not related at all! actually it have negative relationship.\n",
    "\n",
    "I want to plot the scatter of the columns with a higher relationship, TOTAL CASES and MIGRANTS. to double check its relationship.\n"
   ]
  },
  {
   "cell_type": "code",
   "execution_count": 31,
   "metadata": {},
   "outputs": [
    {
     "data": {
      "image/png": "[encoded data removed]",
      "text/plain": [
       "<Figure size 432x288 with 1 Axes>"
      ]
     },
     "metadata": {
      "needs_background": "light"
     },
     "output_type": "display_data"
    }
   ],
   "source": [
    "\n",
    "plt.scatter(df_plot['Migrants'],df_plot['Total_Cases'])\n",
    "\n",
    "plt.show()"
   ]
  },
  {
   "cell_type": "markdown",
   "metadata": {},
   "source": [
    "Let see the **linear regression** in the plot. I am going to create functions to make life easier"
   ]
  },
  {
   "cell_type": "code",
   "execution_count": 32,
   "metadata": {},
   "outputs": [],
   "source": [
    "from scipy import stats\n"
   ]
  },
  {
   "cell_type": "code",
   "execution_count": 33,
   "metadata": {},
   "outputs": [],
   "source": [
    "def plot_lin(x,y):\n",
    "    slope, intercept, r, p, std_err = stats.linregress(x, y)\n",
    "    mymodel = list(map(lambda x: slope * x + intercept, x))\n",
    "    plt.scatter(x, y)\n",
    "    plt.plot(x, mymodel)\n",
    "    return plt, r"
   ]
  },
  {
   "cell_type": "code",
   "execution_count": 34,
   "metadata": {},
   "outputs": [],
   "source": [
    "def plot_poly(x,y,mini,maxi,grade):\n",
    "    mymodel = np.poly1d(np.polyfit(x, y, grade))\n",
    "    myline = np.linspace(mini, maxi, 100)\n",
    "    plt.scatter(x, y)\n",
    "    plt.plot(myline, mymodel(myline))\n",
    "    r = r2_score(y, mymodel(x))\n",
    "    return plt, r"
   ]
  },
  {
   "cell_type": "code",
   "execution_count": 35,
   "metadata": {},
   "outputs": [
    {
     "data": {
      "image/png": "[encoded data removed]",
      "text/plain": [
       "<Figure size 432x288 with 1 Axes>"
      ]
     },
     "metadata": {
      "needs_background": "light"
     },
     "output_type": "display_data"
    }
   ],
   "source": [
    "plt, r = plot_lin(df_plot['Migrants'],df_plot['Total_Cases'])\n",
    "\n",
    "plt.show() "
   ]
  },
  {
   "cell_type": "code",
   "execution_count": 36,
   "metadata": {},
   "outputs": [
    {
     "data": {
      "text/plain": [
       "0.6032065009444504"
      ]
     },
     "execution_count": 36,
     "metadata": {},
     "output_type": "execute_result"
    }
   ],
   "source": [
    "r#check the r2"
   ]
  },
  {
   "cell_type": "markdown",
   "metadata": {},
   "source": [
    "It seems that a polynomial regression will match much better:"
   ]
  },
  {
   "cell_type": "code",
   "execution_count": 37,
   "metadata": {},
   "outputs": [
    {
     "data": {
      "image/png": "[encoded data removed]",
      "text/plain": [
       "<Figure size 432x288 with 1 Axes>"
      ]
     },
     "metadata": {
      "needs_background": "light"
     },
     "output_type": "display_data"
    }
   ],
   "source": [
    "\n",
    "plt, r = plot_poly(df_plot['Migrants'],df_plot['Total_Cases'],-600000,1000000,3)\n",
    "plt.ylabel('Total COVID-19 cases')\n",
    "plt.xlabel('Migrants')\n",
    "plt.savefig('pics created\\\\chart_01.png')#I like the pic and I save it\n",
    "plt.show()\n"
   ]
  },
  {
   "cell_type": "code",
   "execution_count": 38,
   "metadata": {},
   "outputs": [
    {
     "data": {
      "text/plain": [
       "0.8719105678046252"
      ]
     },
     "execution_count": 38,
     "metadata": {},
     "output_type": "execute_result"
    }
   ],
   "source": [
    "r#check the r2"
   ]
  },
  {
   "cell_type": "markdown",
   "metadata": {},
   "source": [
    "#### GREAT\n",
    "\n",
    "I have got a curve that represents the relation between them in a right way.\n",
    "\n",
    "Now, I will plotter the Average age\n"
   ]
  },
  {
   "cell_type": "code",
   "execution_count": 39,
   "metadata": {},
   "outputs": [
    {
     "data": {
      "image/png": "[encoded data removed]",
      "text/plain": [
       "<Figure size 432x288 with 1 Axes>"
      ]
     },
     "metadata": {
      "needs_background": "light"
     },
     "output_type": "display_data"
    }
   ],
   "source": [
    "plt, r = plot_lin(df_plot['People_per_sqKm'],df_plot['Total_Cases'])\n",
    "\n",
    "plt.show() "
   ]
  },
  {
   "cell_type": "markdown",
   "metadata": {},
   "source": [
    "Chart above does not show much"
   ]
  },
  {
   "cell_type": "markdown",
   "metadata": {},
   "source": [
    "### What about Average  Age?\n",
    "\n",
    "let see if we can find a model to relate average age with deaths."
   ]
  },
  {
   "cell_type": "code",
   "execution_count": 40,
   "metadata": {},
   "outputs": [
    {
     "data": {
      "text/plain": [
       "0.20641567142329695"
      ]
     },
     "execution_count": 40,
     "metadata": {},
     "output_type": "execute_result"
    },
    {
     "data": {
      "image/png": "[encoded data removed]",
      "text/plain": [
       "<Figure size 432x288 with 1 Axes>"
      ]
     },
     "metadata": {
      "needs_background": "light"
     },
     "output_type": "display_data"
    }
   ],
   "source": [
    "plt, r = plot_lin(df_plot['Avg_Age'],df_plot['Total_Deaths'])\n",
    "r"
   ]
  },
  {
   "cell_type": "code",
   "execution_count": 41,
   "metadata": {},
   "outputs": [
    {
     "data": {
      "text/plain": [
       "0.20641567142329695"
      ]
     },
     "execution_count": 41,
     "metadata": {},
     "output_type": "execute_result"
    }
   ],
   "source": [
    "r"
   ]
  },
  {
   "cell_type": "code",
   "execution_count": 42,
   "metadata": {},
   "outputs": [
    {
     "data": {
      "text/plain": [
       "0.24687522323568864"
      ]
     },
     "execution_count": 42,
     "metadata": {},
     "output_type": "execute_result"
    },
    {
     "data": {
      "image/png": "[encoded data removed]",
      "text/plain": [
       "<Figure size 432x288 with 1 Axes>"
      ]
     },
     "metadata": {
      "needs_background": "light"
     },
     "output_type": "display_data"
    }
   ],
   "source": [
    "plt, r = plot_lin(df_plot['Avg_Age'],df_plot['Total_Recovered'])\n",
    "r"
   ]
  },
  {
   "cell_type": "code",
   "execution_count": 43,
   "metadata": {},
   "outputs": [
    {
     "name": "stderr",
     "output_type": "stream",
     "text": [
      "C:\\Users\\cvila\\Anaconda3\\lib\\site-packages\\scipy\\stats\\_distn_infrastructure.py:903: RuntimeWarning: invalid value encountered in greater\n",
      "  return (a < x) & (x < b)\n",
      "C:\\Users\\cvila\\Anaconda3\\lib\\site-packages\\scipy\\stats\\_distn_infrastructure.py:903: RuntimeWarning: invalid value encountered in less\n",
      "  return (a < x) & (x < b)\n",
      "C:\\Users\\cvila\\Anaconda3\\lib\\site-packages\\scipy\\stats\\_distn_infrastructure.py:1912: RuntimeWarning: invalid value encountered in less_equal\n",
      "  cond2 = cond0 & (x <= _a)\n"
     ]
    },
    {
     "data": {
      "text/plain": [
       "nan"
      ]
     },
     "execution_count": 43,
     "metadata": {},
     "output_type": "execute_result"
    },
    {
     "data": {
      "image/png": "[encoded data removed]",
      "text/plain": [
       "<Figure size 432x288 with 1 Axes>"
      ]
     },
     "metadata": {
      "needs_background": "light"
     },
     "output_type": "display_data"
    }
   ],
   "source": [
    "plt, r = plot_lin(df_plot['Avg_Age'],df_plot['Total_Tests'])\n",
    "r"
   ]
  },
  {
   "cell_type": "markdown",
   "metadata": {},
   "source": [
    "I cannot see a good **model** matching with the figures. However it is clear that the higher is the average age, the higher are the Deaths. However the relationship is even higher with the recoverd cases and with the tests made in the country"
   ]
  },
  {
   "cell_type": "markdown",
   "metadata": {},
   "source": [
    "Lets plot another heatmap to show Average Age correlation with population columns as well.\n",
    "\n"
   ]
  },
  {
   "cell_type": "code",
   "execution_count": 44,
   "metadata": {},
   "outputs": [
    {
     "data": {
      "image/png": "[encoded data removed]",
      "text/plain": [
       "<Figure size 432x288 with 2 Axes>"
      ]
     },
     "metadata": {
      "needs_background": "light"
     },
     "output_type": "display_data"
    }
   ],
   "source": [
    "df_age_corr = df_plot.corr()\n",
    "df_age_corr_plot = df_age_corr.loc[['People_per_sqKm','Migrants','Urban_Pop_perc','Free_healthcare',\n",
    "                                    'Total_Cases','Total_Deaths','Total_Recovered','Total_Tests'],['Avg_Age']]\n",
    "sns.heatmap(df_age_corr_plot, annot= True, fmt='.2f');\n",
    "plt.savefig('pics created\\\\heatmap_02.png')#I like the pic and I save it\n"
   ]
  },
  {
   "cell_type": "markdown",
   "metadata": {},
   "source": [
    "It is clear that the **average age** is directly related with **Free Healthcare**. I mean in the countries with Free Healthcare policies, the average age seems to be higher"
   ]
  },
  {
   "cell_type": "markdown",
   "metadata": {},
   "source": [
    "### Healthcare\n",
    "\n",
    "Lets plot some good **insights** to see its relationship.\n",
    "\n",
    "I am going to prepare a table with the Cases Fatality rate, Test per million, etc."
   ]
  },
  {
   "cell_type": "code",
   "execution_count": 45,
   "metadata": {},
   "outputs": [
    {
     "data": {
      "text/html": [
       "<div>\n",
       "<style scoped>\n",
       "    .dataframe tbody tr th:only-of-type {\n",
       "        vertical-align: middle;\n",
       "    }\n",
       "\n",
       "    .dataframe tbody tr th {\n",
       "        vertical-align: top;\n",
       "    }\n",
       "\n",
       "    .dataframe thead th {\n",
       "        text-align: right;\n",
       "    }\n",
       "</style>\n",
       "<table border=\"1\" class=\"dataframe\">\n",
       "  <thead>\n",
       "    <tr style=\"text-align: right;\">\n",
       "      <th></th>\n",
       "      <th>Country</th>\n",
       "      <th>Population</th>\n",
       "      <th>People_per_sqKm</th>\n",
       "      <th>Migrants</th>\n",
       "      <th>Avg_Age</th>\n",
       "      <th>Urban_Pop_perc</th>\n",
       "      <th>Free_healthcare</th>\n",
       "      <th>Total_Cases</th>\n",
       "      <th>Total_Deaths</th>\n",
       "      <th>Total_Recovered</th>\n",
       "      <th>Total_Tests</th>\n",
       "    </tr>\n",
       "  </thead>\n",
       "  <tbody>\n",
       "    <tr>\n",
       "      <th>0</th>\n",
       "      <td>China</td>\n",
       "      <td>1439323776</td>\n",
       "      <td>153</td>\n",
       "      <td>-348399.0</td>\n",
       "      <td>38.0</td>\n",
       "      <td>0.61</td>\n",
       "      <td>1.0</td>\n",
       "      <td>82919.0</td>\n",
       "      <td>4633.0</td>\n",
       "      <td>78171.0</td>\n",
       "      <td>NaN</td>\n",
       "    </tr>\n",
       "    <tr>\n",
       "      <th>1</th>\n",
       "      <td>India</td>\n",
       "      <td>1380004385</td>\n",
       "      <td>464</td>\n",
       "      <td>-532687.0</td>\n",
       "      <td>28.0</td>\n",
       "      <td>0.35</td>\n",
       "      <td>0.0</td>\n",
       "      <td>71369.0</td>\n",
       "      <td>2310.0</td>\n",
       "      <td>23033.0</td>\n",
       "      <td>1759579.0</td>\n",
       "    </tr>\n",
       "    <tr>\n",
       "      <th>2</th>\n",
       "      <td>United States</td>\n",
       "      <td>331002651</td>\n",
       "      <td>36</td>\n",
       "      <td>954806.0</td>\n",
       "      <td>38.0</td>\n",
       "      <td>0.83</td>\n",
       "      <td>0.0</td>\n",
       "      <td>1385893.0</td>\n",
       "      <td>81796.0</td>\n",
       "      <td>262225.0</td>\n",
       "      <td>9619855.0</td>\n",
       "    </tr>\n",
       "    <tr>\n",
       "      <th>3</th>\n",
       "      <td>Indonesia</td>\n",
       "      <td>273523615</td>\n",
       "      <td>151</td>\n",
       "      <td>-98955.0</td>\n",
       "      <td>30.0</td>\n",
       "      <td>0.56</td>\n",
       "      <td>0.0</td>\n",
       "      <td>14749.0</td>\n",
       "      <td>1007.0</td>\n",
       "      <td>3063.0</td>\n",
       "      <td>165128.0</td>\n",
       "    </tr>\n",
       "    <tr>\n",
       "      <th>4</th>\n",
       "      <td>Pakistan</td>\n",
       "      <td>220892340</td>\n",
       "      <td>287</td>\n",
       "      <td>-233379.0</td>\n",
       "      <td>23.0</td>\n",
       "      <td>0.35</td>\n",
       "      <td>1.0</td>\n",
       "      <td>32674.0</td>\n",
       "      <td>724.0</td>\n",
       "      <td>8555.0</td>\n",
       "      <td>305851.0</td>\n",
       "    </tr>\n",
       "  </tbody>\n",
       "</table>\n",
       "</div>"
      ],
      "text/plain": [
       "         Country  Population  People_per_sqKm  Migrants  Avg_Age  \\\n",
       "0          China  1439323776              153 -348399.0     38.0   \n",
       "1          India  1380004385              464 -532687.0     28.0   \n",
       "2  United States   331002651               36  954806.0     38.0   \n",
       "3      Indonesia   273523615              151  -98955.0     30.0   \n",
       "4       Pakistan   220892340              287 -233379.0     23.0   \n",
       "\n",
       "   Urban_Pop_perc  Free_healthcare  Total_Cases  Total_Deaths  \\\n",
       "0            0.61              1.0      82919.0        4633.0   \n",
       "1            0.35              0.0      71369.0        2310.0   \n",
       "2            0.83              0.0    1385893.0       81796.0   \n",
       "3            0.56              0.0      14749.0        1007.0   \n",
       "4            0.35              1.0      32674.0         724.0   \n",
       "\n",
       "   Total_Recovered  Total_Tests  \n",
       "0          78171.0          NaN  \n",
       "1          23033.0    1759579.0  \n",
       "2         262225.0    9619855.0  \n",
       "3           3063.0     165128.0  \n",
       "4           8555.0     305851.0  "
      ]
     },
     "execution_count": 45,
     "metadata": {},
     "output_type": "execute_result"
    }
   ],
   "source": [
    "\n",
    "df_plot.head()\n"
   ]
  },
  {
   "cell_type": "code",
   "execution_count": 46,
   "metadata": {},
   "outputs": [],
   "source": [
    "df_hc = pd.DataFrame()"
   ]
  },
  {
   "cell_type": "code",
   "execution_count": 47,
   "metadata": {},
   "outputs": [
    {
     "data": {
      "text/html": [
       "<div>\n",
       "<style scoped>\n",
       "    .dataframe tbody tr th:only-of-type {\n",
       "        vertical-align: middle;\n",
       "    }\n",
       "\n",
       "    .dataframe tbody tr th {\n",
       "        vertical-align: top;\n",
       "    }\n",
       "\n",
       "    .dataframe thead tr th {\n",
       "        text-align: left;\n",
       "    }\n",
       "\n",
       "    .dataframe thead tr:last-of-type th {\n",
       "        text-align: right;\n",
       "    }\n",
       "</style>\n",
       "<table border=\"1\" class=\"dataframe\">\n",
       "  <thead>\n",
       "    <tr>\n",
       "      <th></th>\n",
       "      <th colspan=\"2\" halign=\"left\">Population</th>\n",
       "    </tr>\n",
       "    <tr>\n",
       "      <th></th>\n",
       "      <th>count</th>\n",
       "      <th>sum</th>\n",
       "    </tr>\n",
       "    <tr>\n",
       "      <th>Free_Healthcare</th>\n",
       "      <th></th>\n",
       "      <th></th>\n",
       "    </tr>\n",
       "  </thead>\n",
       "  <tbody>\n",
       "    <tr>\n",
       "      <th>No</th>\n",
       "      <td>107</td>\n",
       "      <td>3928832487</td>\n",
       "    </tr>\n",
       "    <tr>\n",
       "      <th>Yes</th>\n",
       "      <td>105</td>\n",
       "      <td>3827096811</td>\n",
       "    </tr>\n",
       "  </tbody>\n",
       "</table>\n",
       "</div>"
      ],
      "text/plain": [
       "                Population            \n",
       "                     count         sum\n",
       "Free_Healthcare                       \n",
       "No                     107  3928832487\n",
       "Yes                    105  3827096811"
      ]
     },
     "execution_count": 47,
     "metadata": {},
     "output_type": "execute_result"
    }
   ],
   "source": [
    "df_hc['Free_Healthcare'] = df_plot['Free_healthcare']\n",
    "dic_fh = {1: 'Yes', 0:'No'}#dictionary to change 1 and 0 to the right categorical value\n",
    "df_hc.replace({'Free_Healthcare':dic_fh}, inplace = True)\n",
    "df_hc['Population'] = df_plot['Population']\n",
    "group_df_hc_raw = df_hc.groupby('Free_Healthcare').agg({'count','sum'})\n",
    "group_df_hc_raw"
   ]
  },
  {
   "cell_type": "markdown",
   "metadata": {},
   "source": [
    "### Rough figures\n",
    "\n",
    "Above table is nice, you can see quickly how many countries has free healtcare policies and the amount of people.\n",
    "Let's edit the fortmats:"
   ]
  },
  {
   "cell_type": "code",
   "execution_count": 48,
   "metadata": {},
   "outputs": [
    {
     "data": {
      "text/html": [
       "<div>\n",
       "<style scoped>\n",
       "    .dataframe tbody tr th:only-of-type {\n",
       "        vertical-align: middle;\n",
       "    }\n",
       "\n",
       "    .dataframe tbody tr th {\n",
       "        vertical-align: top;\n",
       "    }\n",
       "\n",
       "    .dataframe thead th {\n",
       "        text-align: right;\n",
       "    }\n",
       "</style>\n",
       "<table border=\"1\" class=\"dataframe\">\n",
       "  <thead>\n",
       "    <tr style=\"text-align: right;\">\n",
       "      <th></th>\n",
       "      <th>Free Healthcare Policies</th>\n",
       "      <th>Number of Countries</th>\n",
       "      <th>People in the group</th>\n",
       "    </tr>\n",
       "  </thead>\n",
       "  <tbody>\n",
       "    <tr>\n",
       "      <th>0</th>\n",
       "      <td>No</td>\n",
       "      <td>107</td>\n",
       "      <td>3.93 Billions</td>\n",
       "    </tr>\n",
       "    <tr>\n",
       "      <th>1</th>\n",
       "      <td>Yes</td>\n",
       "      <td>105</td>\n",
       "      <td>3.83 Billions</td>\n",
       "    </tr>\n",
       "  </tbody>\n",
       "</table>\n",
       "</div>"
      ],
      "text/plain": [
       "  Free Healthcare Policies  Number of Countries People in the group\n",
       "0                       No                  107       3.93 Billions\n",
       "1                      Yes                  105       3.83 Billions"
      ]
     },
     "execution_count": 48,
     "metadata": {},
     "output_type": "execute_result"
    }
   ],
   "source": [
    "df_hc_table = pd.DataFrame()\n",
    "df_hc_table['Free Healthcare Policies'] = group_df_hc_raw.index\n",
    "df_hc_table['Number of Countries'] = group_df_hc_raw[('Population', 'count')].tolist()\n",
    "df_hc_table['People in the group'] = group_df_hc_raw[('Population','sum')].apply(lambda x: \"{0:.2f} Billions\".format(x/1e9)).tolist()\n",
    "df_hc_table"
   ]
  },
  {
   "cell_type": "markdown",
   "metadata": {},
   "source": [
    "Creating a couple of function to save time if I want to get rates grouped by or not:"
   ]
  },
  {
   "cell_type": "code",
   "execution_count": 49,
   "metadata": {},
   "outputs": [],
   "source": [
    "def group_df(df,gr_by = None):\n",
    "    x = [gr_by, 'Population']\n",
    "    if gr_by != None:\n",
    "        df = df.drop(list(set(df.columns.tolist()[0:7]) - set(x)),axis=1)\n",
    "        df = df.groupby(gr_by).sum()\n",
    "        \n",
    "    return df\n",
    "\n",
    "def rate_df(df, clean=False):\n",
    "    df['Cases per 1M P']= (df['Total_Cases']*1e6)/df['Population']\n",
    "    df['Tests per 1M P']= (df['Total_Tests']*1e6)/df['Population']\n",
    "    df['Deaths per 1M P'] = (df['Total_Deaths']*1e6)/df['Population']\n",
    "    df['Recovered per 1M P'] = (df['Total_Recovered']*1e6)/df['Population']\n",
    "    df['Total_Tests'].mask(df['Total_Tests']<df['Total_Cases'],df['Total_Cases'],inplace=True)\n",
    "    df['Positives Rate']= df['Total_Cases']*100/df['Total_Tests']\n",
    "    df['Case Fatality Rate'] = (df['Total_Deaths']*100)/df['Total_Cases']\n",
    "    df['Case Recovery Rate'] = (df['Total_Recovered']*100)/df['Total_Cases']\n",
    "    df['Active Cases Rate'] = 100 - (df['Case Fatality Rate'] + df['Case Recovery Rate'])\n",
    "    if clean == True:\n",
    "        df = df.drop(df.columns.tolist()[0:5],axis=1)\n",
    "    df.replace([np.inf, -np.inf], np.nan, inplace=True)#in positives rate np.inf might happen\n",
    "    return df\n",
    "\n"
   ]
  },
  {
   "cell_type": "markdown",
   "metadata": {},
   "source": [
    "Now I am going to get higher details, rates and so on:"
   ]
  },
  {
   "cell_type": "code",
   "execution_count": 50,
   "metadata": {},
   "outputs": [
    {
     "data": {
      "text/html": [
       "<div>\n",
       "<style scoped>\n",
       "    .dataframe tbody tr th:only-of-type {\n",
       "        vertical-align: middle;\n",
       "    }\n",
       "\n",
       "    .dataframe tbody tr th {\n",
       "        vertical-align: top;\n",
       "    }\n",
       "\n",
       "    .dataframe thead th {\n",
       "        text-align: right;\n",
       "    }\n",
       "</style>\n",
       "<table border=\"1\" class=\"dataframe\">\n",
       "  <thead>\n",
       "    <tr style=\"text-align: right;\">\n",
       "      <th></th>\n",
       "      <th>Population</th>\n",
       "      <th>Total_Cases</th>\n",
       "      <th>Total_Deaths</th>\n",
       "      <th>Total_Recovered</th>\n",
       "      <th>Total_Tests</th>\n",
       "    </tr>\n",
       "    <tr>\n",
       "      <th>Free_healthcare</th>\n",
       "      <th></th>\n",
       "      <th></th>\n",
       "      <th></th>\n",
       "      <th></th>\n",
       "      <th></th>\n",
       "    </tr>\n",
       "  </thead>\n",
       "  <tbody>\n",
       "    <tr>\n",
       "      <th>0.0</th>\n",
       "      <td>3928832487</td>\n",
       "      <td>1625083.0</td>\n",
       "      <td>90776.0</td>\n",
       "      <td>344115.0</td>\n",
       "      <td>14394621.0</td>\n",
       "    </tr>\n",
       "    <tr>\n",
       "      <th>1.0</th>\n",
       "      <td>3827096811</td>\n",
       "      <td>2651916.0</td>\n",
       "      <td>196911.0</td>\n",
       "      <td>1192340.0</td>\n",
       "      <td>34928782.0</td>\n",
       "    </tr>\n",
       "  </tbody>\n",
       "</table>\n",
       "</div>"
      ],
      "text/plain": [
       "                 Population  Total_Cases  Total_Deaths  Total_Recovered  \\\n",
       "Free_healthcare                                                           \n",
       "0.0              3928832487    1625083.0       90776.0         344115.0   \n",
       "1.0              3827096811    2651916.0      196911.0        1192340.0   \n",
       "\n",
       "                 Total_Tests  \n",
       "Free_healthcare               \n",
       "0.0               14394621.0  \n",
       "1.0               34928782.0  "
      ]
     },
     "execution_count": 50,
     "metadata": {},
     "output_type": "execute_result"
    }
   ],
   "source": [
    "group_df_hc = pd.DataFrame()\n",
    "group_df_hc = group_df(df_plot,'Free_healthcare')\n",
    "group_df_hc.head()"
   ]
  },
  {
   "cell_type": "code",
   "execution_count": 51,
   "metadata": {},
   "outputs": [
    {
     "data": {
      "text/html": [
       "<div>\n",
       "<style scoped>\n",
       "    .dataframe tbody tr th:only-of-type {\n",
       "        vertical-align: middle;\n",
       "    }\n",
       "\n",
       "    .dataframe tbody tr th {\n",
       "        vertical-align: top;\n",
       "    }\n",
       "\n",
       "    .dataframe thead th {\n",
       "        text-align: right;\n",
       "    }\n",
       "</style>\n",
       "<table border=\"1\" class=\"dataframe\">\n",
       "  <thead>\n",
       "    <tr style=\"text-align: right;\">\n",
       "      <th></th>\n",
       "      <th>Population</th>\n",
       "      <th>Total_Cases</th>\n",
       "      <th>Total_Deaths</th>\n",
       "      <th>Total_Recovered</th>\n",
       "      <th>Total_Tests</th>\n",
       "      <th>Cases per 1M P</th>\n",
       "      <th>Tests per 1M P</th>\n",
       "      <th>Deaths per 1M P</th>\n",
       "      <th>Recovered per 1M P</th>\n",
       "      <th>Positives Rate</th>\n",
       "      <th>Case Fatality Rate</th>\n",
       "      <th>Case Recovery Rate</th>\n",
       "      <th>Active Cases Rate</th>\n",
       "    </tr>\n",
       "    <tr>\n",
       "      <th>Free_healthcare</th>\n",
       "      <th></th>\n",
       "      <th></th>\n",
       "      <th></th>\n",
       "      <th></th>\n",
       "      <th></th>\n",
       "      <th></th>\n",
       "      <th></th>\n",
       "      <th></th>\n",
       "      <th></th>\n",
       "      <th></th>\n",
       "      <th></th>\n",
       "      <th></th>\n",
       "      <th></th>\n",
       "    </tr>\n",
       "  </thead>\n",
       "  <tbody>\n",
       "    <tr>\n",
       "      <th>0.0</th>\n",
       "      <td>3928832487</td>\n",
       "      <td>1625083.0</td>\n",
       "      <td>90776.0</td>\n",
       "      <td>344115.0</td>\n",
       "      <td>14394621.0</td>\n",
       "      <td>413.630005</td>\n",
       "      <td>3663.841879</td>\n",
       "      <td>23.105083</td>\n",
       "      <td>87.587089</td>\n",
       "      <td>11.289516</td>\n",
       "      <td>5.585930</td>\n",
       "      <td>21.175226</td>\n",
       "      <td>73.238844</td>\n",
       "    </tr>\n",
       "    <tr>\n",
       "      <th>1.0</th>\n",
       "      <td>3827096811</td>\n",
       "      <td>2651916.0</td>\n",
       "      <td>196911.0</td>\n",
       "      <td>1192340.0</td>\n",
       "      <td>34928782.0</td>\n",
       "      <td>692.931517</td>\n",
       "      <td>9126.704582</td>\n",
       "      <td>51.451795</td>\n",
       "      <td>311.552087</td>\n",
       "      <td>7.592352</td>\n",
       "      <td>7.425235</td>\n",
       "      <td>44.961454</td>\n",
       "      <td>47.613311</td>\n",
       "    </tr>\n",
       "  </tbody>\n",
       "</table>\n",
       "</div>"
      ],
      "text/plain": [
       "                 Population  Total_Cases  Total_Deaths  Total_Recovered  \\\n",
       "Free_healthcare                                                           \n",
       "0.0              3928832487    1625083.0       90776.0         344115.0   \n",
       "1.0              3827096811    2651916.0      196911.0        1192340.0   \n",
       "\n",
       "                 Total_Tests  Cases per 1M P  Tests per 1M P  Deaths per 1M P  \\\n",
       "Free_healthcare                                                                 \n",
       "0.0               14394621.0      413.630005     3663.841879        23.105083   \n",
       "1.0               34928782.0      692.931517     9126.704582        51.451795   \n",
       "\n",
       "                 Recovered per 1M P  Positives Rate  Case Fatality Rate  \\\n",
       "Free_healthcare                                                           \n",
       "0.0                       87.587089       11.289516            5.585930   \n",
       "1.0                      311.552087        7.592352            7.425235   \n",
       "\n",
       "                 Case Recovery Rate  Active Cases Rate  \n",
       "Free_healthcare                                         \n",
       "0.0                       21.175226          73.238844  \n",
       "1.0                       44.961454          47.613311  "
      ]
     },
     "execution_count": 51,
     "metadata": {},
     "output_type": "execute_result"
    }
   ],
   "source": [
    "group_df_hc = rate_df(group_df_hc)\n",
    "group_df_hc.head()"
   ]
  },
  {
   "cell_type": "code",
   "execution_count": 52,
   "metadata": {},
   "outputs": [
    {
     "data": {
      "text/html": [
       "<div>\n",
       "<style scoped>\n",
       "    .dataframe tbody tr th:only-of-type {\n",
       "        vertical-align: middle;\n",
       "    }\n",
       "\n",
       "    .dataframe tbody tr th {\n",
       "        vertical-align: top;\n",
       "    }\n",
       "\n",
       "    .dataframe thead th {\n",
       "        text-align: right;\n",
       "    }\n",
       "</style>\n",
       "<table border=\"1\" class=\"dataframe\">\n",
       "  <thead>\n",
       "    <tr style=\"text-align: right;\">\n",
       "      <th></th>\n",
       "      <th>Cases per 1M P</th>\n",
       "      <th>Tests per 1M P</th>\n",
       "      <th>Deaths per 1M P</th>\n",
       "      <th>Recovered per 1M P</th>\n",
       "      <th>Positives Rate</th>\n",
       "      <th>Case Fatality Rate</th>\n",
       "      <th>Case Recovery Rate</th>\n",
       "      <th>Active Cases Rate</th>\n",
       "    </tr>\n",
       "    <tr>\n",
       "      <th>Free_healthcare</th>\n",
       "      <th></th>\n",
       "      <th></th>\n",
       "      <th></th>\n",
       "      <th></th>\n",
       "      <th></th>\n",
       "      <th></th>\n",
       "      <th></th>\n",
       "      <th></th>\n",
       "    </tr>\n",
       "  </thead>\n",
       "  <tbody>\n",
       "    <tr>\n",
       "      <th>0.0</th>\n",
       "      <td>413.630005</td>\n",
       "      <td>3663.841879</td>\n",
       "      <td>23.105083</td>\n",
       "      <td>87.587089</td>\n",
       "      <td>11.289516</td>\n",
       "      <td>5.585930</td>\n",
       "      <td>21.175226</td>\n",
       "      <td>73.238844</td>\n",
       "    </tr>\n",
       "    <tr>\n",
       "      <th>1.0</th>\n",
       "      <td>692.931517</td>\n",
       "      <td>9126.704582</td>\n",
       "      <td>51.451795</td>\n",
       "      <td>311.552087</td>\n",
       "      <td>7.592352</td>\n",
       "      <td>7.425235</td>\n",
       "      <td>44.961454</td>\n",
       "      <td>47.613311</td>\n",
       "    </tr>\n",
       "  </tbody>\n",
       "</table>\n",
       "</div>"
      ],
      "text/plain": [
       "                 Cases per 1M P  Tests per 1M P  Deaths per 1M P  \\\n",
       "Free_healthcare                                                    \n",
       "0.0                  413.630005     3663.841879        23.105083   \n",
       "1.0                  692.931517     9126.704582        51.451795   \n",
       "\n",
       "                 Recovered per 1M P  Positives Rate  Case Fatality Rate  \\\n",
       "Free_healthcare                                                           \n",
       "0.0                       87.587089       11.289516            5.585930   \n",
       "1.0                      311.552087        7.592352            7.425235   \n",
       "\n",
       "                 Case Recovery Rate  Active Cases Rate  \n",
       "Free_healthcare                                         \n",
       "0.0                       21.175226          73.238844  \n",
       "1.0                       44.961454          47.613311  "
      ]
     },
     "execution_count": 52,
     "metadata": {},
     "output_type": "execute_result"
    }
   ],
   "source": [
    "group_df_hc = rate_df(group_df_hc,True)\n",
    "group_df_hc.head()"
   ]
  },
  {
   "cell_type": "markdown",
   "metadata": {},
   "source": [
    "**I will use this table above also**, I have seen some figures that answer many questions. Lets clean it:"
   ]
  },
  {
   "cell_type": "code",
   "execution_count": 53,
   "metadata": {},
   "outputs": [],
   "source": [
    "def format_dfrate(df):\n",
    "    #function to amend the format of the dataframe\n",
    "    for col in df.columns.tolist():\n",
    "        if 'Rate' in col:\n",
    "            df[col] = df[col].apply(lambda x: \"{0:.2f}%\".format(x))\n",
    "        else:\n",
    "            df[col] = df[col].apply(lambda x: \"{0:.2f}\".format(x))\n",
    "    return df"
   ]
  },
  {
   "cell_type": "code",
   "execution_count": 54,
   "metadata": {},
   "outputs": [
    {
     "data": {
      "text/html": [
       "<div>\n",
       "<style scoped>\n",
       "    .dataframe tbody tr th:only-of-type {\n",
       "        vertical-align: middle;\n",
       "    }\n",
       "\n",
       "    .dataframe tbody tr th {\n",
       "        vertical-align: top;\n",
       "    }\n",
       "\n",
       "    .dataframe thead th {\n",
       "        text-align: right;\n",
       "    }\n",
       "</style>\n",
       "<table border=\"1\" class=\"dataframe\">\n",
       "  <thead>\n",
       "    <tr style=\"text-align: right;\">\n",
       "      <th></th>\n",
       "      <th>Free healthcare</th>\n",
       "      <th>Cases per 1M P</th>\n",
       "      <th>Tests per 1M P</th>\n",
       "      <th>Deaths per 1M P</th>\n",
       "      <th>Recovered per 1M P</th>\n",
       "      <th>Positives Rate</th>\n",
       "      <th>Case Fatality Rate</th>\n",
       "      <th>Case Recovery Rate</th>\n",
       "      <th>Active Cases Rate</th>\n",
       "    </tr>\n",
       "  </thead>\n",
       "  <tbody>\n",
       "    <tr>\n",
       "      <th>0</th>\n",
       "      <td>No</td>\n",
       "      <td>413.63</td>\n",
       "      <td>3663.84</td>\n",
       "      <td>23.11</td>\n",
       "      <td>87.59</td>\n",
       "      <td>11.29%</td>\n",
       "      <td>5.59%</td>\n",
       "      <td>21.18%</td>\n",
       "      <td>73.24%</td>\n",
       "    </tr>\n",
       "    <tr>\n",
       "      <th>1</th>\n",
       "      <td>Yes</td>\n",
       "      <td>692.93</td>\n",
       "      <td>9126.70</td>\n",
       "      <td>51.45</td>\n",
       "      <td>311.55</td>\n",
       "      <td>7.59%</td>\n",
       "      <td>7.43%</td>\n",
       "      <td>44.96%</td>\n",
       "      <td>47.61%</td>\n",
       "    </tr>\n",
       "  </tbody>\n",
       "</table>\n",
       "</div>"
      ],
      "text/plain": [
       "  Free healthcare Cases per 1M P Tests per 1M P Deaths per 1M P  \\\n",
       "0              No         413.63        3663.84           23.11   \n",
       "1             Yes         692.93        9126.70           51.45   \n",
       "\n",
       "  Recovered per 1M P Positives Rate Case Fatality Rate Case Recovery Rate  \\\n",
       "0              87.59         11.29%              5.59%             21.18%   \n",
       "1             311.55          7.59%              7.43%             44.96%   \n",
       "\n",
       "  Active Cases Rate  \n",
       "0            73.24%  \n",
       "1            47.61%  "
      ]
     },
     "execution_count": 54,
     "metadata": {},
     "output_type": "execute_result"
    }
   ],
   "source": [
    "group_df_hc = format_dfrate(group_df_hc)\n",
    "group_df_hc['Free healthcare'] = ['No','Yes']\n",
    "group_df_hc = group_df_hc.iloc[[0,1],[8,0,1,2,3,4,5,6,7]]\n",
    "group_df_hc = group_df_hc.reset_index(drop=True)\n",
    "\n",
    "group_df_hc"
   ]
  },
  {
   "cell_type": "markdown",
   "metadata": {},
   "source": [
    "#### Another good insight\n",
    "\n",
    "I will use table below in my post, tell you that, despite thefact that the **fatality rate is similar**, **case recovery rate is much higher** in countries **with free healthcare**"
   ]
  },
  {
   "cell_type": "code",
   "execution_count": 55,
   "metadata": {},
   "outputs": [
    {
     "data": {
      "text/html": [
       "<div>\n",
       "<style scoped>\n",
       "    .dataframe tbody tr th:only-of-type {\n",
       "        vertical-align: middle;\n",
       "    }\n",
       "\n",
       "    .dataframe tbody tr th {\n",
       "        vertical-align: top;\n",
       "    }\n",
       "\n",
       "    .dataframe thead th {\n",
       "        text-align: right;\n",
       "    }\n",
       "</style>\n",
       "<table border=\"1\" class=\"dataframe\">\n",
       "  <thead>\n",
       "    <tr style=\"text-align: right;\">\n",
       "      <th></th>\n",
       "      <th>Free healthcare</th>\n",
       "      <th>Cases per 1M P</th>\n",
       "      <th>Tests per 1M P</th>\n",
       "      <th>Positives Rate</th>\n",
       "      <th>Case Fatality Rate</th>\n",
       "      <th>Case Recovery Rate</th>\n",
       "      <th>Active Cases Rate</th>\n",
       "    </tr>\n",
       "  </thead>\n",
       "  <tbody>\n",
       "    <tr>\n",
       "      <th>0</th>\n",
       "      <td>No</td>\n",
       "      <td>413.63</td>\n",
       "      <td>3663.84</td>\n",
       "      <td>11.29%</td>\n",
       "      <td>5.59%</td>\n",
       "      <td>21.18%</td>\n",
       "      <td>73.24%</td>\n",
       "    </tr>\n",
       "    <tr>\n",
       "      <th>1</th>\n",
       "      <td>Yes</td>\n",
       "      <td>692.93</td>\n",
       "      <td>9126.70</td>\n",
       "      <td>7.59%</td>\n",
       "      <td>7.43%</td>\n",
       "      <td>44.96%</td>\n",
       "      <td>47.61%</td>\n",
       "    </tr>\n",
       "  </tbody>\n",
       "</table>\n",
       "</div>"
      ],
      "text/plain": [
       "  Free healthcare Cases per 1M P Tests per 1M P Positives Rate  \\\n",
       "0              No         413.63        3663.84         11.29%   \n",
       "1             Yes         692.93        9126.70          7.59%   \n",
       "\n",
       "  Case Fatality Rate Case Recovery Rate Active Cases Rate  \n",
       "0              5.59%             21.18%            73.24%  \n",
       "1              7.43%             44.96%            47.61%  "
      ]
     },
     "execution_count": 55,
     "metadata": {},
     "output_type": "execute_result"
    }
   ],
   "source": [
    "group_df_hc= group_df_hc.drop(['Deaths per 1M P','Recovered per 1M P'],axis=1)\n",
    "group_df_hc"
   ]
  },
  {
   "cell_type": "markdown",
   "metadata": {},
   "source": [
    "#### Healthcare and Average age\n",
    "We have seen above the correlation between Average Age and Healthcare, lets plot some insight:"
   ]
  },
  {
   "cell_type": "code",
   "execution_count": 56,
   "metadata": {},
   "outputs": [
    {
     "data": {
      "text/html": [
       "<div>\n",
       "<style scoped>\n",
       "    .dataframe tbody tr th:only-of-type {\n",
       "        vertical-align: middle;\n",
       "    }\n",
       "\n",
       "    .dataframe tbody tr th {\n",
       "        vertical-align: top;\n",
       "    }\n",
       "\n",
       "    .dataframe thead th {\n",
       "        text-align: right;\n",
       "    }\n",
       "</style>\n",
       "<table border=\"1\" class=\"dataframe\">\n",
       "  <thead>\n",
       "    <tr style=\"text-align: right;\">\n",
       "      <th></th>\n",
       "      <th>Country</th>\n",
       "      <th>Population</th>\n",
       "      <th>People_per_sqKm</th>\n",
       "      <th>Migrants</th>\n",
       "      <th>Avg_Age</th>\n",
       "      <th>Urban_Pop_perc</th>\n",
       "      <th>Free_healthcare</th>\n",
       "      <th>Total_Cases</th>\n",
       "      <th>Total_Deaths</th>\n",
       "      <th>Total_Recovered</th>\n",
       "      <th>Total_Tests</th>\n",
       "      <th>Age_Rank</th>\n",
       "    </tr>\n",
       "  </thead>\n",
       "  <tbody>\n",
       "    <tr>\n",
       "      <th>0</th>\n",
       "      <td>China</td>\n",
       "      <td>1439323776</td>\n",
       "      <td>153</td>\n",
       "      <td>-348399.0</td>\n",
       "      <td>38.0</td>\n",
       "      <td>0.61</td>\n",
       "      <td>1.0</td>\n",
       "      <td>82919.0</td>\n",
       "      <td>4633.0</td>\n",
       "      <td>78171.0</td>\n",
       "      <td>NaN</td>\n",
       "      <td>35-40</td>\n",
       "    </tr>\n",
       "    <tr>\n",
       "      <th>1</th>\n",
       "      <td>India</td>\n",
       "      <td>1380004385</td>\n",
       "      <td>464</td>\n",
       "      <td>-532687.0</td>\n",
       "      <td>28.0</td>\n",
       "      <td>0.35</td>\n",
       "      <td>0.0</td>\n",
       "      <td>71369.0</td>\n",
       "      <td>2310.0</td>\n",
       "      <td>23033.0</td>\n",
       "      <td>1759579.0</td>\n",
       "      <td>&lt;=30</td>\n",
       "    </tr>\n",
       "    <tr>\n",
       "      <th>2</th>\n",
       "      <td>United States</td>\n",
       "      <td>331002651</td>\n",
       "      <td>36</td>\n",
       "      <td>954806.0</td>\n",
       "      <td>38.0</td>\n",
       "      <td>0.83</td>\n",
       "      <td>0.0</td>\n",
       "      <td>1385893.0</td>\n",
       "      <td>81796.0</td>\n",
       "      <td>262225.0</td>\n",
       "      <td>9619855.0</td>\n",
       "      <td>35-40</td>\n",
       "    </tr>\n",
       "    <tr>\n",
       "      <th>3</th>\n",
       "      <td>Indonesia</td>\n",
       "      <td>273523615</td>\n",
       "      <td>151</td>\n",
       "      <td>-98955.0</td>\n",
       "      <td>30.0</td>\n",
       "      <td>0.56</td>\n",
       "      <td>0.0</td>\n",
       "      <td>14749.0</td>\n",
       "      <td>1007.0</td>\n",
       "      <td>3063.0</td>\n",
       "      <td>165128.0</td>\n",
       "      <td>&lt;=30</td>\n",
       "    </tr>\n",
       "    <tr>\n",
       "      <th>4</th>\n",
       "      <td>Pakistan</td>\n",
       "      <td>220892340</td>\n",
       "      <td>287</td>\n",
       "      <td>-233379.0</td>\n",
       "      <td>23.0</td>\n",
       "      <td>0.35</td>\n",
       "      <td>1.0</td>\n",
       "      <td>32674.0</td>\n",
       "      <td>724.0</td>\n",
       "      <td>8555.0</td>\n",
       "      <td>305851.0</td>\n",
       "      <td>&lt;=30</td>\n",
       "    </tr>\n",
       "  </tbody>\n",
       "</table>\n",
       "</div>"
      ],
      "text/plain": [
       "         Country  Population  People_per_sqKm  Migrants  Avg_Age  \\\n",
       "0          China  1439323776              153 -348399.0     38.0   \n",
       "1          India  1380004385              464 -532687.0     28.0   \n",
       "2  United States   331002651               36  954806.0     38.0   \n",
       "3      Indonesia   273523615              151  -98955.0     30.0   \n",
       "4       Pakistan   220892340              287 -233379.0     23.0   \n",
       "\n",
       "   Urban_Pop_perc  Free_healthcare  Total_Cases  Total_Deaths  \\\n",
       "0            0.61              1.0      82919.0        4633.0   \n",
       "1            0.35              0.0      71369.0        2310.0   \n",
       "2            0.83              0.0    1385893.0       81796.0   \n",
       "3            0.56              0.0      14749.0        1007.0   \n",
       "4            0.35              1.0      32674.0         724.0   \n",
       "\n",
       "   Total_Recovered  Total_Tests Age_Rank  \n",
       "0          78171.0          NaN    35-40  \n",
       "1          23033.0    1759579.0     <=30  \n",
       "2         262225.0    9619855.0    35-40  \n",
       "3           3063.0     165128.0     <=30  \n",
       "4           8555.0     305851.0     <=30  "
      ]
     },
     "execution_count": 56,
     "metadata": {},
     "output_type": "execute_result"
    }
   ],
   "source": [
    "def age_rank(x):\n",
    "    \"\"\"THis is a function to make categories\n",
    "    for eage average age\n",
    "    Input: average age\n",
    "    Output the category(rank)\"\"\"\n",
    "    if x>45:\n",
    "        s= '>45'\n",
    "    elif x>40:\n",
    "        s='40-45'\n",
    "    elif x>35:\n",
    "        s='35-40'\n",
    "    elif x>30:\n",
    "        s='30-35'\n",
    "    else:\n",
    "        s=\"<=30\"\n",
    "    return s\n",
    "\n",
    "df_plot['Age_Rank'] = df_plot['Avg_Age'].apply(age_rank)\n",
    "df_plot.head()"
   ]
  },
  {
   "cell_type": "code",
   "execution_count": 57,
   "metadata": {},
   "outputs": [
    {
     "data": {
      "text/html": [
       "<div>\n",
       "<style scoped>\n",
       "    .dataframe tbody tr th:only-of-type {\n",
       "        vertical-align: middle;\n",
       "    }\n",
       "\n",
       "    .dataframe tbody tr th {\n",
       "        vertical-align: top;\n",
       "    }\n",
       "\n",
       "    .dataframe thead th {\n",
       "        text-align: right;\n",
       "    }\n",
       "</style>\n",
       "<table border=\"1\" class=\"dataframe\">\n",
       "  <thead>\n",
       "    <tr style=\"text-align: right;\">\n",
       "      <th></th>\n",
       "      <th>Population</th>\n",
       "      <th>Total_Cases</th>\n",
       "      <th>Total_Deaths</th>\n",
       "      <th>Total_Recovered</th>\n",
       "      <th>Total_Tests</th>\n",
       "    </tr>\n",
       "    <tr>\n",
       "      <th>Age_Rank</th>\n",
       "      <th></th>\n",
       "      <th></th>\n",
       "      <th></th>\n",
       "      <th></th>\n",
       "      <th></th>\n",
       "    </tr>\n",
       "  </thead>\n",
       "  <tbody>\n",
       "    <tr>\n",
       "      <th>30-35</th>\n",
       "      <td>756839802</td>\n",
       "      <td>648307.0</td>\n",
       "      <td>26145.0</td>\n",
       "      <td>326426.0</td>\n",
       "      <td>6515963.0</td>\n",
       "    </tr>\n",
       "    <tr>\n",
       "      <th>35-40</th>\n",
       "      <td>2132111871</td>\n",
       "      <td>2017855.0</td>\n",
       "      <td>123173.0</td>\n",
       "      <td>432793.0</td>\n",
       "      <td>19939713.0</td>\n",
       "    </tr>\n",
       "    <tr>\n",
       "      <th>40-45</th>\n",
       "      <td>476367333</td>\n",
       "      <td>825419.0</td>\n",
       "      <td>83283.0</td>\n",
       "      <td>389271.0</td>\n",
       "      <td>10511184.0</td>\n",
       "    </tr>\n",
       "    <tr>\n",
       "      <th>&lt;=30</th>\n",
       "      <td>4098893035</td>\n",
       "      <td>346539.0</td>\n",
       "      <td>14744.0</td>\n",
       "      <td>121871.0</td>\n",
       "      <td>6158894.0</td>\n",
       "    </tr>\n",
       "    <tr>\n",
       "      <th>&gt;45</th>\n",
       "      <td>291717257</td>\n",
       "      <td>438879.0</td>\n",
       "      <td>40342.0</td>\n",
       "      <td>266094.0</td>\n",
       "      <td>6197649.0</td>\n",
       "    </tr>\n",
       "  </tbody>\n",
       "</table>\n",
       "</div>"
      ],
      "text/plain": [
       "          Population  Total_Cases  Total_Deaths  Total_Recovered  Total_Tests\n",
       "Age_Rank                                                                     \n",
       "30-35      756839802     648307.0       26145.0         326426.0    6515963.0\n",
       "35-40     2132111871    2017855.0      123173.0         432793.0   19939713.0\n",
       "40-45      476367333     825419.0       83283.0         389271.0   10511184.0\n",
       "<=30      4098893035     346539.0       14744.0         121871.0    6158894.0\n",
       ">45        291717257     438879.0       40342.0         266094.0    6197649.0"
      ]
     },
     "execution_count": 57,
     "metadata": {},
     "output_type": "execute_result"
    }
   ],
   "source": [
    "df_grouped_Age = pd.DataFrame()\n",
    "df_grouped_Age = group_df(df_plot,'Age_Rank')#I created before a formula to group by and remove some unnecesary data\n",
    "df_grouped_Age.head()\n"
   ]
  },
  {
   "cell_type": "markdown",
   "metadata": {},
   "source": [
    "I call also the rate_df function to get the rates."
   ]
  },
  {
   "cell_type": "code",
   "execution_count": 58,
   "metadata": {},
   "outputs": [
    {
     "data": {
      "text/html": [
       "<div>\n",
       "<style scoped>\n",
       "    .dataframe tbody tr th:only-of-type {\n",
       "        vertical-align: middle;\n",
       "    }\n",
       "\n",
       "    .dataframe tbody tr th {\n",
       "        vertical-align: top;\n",
       "    }\n",
       "\n",
       "    .dataframe thead th {\n",
       "        text-align: right;\n",
       "    }\n",
       "</style>\n",
       "<table border=\"1\" class=\"dataframe\">\n",
       "  <thead>\n",
       "    <tr style=\"text-align: right;\">\n",
       "      <th></th>\n",
       "      <th>Population</th>\n",
       "      <th>Total_Cases</th>\n",
       "      <th>Total_Deaths</th>\n",
       "      <th>Total_Recovered</th>\n",
       "      <th>Total_Tests</th>\n",
       "      <th>Cases per 1M P</th>\n",
       "      <th>Tests per 1M P</th>\n",
       "      <th>Deaths per 1M P</th>\n",
       "      <th>Recovered per 1M P</th>\n",
       "      <th>Positives Rate</th>\n",
       "      <th>Case Fatality Rate</th>\n",
       "      <th>Case Recovery Rate</th>\n",
       "      <th>Active Cases Rate</th>\n",
       "    </tr>\n",
       "    <tr>\n",
       "      <th>Age_Rank</th>\n",
       "      <th></th>\n",
       "      <th></th>\n",
       "      <th></th>\n",
       "      <th></th>\n",
       "      <th></th>\n",
       "      <th></th>\n",
       "      <th></th>\n",
       "      <th></th>\n",
       "      <th></th>\n",
       "      <th></th>\n",
       "      <th></th>\n",
       "      <th></th>\n",
       "      <th></th>\n",
       "    </tr>\n",
       "  </thead>\n",
       "  <tbody>\n",
       "    <tr>\n",
       "      <th>30-35</th>\n",
       "      <td>756839802</td>\n",
       "      <td>648307.0</td>\n",
       "      <td>26145.0</td>\n",
       "      <td>326426.0</td>\n",
       "      <td>6515963.0</td>\n",
       "      <td>856.597391</td>\n",
       "      <td>8609.434893</td>\n",
       "      <td>34.544959</td>\n",
       "      <td>431.301313</td>\n",
       "      <td>9.949519</td>\n",
       "      <td>4.032812</td>\n",
       "      <td>50.350528</td>\n",
       "      <td>45.616660</td>\n",
       "    </tr>\n",
       "    <tr>\n",
       "      <th>35-40</th>\n",
       "      <td>2132111871</td>\n",
       "      <td>2017855.0</td>\n",
       "      <td>123173.0</td>\n",
       "      <td>432793.0</td>\n",
       "      <td>19939713.0</td>\n",
       "      <td>946.411409</td>\n",
       "      <td>9352.095109</td>\n",
       "      <td>57.770421</td>\n",
       "      <td>202.987942</td>\n",
       "      <td>10.119780</td>\n",
       "      <td>6.104155</td>\n",
       "      <td>21.448171</td>\n",
       "      <td>72.447673</td>\n",
       "    </tr>\n",
       "    <tr>\n",
       "      <th>40-45</th>\n",
       "      <td>476367333</td>\n",
       "      <td>825419.0</td>\n",
       "      <td>83283.0</td>\n",
       "      <td>389271.0</td>\n",
       "      <td>10511184.0</td>\n",
       "      <td>1732.736363</td>\n",
       "      <td>22065.291366</td>\n",
       "      <td>174.829368</td>\n",
       "      <td>817.165605</td>\n",
       "      <td>7.852769</td>\n",
       "      <td>10.089785</td>\n",
       "      <td>47.160412</td>\n",
       "      <td>42.749803</td>\n",
       "    </tr>\n",
       "    <tr>\n",
       "      <th>&lt;=30</th>\n",
       "      <td>4098893035</td>\n",
       "      <td>346539.0</td>\n",
       "      <td>14744.0</td>\n",
       "      <td>121871.0</td>\n",
       "      <td>6158894.0</td>\n",
       "      <td>84.544534</td>\n",
       "      <td>1502.574951</td>\n",
       "      <td>3.597069</td>\n",
       "      <td>29.732662</td>\n",
       "      <td>5.626643</td>\n",
       "      <td>4.254644</td>\n",
       "      <td>35.168047</td>\n",
       "      <td>60.577309</td>\n",
       "    </tr>\n",
       "    <tr>\n",
       "      <th>&gt;45</th>\n",
       "      <td>291717257</td>\n",
       "      <td>438879.0</td>\n",
       "      <td>40342.0</td>\n",
       "      <td>266094.0</td>\n",
       "      <td>6197649.0</td>\n",
       "      <td>1504.467046</td>\n",
       "      <td>21245.397217</td>\n",
       "      <td>138.291442</td>\n",
       "      <td>912.164069</td>\n",
       "      <td>7.081379</td>\n",
       "      <td>9.192055</td>\n",
       "      <td>60.630379</td>\n",
       "      <td>30.177566</td>\n",
       "    </tr>\n",
       "  </tbody>\n",
       "</table>\n",
       "</div>"
      ],
      "text/plain": [
       "          Population  Total_Cases  Total_Deaths  Total_Recovered  Total_Tests  \\\n",
       "Age_Rank                                                                        \n",
       "30-35      756839802     648307.0       26145.0         326426.0    6515963.0   \n",
       "35-40     2132111871    2017855.0      123173.0         432793.0   19939713.0   \n",
       "40-45      476367333     825419.0       83283.0         389271.0   10511184.0   \n",
       "<=30      4098893035     346539.0       14744.0         121871.0    6158894.0   \n",
       ">45        291717257     438879.0       40342.0         266094.0    6197649.0   \n",
       "\n",
       "          Cases per 1M P  Tests per 1M P  Deaths per 1M P  Recovered per 1M P  \\\n",
       "Age_Rank                                                                        \n",
       "30-35         856.597391     8609.434893        34.544959          431.301313   \n",
       "35-40         946.411409     9352.095109        57.770421          202.987942   \n",
       "40-45        1732.736363    22065.291366       174.829368          817.165605   \n",
       "<=30           84.544534     1502.574951         3.597069           29.732662   \n",
       ">45          1504.467046    21245.397217       138.291442          912.164069   \n",
       "\n",
       "          Positives Rate  Case Fatality Rate  Case Recovery Rate  \\\n",
       "Age_Rank                                                           \n",
       "30-35           9.949519            4.032812           50.350528   \n",
       "35-40          10.119780            6.104155           21.448171   \n",
       "40-45           7.852769           10.089785           47.160412   \n",
       "<=30            5.626643            4.254644           35.168047   \n",
       ">45             7.081379            9.192055           60.630379   \n",
       "\n",
       "          Active Cases Rate  \n",
       "Age_Rank                     \n",
       "30-35             45.616660  \n",
       "35-40             72.447673  \n",
       "40-45             42.749803  \n",
       "<=30              60.577309  \n",
       ">45               30.177566  "
      ]
     },
     "execution_count": 58,
     "metadata": {},
     "output_type": "execute_result"
    }
   ],
   "source": [
    "df_grouped_Age = rate_df(df_grouped_Age)\n",
    "df_grouped_Age.head()"
   ]
  },
  {
   "cell_type": "markdown",
   "metadata": {},
   "source": [
    "Let's keep just the rates that I would like to **post**"
   ]
  },
  {
   "cell_type": "code",
   "execution_count": 59,
   "metadata": {},
   "outputs": [
    {
     "data": {
      "text/html": [
       "<div>\n",
       "<style scoped>\n",
       "    .dataframe tbody tr th:only-of-type {\n",
       "        vertical-align: middle;\n",
       "    }\n",
       "\n",
       "    .dataframe tbody tr th {\n",
       "        vertical-align: top;\n",
       "    }\n",
       "\n",
       "    .dataframe thead th {\n",
       "        text-align: right;\n",
       "    }\n",
       "</style>\n",
       "<table border=\"1\" class=\"dataframe\">\n",
       "  <thead>\n",
       "    <tr style=\"text-align: right;\">\n",
       "      <th></th>\n",
       "      <th>Population</th>\n",
       "      <th>Cases per 1M P</th>\n",
       "      <th>Case Fatality Rate</th>\n",
       "      <th>Case Recovery Rate</th>\n",
       "      <th>Active Cases Rate</th>\n",
       "    </tr>\n",
       "    <tr>\n",
       "      <th>Age_Rank</th>\n",
       "      <th></th>\n",
       "      <th></th>\n",
       "      <th></th>\n",
       "      <th></th>\n",
       "      <th></th>\n",
       "    </tr>\n",
       "  </thead>\n",
       "  <tbody>\n",
       "    <tr>\n",
       "      <th>30-35</th>\n",
       "      <td>756839802</td>\n",
       "      <td>856.597391</td>\n",
       "      <td>4.032812</td>\n",
       "      <td>50.350528</td>\n",
       "      <td>45.616660</td>\n",
       "    </tr>\n",
       "    <tr>\n",
       "      <th>35-40</th>\n",
       "      <td>2132111871</td>\n",
       "      <td>946.411409</td>\n",
       "      <td>6.104155</td>\n",
       "      <td>21.448171</td>\n",
       "      <td>72.447673</td>\n",
       "    </tr>\n",
       "    <tr>\n",
       "      <th>40-45</th>\n",
       "      <td>476367333</td>\n",
       "      <td>1732.736363</td>\n",
       "      <td>10.089785</td>\n",
       "      <td>47.160412</td>\n",
       "      <td>42.749803</td>\n",
       "    </tr>\n",
       "    <tr>\n",
       "      <th>&lt;=30</th>\n",
       "      <td>4098893035</td>\n",
       "      <td>84.544534</td>\n",
       "      <td>4.254644</td>\n",
       "      <td>35.168047</td>\n",
       "      <td>60.577309</td>\n",
       "    </tr>\n",
       "    <tr>\n",
       "      <th>&gt;45</th>\n",
       "      <td>291717257</td>\n",
       "      <td>1504.467046</td>\n",
       "      <td>9.192055</td>\n",
       "      <td>60.630379</td>\n",
       "      <td>30.177566</td>\n",
       "    </tr>\n",
       "  </tbody>\n",
       "</table>\n",
       "</div>"
      ],
      "text/plain": [
       "          Population  Cases per 1M P  Case Fatality Rate  Case Recovery Rate  \\\n",
       "Age_Rank                                                                       \n",
       "30-35      756839802      856.597391            4.032812           50.350528   \n",
       "35-40     2132111871      946.411409            6.104155           21.448171   \n",
       "40-45      476367333     1732.736363           10.089785           47.160412   \n",
       "<=30      4098893035       84.544534            4.254644           35.168047   \n",
       ">45        291717257     1504.467046            9.192055           60.630379   \n",
       "\n",
       "          Active Cases Rate  \n",
       "Age_Rank                     \n",
       "30-35             45.616660  \n",
       "35-40             72.447673  \n",
       "40-45             42.749803  \n",
       "<=30              60.577309  \n",
       ">45               30.177566  "
      ]
     },
     "execution_count": 59,
     "metadata": {},
     "output_type": "execute_result"
    }
   ],
   "source": [
    "df_grouped_Age = df_grouped_Age.drop(df_grouped_Age.columns.tolist()[1:5],axis=1)\n",
    "df_grouped_Age = df_grouped_Age.drop(df_grouped_Age.columns.tolist()[2:6],axis=1)\n",
    "df_grouped_Age"
   ]
  },
  {
   "cell_type": "markdown",
   "metadata": {},
   "source": [
    "Reordering..."
   ]
  },
  {
   "cell_type": "code",
   "execution_count": 60,
   "metadata": {},
   "outputs": [
    {
     "data": {
      "text/html": [
       "<div>\n",
       "<style scoped>\n",
       "    .dataframe tbody tr th:only-of-type {\n",
       "        vertical-align: middle;\n",
       "    }\n",
       "\n",
       "    .dataframe tbody tr th {\n",
       "        vertical-align: top;\n",
       "    }\n",
       "\n",
       "    .dataframe thead th {\n",
       "        text-align: right;\n",
       "    }\n",
       "</style>\n",
       "<table border=\"1\" class=\"dataframe\">\n",
       "  <thead>\n",
       "    <tr style=\"text-align: right;\">\n",
       "      <th></th>\n",
       "      <th>Population</th>\n",
       "      <th>Cases per 1M P</th>\n",
       "      <th>Case Fatality Rate</th>\n",
       "      <th>Case Recovery Rate</th>\n",
       "      <th>Active Cases Rate</th>\n",
       "    </tr>\n",
       "    <tr>\n",
       "      <th>Age_Rank</th>\n",
       "      <th></th>\n",
       "      <th></th>\n",
       "      <th></th>\n",
       "      <th></th>\n",
       "      <th></th>\n",
       "    </tr>\n",
       "  </thead>\n",
       "  <tbody>\n",
       "    <tr>\n",
       "      <th>&gt;45</th>\n",
       "      <td>291717257</td>\n",
       "      <td>1504.467046</td>\n",
       "      <td>9.192055</td>\n",
       "      <td>60.630379</td>\n",
       "      <td>30.177566</td>\n",
       "    </tr>\n",
       "    <tr>\n",
       "      <th>40-45</th>\n",
       "      <td>476367333</td>\n",
       "      <td>1732.736363</td>\n",
       "      <td>10.089785</td>\n",
       "      <td>47.160412</td>\n",
       "      <td>42.749803</td>\n",
       "    </tr>\n",
       "    <tr>\n",
       "      <th>35-40</th>\n",
       "      <td>2132111871</td>\n",
       "      <td>946.411409</td>\n",
       "      <td>6.104155</td>\n",
       "      <td>21.448171</td>\n",
       "      <td>72.447673</td>\n",
       "    </tr>\n",
       "    <tr>\n",
       "      <th>30-35</th>\n",
       "      <td>756839802</td>\n",
       "      <td>856.597391</td>\n",
       "      <td>4.032812</td>\n",
       "      <td>50.350528</td>\n",
       "      <td>45.616660</td>\n",
       "    </tr>\n",
       "    <tr>\n",
       "      <th>&lt;=30</th>\n",
       "      <td>4098893035</td>\n",
       "      <td>84.544534</td>\n",
       "      <td>4.254644</td>\n",
       "      <td>35.168047</td>\n",
       "      <td>60.577309</td>\n",
       "    </tr>\n",
       "  </tbody>\n",
       "</table>\n",
       "</div>"
      ],
      "text/plain": [
       "          Population  Cases per 1M P  Case Fatality Rate  Case Recovery Rate  \\\n",
       "Age_Rank                                                                       \n",
       ">45        291717257     1504.467046            9.192055           60.630379   \n",
       "40-45      476367333     1732.736363           10.089785           47.160412   \n",
       "35-40     2132111871      946.411409            6.104155           21.448171   \n",
       "30-35      756839802      856.597391            4.032812           50.350528   \n",
       "<=30      4098893035       84.544534            4.254644           35.168047   \n",
       "\n",
       "          Active Cases Rate  \n",
       "Age_Rank                     \n",
       ">45               30.177566  \n",
       "40-45             42.749803  \n",
       "35-40             72.447673  \n",
       "30-35             45.616660  \n",
       "<=30              60.577309  "
      ]
     },
     "execution_count": 60,
     "metadata": {},
     "output_type": "execute_result"
    }
   ],
   "source": [
    "df_grouped_Age = df_grouped_Age.iloc[[4,2,1,0,3],[0,1,2,3,4]]\n",
    "df_grouped_Age"
   ]
  },
  {
   "cell_type": "markdown",
   "metadata": {},
   "source": [
    "### Correct DataFrame\n",
    "\n",
    "I have obtained a proper dataframe to plot some good insights"
   ]
  },
  {
   "cell_type": "code",
   "execution_count": 61,
   "metadata": {},
   "outputs": [
    {
     "data": {
      "text/plain": [
       "Text(0, 0.5, 'Population in billions')"
      ]
     },
     "execution_count": 61,
     "metadata": {},
     "output_type": "execute_result"
    },
    {
     "data": {
      "image/png": "[encoded data removed]",
      "text/plain": [
       "<Figure size 432x288 with 2 Axes>"
      ]
     },
     "metadata": {
      "needs_background": "light"
     },
     "output_type": "display_data"
    }
   ],
   "source": [
    "f = plt.figure()\n",
    "ax = df_grouped_Age['Cases per 1M P'].plot.bar(rot=0,color='#3086c1')\n",
    "ax2 = ax.twinx()\n",
    "\n",
    "ax2.plot(ax.get_xticks(),\n",
    "         df_grouped_Age['Population'].values,\n",
    "         linestyle=' ',\n",
    "         marker='o', color='#5530c1')\n",
    "\n",
    "ax.set_ylabel('Cases per 1M people')\n",
    "ax2.set_ylabel('Population in billions')\n"
   ]
  },
  {
   "cell_type": "code",
   "execution_count": 62,
   "metadata": {},
   "outputs": [],
   "source": [
    "f.savefig('pics created\\\\chart_01.png')#I like the pic and I save it\n"
   ]
  },
  {
   "cell_type": "markdown",
   "metadata": {},
   "source": [
    "We can see that it is clear that the **target of the virus** is the **old people**"
   ]
  },
  {
   "cell_type": "markdown",
   "metadata": {},
   "source": [
    "Lets plot rest of the vars"
   ]
  },
  {
   "cell_type": "code",
   "execution_count": 63,
   "metadata": {},
   "outputs": [
    {
     "data": {
      "text/plain": [
       "Text(0, 0.5, '%')"
      ]
     },
     "execution_count": 63,
     "metadata": {},
     "output_type": "execute_result"
    },
    {
     "data": {
      "text/plain": [
       "<Figure size 432x288 with 0 Axes>"
      ]
     },
     "metadata": {},
     "output_type": "display_data"
    },
    {
     "data": {
      "image/png": "[encoded data removed]",
      "text/plain": [
       "<Figure size 432x288 with 1 Axes>"
      ]
     },
     "metadata": {
      "needs_background": "light"
     },
     "output_type": "display_data"
    }
   ],
   "source": [
    "f = plt.figure()\n",
    "df_grouped_Age[['Case Fatality Rate','Case Recovery Rate','Active Cases Rate']].plot(kind='bar', stacked=True)\n",
    "plt.ylabel('%')\n"
   ]
  },
  {
   "cell_type": "markdown",
   "metadata": {},
   "source": [
    "Chart Above is great to see how advance are the countries fighting with the **disease**, depending on how old are they\n",
    "\n"
   ]
  },
  {
   "cell_type": "markdown",
   "metadata": {},
   "source": [
    "### Finally\n",
    "\n",
    "I want to show some geopandas map, I think they are really self explanatory! "
   ]
  },
  {
   "cell_type": "code",
   "execution_count": 64,
   "metadata": {},
   "outputs": [
    {
     "data": {
      "text/html": [
       "<div>\n",
       "<style scoped>\n",
       "    .dataframe tbody tr th:only-of-type {\n",
       "        vertical-align: middle;\n",
       "    }\n",
       "\n",
       "    .dataframe tbody tr th {\n",
       "        vertical-align: top;\n",
       "    }\n",
       "\n",
       "    .dataframe thead th {\n",
       "        text-align: right;\n",
       "    }\n",
       "</style>\n",
       "<table border=\"1\" class=\"dataframe\">\n",
       "  <thead>\n",
       "    <tr style=\"text-align: right;\">\n",
       "      <th></th>\n",
       "      <th>COUNTRY</th>\n",
       "      <th>geometry</th>\n",
       "    </tr>\n",
       "  </thead>\n",
       "  <tbody>\n",
       "    <tr>\n",
       "      <th>0</th>\n",
       "      <td>Aruba (Netherlands)</td>\n",
       "      <td>POLYGON ((-69.88223 12.41111, -69.94695 12.436...</td>\n",
       "    </tr>\n",
       "    <tr>\n",
       "      <th>1</th>\n",
       "      <td>Antigua and Barbuda</td>\n",
       "      <td>MULTIPOLYGON (((-61.73889 17.54055, -61.75195 ...</td>\n",
       "    </tr>\n",
       "    <tr>\n",
       "      <th>2</th>\n",
       "      <td>Afghanistan</td>\n",
       "      <td>POLYGON ((61.27656 35.60725, 61.29638 35.62853...</td>\n",
       "    </tr>\n",
       "    <tr>\n",
       "      <th>3</th>\n",
       "      <td>Algeria</td>\n",
       "      <td>POLYGON ((-5.15213 30.18047, -5.13917 30.19236...</td>\n",
       "    </tr>\n",
       "    <tr>\n",
       "      <th>4</th>\n",
       "      <td>Azerbaijan</td>\n",
       "      <td>MULTIPOLYGON (((46.54037 38.87559, 46.49554 38...</td>\n",
       "    </tr>\n",
       "  </tbody>\n",
       "</table>\n",
       "</div>"
      ],
      "text/plain": [
       "               COUNTRY                                           geometry\n",
       "0  Aruba (Netherlands)  POLYGON ((-69.88223 12.41111, -69.94695 12.436...\n",
       "1  Antigua and Barbuda  MULTIPOLYGON (((-61.73889 17.54055, -61.75195 ...\n",
       "2          Afghanistan  POLYGON ((61.27656 35.60725, 61.29638 35.62853...\n",
       "3              Algeria  POLYGON ((-5.15213 30.18047, -5.13917 30.19236...\n",
       "4           Azerbaijan  MULTIPOLYGON (((46.54037 38.87559, 46.49554 38..."
      ]
     },
     "execution_count": 64,
     "metadata": {},
     "output_type": "execute_result"
    }
   ],
   "source": [
    "# set the filepath and load\n",
    "fp = 'world countries\\\\World_Countries.shp'\n",
    "#reading the file stored in variable fp\n",
    "map_df = gpd.read_file(fp)\n",
    "# check data type so we can see that this is not a normal dataframe, but a GEOdataframe\n",
    "map_df.head()"
   ]
  },
  {
   "cell_type": "code",
   "execution_count": 65,
   "metadata": {},
   "outputs": [
    {
     "data": {
      "text/plain": [
       "<matplotlib.axes._subplots.AxesSubplot at 0x125de548>"
      ]
     },
     "execution_count": 65,
     "metadata": {},
     "output_type": "execute_result"
    },
    {
     "data": {
      "image/png": "[encoded data removed]",
      "text/plain": [
       "<Figure size 432x288 with 1 Axes>"
      ]
     },
     "metadata": {
      "needs_background": "light"
     },
     "output_type": "display_data"
    }
   ],
   "source": [
    "map_df.plot()"
   ]
  },
  {
   "cell_type": "code",
   "execution_count": 66,
   "metadata": {},
   "outputs": [],
   "source": [
    "df = gpd.read_file(fp)"
   ]
  },
  {
   "cell_type": "code",
   "execution_count": 67,
   "metadata": {},
   "outputs": [
    {
     "data": {
      "text/html": [
       "<div>\n",
       "<style scoped>\n",
       "    .dataframe tbody tr th:only-of-type {\n",
       "        vertical-align: middle;\n",
       "    }\n",
       "\n",
       "    .dataframe tbody tr th {\n",
       "        vertical-align: top;\n",
       "    }\n",
       "\n",
       "    .dataframe thead th {\n",
       "        text-align: right;\n",
       "    }\n",
       "</style>\n",
       "<table border=\"1\" class=\"dataframe\">\n",
       "  <thead>\n",
       "    <tr style=\"text-align: right;\">\n",
       "      <th></th>\n",
       "      <th>COUNTRY</th>\n",
       "      <th>geometry</th>\n",
       "    </tr>\n",
       "  </thead>\n",
       "  <tbody>\n",
       "    <tr>\n",
       "      <th>0</th>\n",
       "      <td>Aruba (Netherlands)</td>\n",
       "      <td>POLYGON ((-69.88223 12.41111, -69.94695 12.436...</td>\n",
       "    </tr>\n",
       "    <tr>\n",
       "      <th>1</th>\n",
       "      <td>Antigua and Barbuda</td>\n",
       "      <td>MULTIPOLYGON (((-61.73889 17.54055, -61.75195 ...</td>\n",
       "    </tr>\n",
       "    <tr>\n",
       "      <th>2</th>\n",
       "      <td>Afghanistan</td>\n",
       "      <td>POLYGON ((61.27656 35.60725, 61.29638 35.62853...</td>\n",
       "    </tr>\n",
       "    <tr>\n",
       "      <th>3</th>\n",
       "      <td>Algeria</td>\n",
       "      <td>POLYGON ((-5.15213 30.18047, -5.13917 30.19236...</td>\n",
       "    </tr>\n",
       "    <tr>\n",
       "      <th>4</th>\n",
       "      <td>Azerbaijan</td>\n",
       "      <td>MULTIPOLYGON (((46.54037 38.87559, 46.49554 38...</td>\n",
       "    </tr>\n",
       "  </tbody>\n",
       "</table>\n",
       "</div>"
      ],
      "text/plain": [
       "               COUNTRY                                           geometry\n",
       "0  Aruba (Netherlands)  POLYGON ((-69.88223 12.41111, -69.94695 12.436...\n",
       "1  Antigua and Barbuda  MULTIPOLYGON (((-61.73889 17.54055, -61.75195 ...\n",
       "2          Afghanistan  POLYGON ((61.27656 35.60725, 61.29638 35.62853...\n",
       "3              Algeria  POLYGON ((-5.15213 30.18047, -5.13917 30.19236...\n",
       "4           Azerbaijan  MULTIPOLYGON (((46.54037 38.87559, 46.49554 38..."
      ]
     },
     "execution_count": 67,
     "metadata": {},
     "output_type": "execute_result"
    }
   ],
   "source": [
    "df.head()"
   ]
  },
  {
   "cell_type": "code",
   "execution_count": 68,
   "metadata": {},
   "outputs": [],
   "source": [
    "data_for_map = df.rename(index=str, columns={'COUNTRY': 'COUNTRY', 'geometry': 'geometry'})"
   ]
  },
  {
   "cell_type": "markdown",
   "metadata": {},
   "source": [
    "To be able to plot my df_plot with the shp file I have downloaded, I need to correct the spell.\n",
    "\n",
    "I have created the dictionary bellow:\n",
    " "
   ]
  },
  {
   "cell_type": "code",
   "execution_count": 69,
   "metadata": {},
   "outputs": [],
   "source": [
    "phd_dict = {'Afghanistan':'Afghanistan',\n",
    "'Albania':'Albania',\n",
    "'Algeria':'Algeria',\n",
    "'American Samoa':'American Samoa (US)',\n",
    "'Andorra':'Andorra',\n",
    "'Angola':'Angola',\n",
    "'Anguilla':'Anguilla (UK)',\n",
    "'Antigua and Barbuda':'Antigua and Barbuda',\n",
    "'Argentina':'Argentina',\n",
    "'Armenia':'Armenia',\n",
    "'Aruba':'Aruba (Netherlands)',\n",
    "'Australia':'Australia',\n",
    "'Austria':'Austria',\n",
    "'Azerbaijan':'Azerbaijan',\n",
    "'Bahamas':'Bahamas',\n",
    "'Bahrain':'Bahrain',\n",
    "'Bangladesh':'Bangladesh',\n",
    "'Barbados':'Barbados',\n",
    "'Belarus':'Belarus',\n",
    "'Belgium':'Belgium',\n",
    "'Belize':'Belize',\n",
    "'Benin':'Benin',\n",
    "'Bermuda':'Bermuda (UK)',\n",
    "'Bhutan':'Bhutan',\n",
    "'Bolivia':'Bolivia',\n",
    "'Bosnia and Herzegovina':'Bosnia and Herzegovina',\n",
    "'Botswana':'Botswana',\n",
    "'Brazil':'Brazil',\n",
    "'British Virgin Islands':'British Virgin Islands(UK)',\n",
    "'Brunei':'Brunei',\n",
    "'Bulgaria':'Bulgaria',\n",
    "'Burkina Faso':'Burkina Faso',\n",
    "'Burundi':'Burundi',\n",
    "'Cabo Verde':'Cape Verde',\n",
    "'Cambodia':'Cambodia',\n",
    "'Cameroon':'Cameroon',\n",
    "'Canada':'Canada',\n",
    "'Caribbean Netherlands':'Netherlands',\n",
    "'Cayman Islands':'Cayman Islands (UK)',\n",
    "'Central African Republic':'Central African Republic',\n",
    "'Chad':'Chad',\n",
    "'Channel Islands':'Channel Islands',\n",
    "'Chile':'Chile',\n",
    "'China':'China',\n",
    "'Colombia':'Colombia',\n",
    "'Comoros':'Comoros',\n",
    "'Congo':'Congo',\n",
    "'Cook Islands':'Cook Islands (New Zealand)',\n",
    "'Costa Rica':'Costa Rica',\n",
    "\"Côte d'Ivoire\":'Ivory Coast',\n",
    "'Croatia':'Croatia',\n",
    "'Cuba':'Cuba',\n",
    "'Curaçao':'Curacao (Netherlands)',\n",
    "'Cyprus':'Cyprus',\n",
    "'Czech Republic (Czechia)':'Czech Republic',\n",
    "'Denmark':'Denmark',\n",
    "'Djibouti':'Djibouti',\n",
    "'Dominica':'Dominica',\n",
    "'Dominican Republic':'Dominican Republic',\n",
    "'DR Congo':'Democratic Republic of the Congo',\n",
    "'Ecuador':'Ecuador',\n",
    "'Egypt':'Egypt',\n",
    "'El Salvador':'El Salvador',\n",
    "'Equatorial Guinea':'Equatorial Guinea',\n",
    "'Eritrea':'Eritrea',\n",
    "'Estonia':'Estonia',\n",
    "'Eswatini':'Swaziland',\n",
    "'Ethiopia':'Ethiopia',\n",
    "'Faeroe Islands':'Faroe Islands (Denmark)',\n",
    "'Falkland Islands':'Falkland Islands (UK)',\n",
    "'Fiji':'Fiji',\n",
    "'Finland':'Finland',\n",
    "'France':'France',\n",
    "'French Guiana':'French Guiana (France)',\n",
    "'French Polynesia':'French Polynesia (France)',\n",
    "'Gabon':'Gabon',\n",
    "'Gambia':'Gambia',\n",
    "'Georgia':'Georgia',\n",
    "'Germany':'Germany',\n",
    "'Ghana':'Ghana',\n",
    "'Gibraltar':'Gibraltar (UK)',\n",
    "'Greece':'Greece',\n",
    "'Greenland':'Greenland (Denmark)',\n",
    "'Grenada':'Grenada',\n",
    "'Guadeloupe':'Guadeloupe (France)',\n",
    "'Guam':'Guam (US)',\n",
    "'Guatemala':'Guatemala',\n",
    "'Guinea':'Guinea',\n",
    "'Guinea-Bissau':'Guinea-Bissau',\n",
    "'Guyana':'Guyana',\n",
    "'Haiti':'Haiti',\n",
    "'Holy See':'Holy See',\n",
    "'Honduras':'Honduras',\n",
    "'Hong Kong':'Hong Kong',\n",
    "'Hungary':'Hungary',\n",
    "'Iceland':'Iceland',\n",
    "'India':'India',\n",
    "'Indonesia':'Indonesia',\n",
    "'Iran':'Iran',\n",
    "'Iraq':'Iraq',\n",
    "'Ireland':'Ireland',\n",
    "'Isle of Man':'Isle of Man (UK)',\n",
    "'Israel':'Israel',\n",
    "'Italy':'Italy',\n",
    "'Jamaica':'Jamaica',\n",
    "'Japan':'Japan',\n",
    "'Jordan':'Jordan',\n",
    "'Kazakhstan':'Kazakhstan',\n",
    "'Kenya':'Kenya',\n",
    "'Kiribati':'Kiribati',\n",
    "'Kuwait':'Kuwait',\n",
    "'Kyrgyzstan':'Kyrgyzstan',\n",
    "'Laos':'Laos',\n",
    "'Latvia':'Latvia',\n",
    "'Lebanon':'Lebanon',\n",
    "'Lesotho':'Lesotho',\n",
    "'Liberia':'Liberia',\n",
    "'Libya':'Libya',\n",
    "'Liechtenstein':'Liechtenstein',\n",
    "'Lithuania':'Lithuania',\n",
    "'Luxembourg':'Luxembourg',\n",
    "'Macao':'Macao',\n",
    "'Madagascar':'Madagascar',\n",
    "'Malawi':'Malawi',\n",
    "'Malaysia':'Malaysia',\n",
    "'Maldives':'Maldives',\n",
    "'Mali':'Mali',\n",
    "'Malta':'Malta',\n",
    "'Marshall Islands':'Marshall Islands',\n",
    "'Martinique':'Martinique (France)',\n",
    "'Mauritania':'Mauritania',\n",
    "'Mauritius':'Mauritius',\n",
    "'Mayotte':'Mayotte (France)',\n",
    "'Mexico':'Mexico',\n",
    "'Micronesia':'Federated States of Micronesia',\n",
    "'Moldova':'Moldova',\n",
    "'Monaco':'Monaco',\n",
    "'Mongolia':'Mongolia',\n",
    "'Montenegro':'Montenegro',\n",
    "'Montserrat':'Montserrat',\n",
    "'Morocco':'Morocco',\n",
    "'Mozambique':'Mozambique',\n",
    "'Myanmar':'Myanmar',\n",
    "'Namibia':'Namibia',\n",
    "'Nauru':'Nauru',\n",
    "'Nepal':'Nepal',\n",
    "'Netherlands':'Netherlands',\n",
    "'New Caledonia':'New Caledonia (France)',\n",
    "'New Zealand':'New Zealand',\n",
    "'Nicaragua':'Nicaragua',\n",
    "'Niger':'Niger',\n",
    "'Nigeria':'Nigeria',\n",
    "'Niue':'Niue (New Zealand)',\n",
    "'North Korea':'North Korea',\n",
    "'North Macedonia':'Macedonia',\n",
    "'Northern Mariana Islands':'Northern Mariana Islands (US)',\n",
    "'Norway':'Norway',\n",
    "'Oman':'Oman',\n",
    "'Pakistan':'Pakistan',\n",
    "'Palau':'Palau (US)',\n",
    "'Panama':'Panama',\n",
    "'Papua New Guinea':'Papua New Guinea',\n",
    "'Paraguay':'Paraguay',\n",
    "'Peru':'Peru',\n",
    "'Philippines':'Philippines',\n",
    "'Poland':'Poland',\n",
    "'Portugal':'Portugal',\n",
    "'Puerto Rico':'Puerto Rico (US)',\n",
    "'Qatar':'Qatar',\n",
    "'Réunion':'Reunion (France)',\n",
    "'Romania':'Romania',\n",
    "'Russia':'Russia',\n",
    "'Rwanda':'Rwanda',\n",
    "'Saint Barthelemy':'Saint Barthelemy',\n",
    "'Saint Helena':'St. Helena (UK)',\n",
    "'Saint Kitts & Nevis':'St. Kitts and Nevis',\n",
    "'Saint Lucia':'St. Lucia',\n",
    "'Saint Martin':'Saint Martin',\n",
    "'Saint Pierre & Miquelon':'St. Pierre and Miquelon (France)',\n",
    "'Samoa':'Western Samoa',\n",
    "'San Marino':'San Marino',\n",
    "'Sao Tome & Principe':'Sao Tome and Principe',\n",
    "'Saudi Arabia':'Saudi Arabia',\n",
    "'Senegal':'Senegal',\n",
    "'Serbia':'Serbia',\n",
    "'Seychelles':'Seychelles',\n",
    "'Sierra Leone':'Sierra Leone',\n",
    "'Singapore':'Singapore',\n",
    "'Sint Maarten':'Sint Maarten',\n",
    "'Slovakia':'Slovakia',\n",
    "'Slovenia':'Slovenia',\n",
    "'Solomon Islands':'Solomon Islands',\n",
    "'Somalia':'Somalia',\n",
    "'South Africa':'South Africa',\n",
    "'South Korea':'South Korea',\n",
    "'South Sudan':'South Sudan',\n",
    "'Spain':'Spain',\n",
    "'Sri Lanka':'Sri Lanka',\n",
    "'St. Vincent & Grenadines':'St. Vincent and the Grenadines',\n",
    "'State of Palestine':'Palestine',\n",
    "'Sudan':'Sudan',\n",
    "'Suriname':'Suriname',\n",
    "'Sweden':'Sweden',\n",
    "'Switzerland':'Switzerland',\n",
    "'Syria':'Syria',\n",
    "'Taiwan':'Taiwan',\n",
    "'Tajikistan':'Tajikistan',\n",
    "'Tanzania':'Tanzania',\n",
    "'Thailand':'Thailand',\n",
    "'Timor-Leste':'East Timor',\n",
    "'Togo':'Togo',\n",
    "'Tokelau':'Tokelau (New Zealand)',\n",
    "'Tonga':'Tonga',\n",
    "'Trinidad and Tobago':'Trinidad and Tobago',\n",
    "'Tunisia':'Tunisia',\n",
    "'Turkey':'Turkey',\n",
    "'Turkmenistan':'Turkmenistan',\n",
    "'Turks and Caicos':'Turks and Caicos Islands (UK)',\n",
    "'Tuvalu':'Tuvalu',\n",
    "'U.S. Virgin Islands':'American Virgin Islands (US)',\n",
    "'Uganda':'Uganda',\n",
    "'Ukraine':'Ukraine',\n",
    "'United Arab Emirates':'United Arab Emirates',\n",
    "'United Kingdom':'United Kingdom',\n",
    "'United States':'United States',\n",
    "'Uruguay':'Uruguay',\n",
    "'Uzbekistan':'Uzbekistan',\n",
    "'Vanuatu':'Vanuatu',\n",
    "'Venezuela':'Venezuela',\n",
    "'Vietnam':'Vietnam',\n",
    "'Wallis & Futuna':'Wallis and Futuna (France)',\n",
    "'Western Sahara':'Western Sahara',\n",
    "'Yemen':'Yemen',\n",
    "'Zambia':'Zambia',\n",
    "'Zimbabwe':'Zimbabwe'}"
   ]
  },
  {
   "cell_type": "code",
   "execution_count": 70,
   "metadata": {},
   "outputs": [],
   "source": [
    "df_plot['Country_PHD']= df_plot['Country']\n",
    "df_plot['Country_PHD'].replace({'Country': phd_dict},  inplace = True)"
   ]
  },
  {
   "cell_type": "code",
   "execution_count": 71,
   "metadata": {},
   "outputs": [
    {
     "data": {
      "text/html": [
       "<div>\n",
       "<style scoped>\n",
       "    .dataframe tbody tr th:only-of-type {\n",
       "        vertical-align: middle;\n",
       "    }\n",
       "\n",
       "    .dataframe tbody tr th {\n",
       "        vertical-align: top;\n",
       "    }\n",
       "\n",
       "    .dataframe thead th {\n",
       "        text-align: right;\n",
       "    }\n",
       "</style>\n",
       "<table border=\"1\" class=\"dataframe\">\n",
       "  <thead>\n",
       "    <tr style=\"text-align: right;\">\n",
       "      <th></th>\n",
       "      <th>Country</th>\n",
       "      <th>Population</th>\n",
       "      <th>People_per_sqKm</th>\n",
       "      <th>Migrants</th>\n",
       "      <th>Avg_Age</th>\n",
       "      <th>Urban_Pop_perc</th>\n",
       "      <th>Free_healthcare</th>\n",
       "      <th>Total_Cases</th>\n",
       "      <th>Total_Deaths</th>\n",
       "      <th>Total_Recovered</th>\n",
       "      <th>Total_Tests</th>\n",
       "      <th>Age_Rank</th>\n",
       "      <th>Country_PHD</th>\n",
       "    </tr>\n",
       "  </thead>\n",
       "  <tbody>\n",
       "    <tr>\n",
       "      <th>0</th>\n",
       "      <td>China</td>\n",
       "      <td>1439323776</td>\n",
       "      <td>153</td>\n",
       "      <td>-348399.0</td>\n",
       "      <td>38.0</td>\n",
       "      <td>0.61</td>\n",
       "      <td>1.0</td>\n",
       "      <td>82919.0</td>\n",
       "      <td>4633.0</td>\n",
       "      <td>78171.0</td>\n",
       "      <td>NaN</td>\n",
       "      <td>35-40</td>\n",
       "      <td>China</td>\n",
       "    </tr>\n",
       "    <tr>\n",
       "      <th>1</th>\n",
       "      <td>India</td>\n",
       "      <td>1380004385</td>\n",
       "      <td>464</td>\n",
       "      <td>-532687.0</td>\n",
       "      <td>28.0</td>\n",
       "      <td>0.35</td>\n",
       "      <td>0.0</td>\n",
       "      <td>71369.0</td>\n",
       "      <td>2310.0</td>\n",
       "      <td>23033.0</td>\n",
       "      <td>1759579.0</td>\n",
       "      <td>&lt;=30</td>\n",
       "      <td>India</td>\n",
       "    </tr>\n",
       "    <tr>\n",
       "      <th>2</th>\n",
       "      <td>United States</td>\n",
       "      <td>331002651</td>\n",
       "      <td>36</td>\n",
       "      <td>954806.0</td>\n",
       "      <td>38.0</td>\n",
       "      <td>0.83</td>\n",
       "      <td>0.0</td>\n",
       "      <td>1385893.0</td>\n",
       "      <td>81796.0</td>\n",
       "      <td>262225.0</td>\n",
       "      <td>9619855.0</td>\n",
       "      <td>35-40</td>\n",
       "      <td>United States</td>\n",
       "    </tr>\n",
       "    <tr>\n",
       "      <th>3</th>\n",
       "      <td>Indonesia</td>\n",
       "      <td>273523615</td>\n",
       "      <td>151</td>\n",
       "      <td>-98955.0</td>\n",
       "      <td>30.0</td>\n",
       "      <td>0.56</td>\n",
       "      <td>0.0</td>\n",
       "      <td>14749.0</td>\n",
       "      <td>1007.0</td>\n",
       "      <td>3063.0</td>\n",
       "      <td>165128.0</td>\n",
       "      <td>&lt;=30</td>\n",
       "      <td>Indonesia</td>\n",
       "    </tr>\n",
       "    <tr>\n",
       "      <th>4</th>\n",
       "      <td>Pakistan</td>\n",
       "      <td>220892340</td>\n",
       "      <td>287</td>\n",
       "      <td>-233379.0</td>\n",
       "      <td>23.0</td>\n",
       "      <td>0.35</td>\n",
       "      <td>1.0</td>\n",
       "      <td>32674.0</td>\n",
       "      <td>724.0</td>\n",
       "      <td>8555.0</td>\n",
       "      <td>305851.0</td>\n",
       "      <td>&lt;=30</td>\n",
       "      <td>Pakistan</td>\n",
       "    </tr>\n",
       "  </tbody>\n",
       "</table>\n",
       "</div>"
      ],
      "text/plain": [
       "         Country  Population  People_per_sqKm  Migrants  Avg_Age  \\\n",
       "0          China  1439323776              153 -348399.0     38.0   \n",
       "1          India  1380004385              464 -532687.0     28.0   \n",
       "2  United States   331002651               36  954806.0     38.0   \n",
       "3      Indonesia   273523615              151  -98955.0     30.0   \n",
       "4       Pakistan   220892340              287 -233379.0     23.0   \n",
       "\n",
       "   Urban_Pop_perc  Free_healthcare  Total_Cases  Total_Deaths  \\\n",
       "0            0.61              1.0      82919.0        4633.0   \n",
       "1            0.35              0.0      71369.0        2310.0   \n",
       "2            0.83              0.0    1385893.0       81796.0   \n",
       "3            0.56              0.0      14749.0        1007.0   \n",
       "4            0.35              1.0      32674.0         724.0   \n",
       "\n",
       "   Total_Recovered  Total_Tests Age_Rank    Country_PHD  \n",
       "0          78171.0          NaN    35-40          China  \n",
       "1          23033.0    1759579.0     <=30          India  \n",
       "2         262225.0    9619855.0    35-40  United States  \n",
       "3           3063.0     165128.0     <=30      Indonesia  \n",
       "4           8555.0     305851.0     <=30       Pakistan  "
      ]
     },
     "execution_count": 71,
     "metadata": {},
     "output_type": "execute_result"
    }
   ],
   "source": [
    "df_plot.head()"
   ]
  },
  {
   "cell_type": "code",
   "execution_count": 72,
   "metadata": {},
   "outputs": [
    {
     "data": {
      "text/html": [
       "<div>\n",
       "<style scoped>\n",
       "    .dataframe tbody tr th:only-of-type {\n",
       "        vertical-align: middle;\n",
       "    }\n",
       "\n",
       "    .dataframe tbody tr th {\n",
       "        vertical-align: top;\n",
       "    }\n",
       "\n",
       "    .dataframe thead th {\n",
       "        text-align: right;\n",
       "    }\n",
       "</style>\n",
       "<table border=\"1\" class=\"dataframe\">\n",
       "  <thead>\n",
       "    <tr style=\"text-align: right;\">\n",
       "      <th></th>\n",
       "      <th>Country</th>\n",
       "      <th>Population</th>\n",
       "      <th>People_per_sqKm</th>\n",
       "      <th>Migrants</th>\n",
       "      <th>Avg_Age</th>\n",
       "      <th>Urban_Pop_perc</th>\n",
       "      <th>Free_healthcare</th>\n",
       "      <th>Total_Cases</th>\n",
       "      <th>Total_Deaths</th>\n",
       "      <th>Total_Recovered</th>\n",
       "      <th>...</th>\n",
       "      <th>Age_Rank</th>\n",
       "      <th>Country_PHD</th>\n",
       "      <th>Cases per 1M P</th>\n",
       "      <th>Tests per 1M P</th>\n",
       "      <th>Deaths per 1M P</th>\n",
       "      <th>Recovered per 1M P</th>\n",
       "      <th>Positives Rate</th>\n",
       "      <th>Case Fatality Rate</th>\n",
       "      <th>Case Recovery Rate</th>\n",
       "      <th>Active Cases Rate</th>\n",
       "    </tr>\n",
       "  </thead>\n",
       "  <tbody>\n",
       "    <tr>\n",
       "      <th>0</th>\n",
       "      <td>China</td>\n",
       "      <td>1439323776</td>\n",
       "      <td>153</td>\n",
       "      <td>-348399.0</td>\n",
       "      <td>38.0</td>\n",
       "      <td>0.61</td>\n",
       "      <td>1.0</td>\n",
       "      <td>82919.0</td>\n",
       "      <td>4633.0</td>\n",
       "      <td>78171.0</td>\n",
       "      <td>...</td>\n",
       "      <td>35-40</td>\n",
       "      <td>China</td>\n",
       "      <td>57.609692</td>\n",
       "      <td>NaN</td>\n",
       "      <td>3.218873</td>\n",
       "      <td>54.310921</td>\n",
       "      <td>NaN</td>\n",
       "      <td>5.587380</td>\n",
       "      <td>94.273930</td>\n",
       "      <td>0.138690</td>\n",
       "    </tr>\n",
       "    <tr>\n",
       "      <th>1</th>\n",
       "      <td>India</td>\n",
       "      <td>1380004385</td>\n",
       "      <td>464</td>\n",
       "      <td>-532687.0</td>\n",
       "      <td>28.0</td>\n",
       "      <td>0.35</td>\n",
       "      <td>0.0</td>\n",
       "      <td>71369.0</td>\n",
       "      <td>2310.0</td>\n",
       "      <td>23033.0</td>\n",
       "      <td>...</td>\n",
       "      <td>&lt;=30</td>\n",
       "      <td>India</td>\n",
       "      <td>51.716502</td>\n",
       "      <td>1275.053195</td>\n",
       "      <td>1.673908</td>\n",
       "      <td>16.690527</td>\n",
       "      <td>4.056027</td>\n",
       "      <td>3.236699</td>\n",
       "      <td>32.273116</td>\n",
       "      <td>64.490185</td>\n",
       "    </tr>\n",
       "    <tr>\n",
       "      <th>2</th>\n",
       "      <td>United States</td>\n",
       "      <td>331002651</td>\n",
       "      <td>36</td>\n",
       "      <td>954806.0</td>\n",
       "      <td>38.0</td>\n",
       "      <td>0.83</td>\n",
       "      <td>0.0</td>\n",
       "      <td>1385893.0</td>\n",
       "      <td>81796.0</td>\n",
       "      <td>262225.0</td>\n",
       "      <td>...</td>\n",
       "      <td>35-40</td>\n",
       "      <td>United States</td>\n",
       "      <td>4186.954382</td>\n",
       "      <td>29062.773277</td>\n",
       "      <td>247.115846</td>\n",
       "      <td>792.214199</td>\n",
       "      <td>14.406589</td>\n",
       "      <td>5.902043</td>\n",
       "      <td>18.921013</td>\n",
       "      <td>75.176944</td>\n",
       "    </tr>\n",
       "    <tr>\n",
       "      <th>3</th>\n",
       "      <td>Indonesia</td>\n",
       "      <td>273523615</td>\n",
       "      <td>151</td>\n",
       "      <td>-98955.0</td>\n",
       "      <td>30.0</td>\n",
       "      <td>0.56</td>\n",
       "      <td>0.0</td>\n",
       "      <td>14749.0</td>\n",
       "      <td>1007.0</td>\n",
       "      <td>3063.0</td>\n",
       "      <td>...</td>\n",
       "      <td>&lt;=30</td>\n",
       "      <td>Indonesia</td>\n",
       "      <td>53.922218</td>\n",
       "      <td>603.706557</td>\n",
       "      <td>3.681583</td>\n",
       "      <td>11.198302</td>\n",
       "      <td>8.931859</td>\n",
       "      <td>6.827582</td>\n",
       "      <td>20.767510</td>\n",
       "      <td>72.404909</td>\n",
       "    </tr>\n",
       "    <tr>\n",
       "      <th>4</th>\n",
       "      <td>Pakistan</td>\n",
       "      <td>220892340</td>\n",
       "      <td>287</td>\n",
       "      <td>-233379.0</td>\n",
       "      <td>23.0</td>\n",
       "      <td>0.35</td>\n",
       "      <td>1.0</td>\n",
       "      <td>32674.0</td>\n",
       "      <td>724.0</td>\n",
       "      <td>8555.0</td>\n",
       "      <td>...</td>\n",
       "      <td>&lt;=30</td>\n",
       "      <td>Pakistan</td>\n",
       "      <td>147.918212</td>\n",
       "      <td>1384.615691</td>\n",
       "      <td>3.277615</td>\n",
       "      <td>38.729274</td>\n",
       "      <td>10.682980</td>\n",
       "      <td>2.215829</td>\n",
       "      <td>26.182898</td>\n",
       "      <td>71.601273</td>\n",
       "    </tr>\n",
       "  </tbody>\n",
       "</table>\n",
       "<p>5 rows × 21 columns</p>\n",
       "</div>"
      ],
      "text/plain": [
       "         Country  Population  People_per_sqKm  Migrants  Avg_Age  \\\n",
       "0          China  1439323776              153 -348399.0     38.0   \n",
       "1          India  1380004385              464 -532687.0     28.0   \n",
       "2  United States   331002651               36  954806.0     38.0   \n",
       "3      Indonesia   273523615              151  -98955.0     30.0   \n",
       "4       Pakistan   220892340              287 -233379.0     23.0   \n",
       "\n",
       "   Urban_Pop_perc  Free_healthcare  Total_Cases  Total_Deaths  \\\n",
       "0            0.61              1.0      82919.0        4633.0   \n",
       "1            0.35              0.0      71369.0        2310.0   \n",
       "2            0.83              0.0    1385893.0       81796.0   \n",
       "3            0.56              0.0      14749.0        1007.0   \n",
       "4            0.35              1.0      32674.0         724.0   \n",
       "\n",
       "   Total_Recovered  ...  Age_Rank    Country_PHD Cases per 1M P  \\\n",
       "0          78171.0  ...     35-40          China      57.609692   \n",
       "1          23033.0  ...      <=30          India      51.716502   \n",
       "2         262225.0  ...     35-40  United States    4186.954382   \n",
       "3           3063.0  ...      <=30      Indonesia      53.922218   \n",
       "4           8555.0  ...      <=30       Pakistan     147.918212   \n",
       "\n",
       "   Tests per 1M P  Deaths per 1M P  Recovered per 1M P  Positives Rate  \\\n",
       "0             NaN         3.218873           54.310921             NaN   \n",
       "1     1275.053195         1.673908           16.690527        4.056027   \n",
       "2    29062.773277       247.115846          792.214199       14.406589   \n",
       "3      603.706557         3.681583           11.198302        8.931859   \n",
       "4     1384.615691         3.277615           38.729274       10.682980   \n",
       "\n",
       "   Case Fatality Rate  Case Recovery Rate  Active Cases Rate  \n",
       "0            5.587380           94.273930           0.138690  \n",
       "1            3.236699           32.273116          64.490185  \n",
       "2            5.902043           18.921013          75.176944  \n",
       "3            6.827582           20.767510          72.404909  \n",
       "4            2.215829           26.182898          71.601273  \n",
       "\n",
       "[5 rows x 21 columns]"
      ]
     },
     "execution_count": 72,
     "metadata": {},
     "output_type": "execute_result"
    }
   ],
   "source": [
    "df_geo = pd.DataFrame()\n",
    "df_geo = rate_df(df_plot)\n",
    "df_geo.head()"
   ]
  },
  {
   "cell_type": "code",
   "execution_count": 73,
   "metadata": {},
   "outputs": [],
   "source": [
    "merged = map_df.set_index('COUNTRY').join(df_geo.set_index('Country_PHD'))#joining the dataframes"
   ]
  },
  {
   "cell_type": "code",
   "execution_count": 74,
   "metadata": {},
   "outputs": [
    {
     "data": {
      "text/plain": [
       "geometry              geometry\n",
       "Country                 object\n",
       "Population             float64\n",
       "People_per_sqKm        float64\n",
       "Migrants               float64\n",
       "Avg_Age                float64\n",
       "Urban_Pop_perc         float64\n",
       "Free_healthcare        float64\n",
       "Total_Cases            float64\n",
       "Total_Deaths           float64\n",
       "Total_Recovered        float64\n",
       "Total_Tests            float64\n",
       "Age_Rank                object\n",
       "Cases per 1M P         float64\n",
       "Tests per 1M P         float64\n",
       "Deaths per 1M P        float64\n",
       "Recovered per 1M P     float64\n",
       "Positives Rate         float64\n",
       "Case Fatality Rate     float64\n",
       "Case Recovery Rate     float64\n",
       "Active Cases Rate      float64\n",
       "dtype: object"
      ]
     },
     "execution_count": 74,
     "metadata": {},
     "output_type": "execute_result"
    }
   ],
   "source": [
    "merged.dtypes"
   ]
  },
  {
   "cell_type": "code",
   "execution_count": 75,
   "metadata": {},
   "outputs": [],
   "source": [
    "def geo_plot(df, column_rep, color_map='BuGn', legend=False):\n",
    "    \"\"\"function to plot a worldmap\n",
    "    INPUT: \n",
    "    Dataframe\n",
    "    column to show\n",
    "    color\n",
    "    show the legend?\n",
    "    OUTPUT the fig and axis\"\"\"\n",
    "    \n",
    "    fig, ax = plt.subplots(1, figsize=(10, 6))\n",
    "    ax.axis('off')\n",
    "    variable = column_rep# set the range for the choropleth\n",
    "    df.plot(column=variable, cmap=color_map, linewidth=0.8, ax=ax, edgecolor='0.8', legend=legend)\n",
    "    return fig, ax \n",
    "\n",
    "def save_pic(fig, ax, title,source,color_map='BuGn'):\n",
    "    \"\"\"function to save the map\n",
    "    INPUT: \n",
    "    previous fix and axis\n",
    "    title of the chart\n",
    "    source \n",
    "    color\n",
    "    OUTPUT you save the picture\"\"\"\n",
    "    vmin, vmax = 120, 220# create figure and axes for Matplotlib\n",
    "    ax.set_title(title, fontdict={'fontsize': '25', 'fontweight' : '3'})# create an annotation for the data source\n",
    "    ax.annotate('Source: {}'.format(source),xy=(0.1, .08), xycoords='figure fraction', horizontalalignment='left', verticalalignment='top', fontsize=12, color='#555555')\n",
    "    sm = plt.cm.ScalarMappable(cmap=color_map, norm=plt.Normalize(vmin=vmin, vmax=vmax))# empty array for the data range\n",
    "    sm._A = []# add the colorbar to the figure\n",
    "    return fig.savefig('pics created\\\\map_export_{}.png'.format(title), dpi=300)\n",
    "    "
   ]
  },
  {
   "cell_type": "markdown",
   "metadata": {},
   "source": [
    "I will use insight below to show th countries with free healtcare policies"
   ]
  },
  {
   "cell_type": "code",
   "execution_count": 76,
   "metadata": {},
   "outputs": [
    {
     "name": "stderr",
     "output_type": "stream",
     "text": [
      "C:\\Users\\cvila\\Anaconda3\\lib\\site-packages\\matplotlib\\colors.py:527: RuntimeWarning: invalid value encountered in less\n",
      "  xa[xa < 0] = -1\n"
     ]
    },
    {
     "data": {
      "image/png": "[encoded data removed]",
      "text/plain": [
       "<Figure size 720x432 with 1 Axes>"
      ]
     },
     "metadata": {
      "needs_background": "light"
     },
     "output_type": "display_data"
    }
   ],
   "source": [
    "fig, ax = geo_plot(merged,'Free_healthcare')\n",
    "save_fhplot = save_pic(fig, ax, 'Countries with Free Healthcare policies','worldpopulationreview.com')"
   ]
  },
  {
   "cell_type": "markdown",
   "metadata": {},
   "source": [
    "We can see that Spain is terribly suffering the worst consequences of the virus"
   ]
  },
  {
   "cell_type": "code",
   "execution_count": 77,
   "metadata": {},
   "outputs": [
    {
     "name": "stderr",
     "output_type": "stream",
     "text": [
      "C:\\Users\\cvila\\Anaconda3\\lib\\site-packages\\matplotlib\\colors.py:527: RuntimeWarning: invalid value encountered in less\n",
      "  xa[xa < 0] = -1\n"
     ]
    },
    {
     "data": {
      "image/png": "[encoded data removed]",
      "text/plain": [
       "<Figure size 720x432 with 2 Axes>"
      ]
     },
     "metadata": {
      "needs_background": "light"
     },
     "output_type": "display_data"
    }
   ],
   "source": [
    "fig, ax = geo_plot(merged,'Deaths per 1M P', 'OrRd', True)\n",
    "save_fhplot = save_pic(fig, ax, 'Deaths per million of inhabitants','worldometers','OrRd')\n",
    "\n"
   ]
  },
  {
   "cell_type": "markdown",
   "metadata": {},
   "source": [
    "Wr can see in yellow the countries in a starting phase of the Virus pandemic"
   ]
  },
  {
   "cell_type": "code",
   "execution_count": 78,
   "metadata": {},
   "outputs": [
    {
     "name": "stderr",
     "output_type": "stream",
     "text": [
      "C:\\Users\\cvila\\Anaconda3\\lib\\site-packages\\matplotlib\\colors.py:527: RuntimeWarning: invalid value encountered in less\n",
      "  xa[xa < 0] = -1\n"
     ]
    },
    {
     "data": {
      "image/png": "[encoded data removed]",
      "text/plain": [
       "<Figure size 720x432 with 2 Axes>"
      ]
     },
     "metadata": {
      "needs_background": "light"
     },
     "output_type": "display_data"
    }
   ],
   "source": [
    "fig, ax = geo_plot(merged,'Active Cases Rate', 'summer', True)\n",
    "save_fhplot = save_pic(fig, ax, 'Active Cases rate','worldometers','summer')\n",
    "\n"
   ]
  },
  {
   "cell_type": "markdown",
   "metadata": {},
   "source": [
    "This picture is also self explanatory"
   ]
  },
  {
   "cell_type": "code",
   "execution_count": 79,
   "metadata": {},
   "outputs": [
    {
     "name": "stderr",
     "output_type": "stream",
     "text": [
      "C:\\Users\\cvila\\Anaconda3\\lib\\site-packages\\matplotlib\\colors.py:527: RuntimeWarning: invalid value encountered in less\n",
      "  xa[xa < 0] = -1\n"
     ]
    },
    {
     "data": {
      "image/png": "[encoded data removed]",
      "text/plain": [
       "<Figure size 720x432 with 2 Axes>"
      ]
     },
     "metadata": {
      "needs_background": "light"
     },
     "output_type": "display_data"
    }
   ],
   "source": [
    "fig, ax = geo_plot(merged,'Case Fatality Rate', 'rainbow', True)\n",
    "save_fhplot = save_pic(fig, ax, 'Case Fatality Rate','worldometers','rainbow')"
   ]
  },
  {
   "cell_type": "markdown",
   "metadata": {},
   "source": [
    "There are many countries in violet colors, that they ar not providing any information about the performed test. THis map does not show much..."
   ]
  },
  {
   "cell_type": "code",
   "execution_count": 80,
   "metadata": {},
   "outputs": [
    {
     "name": "stderr",
     "output_type": "stream",
     "text": [
      "C:\\Users\\cvila\\Anaconda3\\lib\\site-packages\\matplotlib\\colors.py:527: RuntimeWarning: invalid value encountered in less\n",
      "  xa[xa < 0] = -1\n"
     ]
    },
    {
     "data": {
      "image/png": "[encoded data removed]",
      "text/plain": [
       "<Figure size 720x432 with 2 Axes>"
      ]
     },
     "metadata": {
      "needs_background": "light"
     },
     "output_type": "display_data"
    }
   ],
   "source": [
    "fig, ax = geo_plot(merged,'Positives Rate', 'rainbow', True)\n",
    "save_fhplot = save_pic(fig, ax, 'Positives Rate','worldometers','rainbow')\n",
    "\n",
    "\n"
   ]
  },
  {
   "cell_type": "markdown",
   "metadata": {},
   "source": [
    "I hope you have enjoyed discovering the information behind the COVID-19 data.\n",
    "Bye!"
   ]
  },
  {
   "cell_type": "code",
   "execution_count": null,
   "metadata": {},
   "outputs": [],
   "source": []
  }
 ],
 "metadata": {
  "celltoolbar": "Raw Cell Format",
  "kernelspec": {
   "display_name": "Python 3",
   "language": "python",
   "name": "python3"
  },
  "language_info": {
   "codemirror_mode": {
    "name": "ipython",
    "version": 3
   },
   "file_extension": ".py",
   "mimetype": "text/x-python",
   "name": "python",
   "nbconvert_exporter": "python",
   "pygments_lexer": "ipython3",
   "version": "3.7.7"
  },
  "toc": {
   "base_numbering": 1,
   "nav_menu": {},
   "number_sections": true,
   "sideBar": true,
   "skip_h1_title": false,
   "title_cell": "Table of Contents",
   "title_sidebar": "Contents",
   "toc_cell": false,
   "toc_position": {},
   "toc_section_display": true,
   "toc_window_display": false
  }
 },
 "nbformat": 4,
 "nbformat_minor": 4
}
